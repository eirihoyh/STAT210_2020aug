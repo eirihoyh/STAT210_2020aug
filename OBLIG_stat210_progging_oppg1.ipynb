{
 "cells": [
  {
   "cell_type": "markdown",
   "metadata": {},
   "source": [
    "# Oppg 1, Listeria"
   ]
  },
  {
   "cell_type": "code",
   "execution_count": 1,
   "metadata": {},
   "outputs": [],
   "source": [
    "import pandas as pd\n",
    "import statsmodels.api as sm\n",
    "from statsmodels.formula.api import ols\n",
    "from statsmodels.formula.api import mixedlm\n",
    "import researchpy as rp\n",
    "import scipy.stats as stats"
   ]
  },
  {
   "cell_type": "markdown",
   "metadata": {},
   "source": [
    "## 1a)"
   ]
  },
  {
   "cell_type": "code",
   "execution_count": 2,
   "metadata": {},
   "outputs": [],
   "source": [
    "listeria = pd.read_csv('Listeria.csv', sep=';')"
   ]
  },
  {
   "cell_type": "code",
   "execution_count": 3,
   "metadata": {
    "scrolled": true
   },
   "outputs": [
    {
     "name": "stdout",
     "output_type": "stream",
     "text": [
      "\n",
      "\n"
     ]
    },
    {
     "data": {
      "text/html": [
       "<div>\n",
       "<style scoped>\n",
       "    .dataframe tbody tr th:only-of-type {\n",
       "        vertical-align: middle;\n",
       "    }\n",
       "\n",
       "    .dataframe tbody tr th {\n",
       "        vertical-align: top;\n",
       "    }\n",
       "\n",
       "    .dataframe thead th {\n",
       "        text-align: right;\n",
       "    }\n",
       "</style>\n",
       "<table border=\"1\" class=\"dataframe\">\n",
       "  <thead>\n",
       "    <tr style=\"text-align: right;\">\n",
       "      <th></th>\n",
       "      <th>N</th>\n",
       "      <th>Mean</th>\n",
       "      <th>SD</th>\n",
       "      <th>SE</th>\n",
       "      <th>95% Conf.</th>\n",
       "      <th>Interval</th>\n",
       "    </tr>\n",
       "    <tr>\n",
       "      <th>HamTopping</th>\n",
       "      <th></th>\n",
       "      <th></th>\n",
       "      <th></th>\n",
       "      <th></th>\n",
       "      <th></th>\n",
       "      <th></th>\n",
       "    </tr>\n",
       "  </thead>\n",
       "  <tbody>\n",
       "    <tr>\n",
       "      <th>HamT1</th>\n",
       "      <td>8</td>\n",
       "      <td>204850.0</td>\n",
       "      <td>3.149049e+05</td>\n",
       "      <td>1.113357e+05</td>\n",
       "      <td>-5.841711e+04</td>\n",
       "      <td>4.681171e+05</td>\n",
       "    </tr>\n",
       "    <tr>\n",
       "      <th>HamT2</th>\n",
       "      <td>8</td>\n",
       "      <td>99850.0</td>\n",
       "      <td>1.428349e+05</td>\n",
       "      <td>5.049978e+04</td>\n",
       "      <td>-1.956300e+04</td>\n",
       "      <td>2.192630e+05</td>\n",
       "    </tr>\n",
       "    <tr>\n",
       "      <th>HamT3</th>\n",
       "      <td>8</td>\n",
       "      <td>263125.0</td>\n",
       "      <td>2.827746e+05</td>\n",
       "      <td>9.997591e+04</td>\n",
       "      <td>2.671955e+04</td>\n",
       "      <td>4.995305e+05</td>\n",
       "    </tr>\n",
       "    <tr>\n",
       "      <th>HamT4</th>\n",
       "      <td>8</td>\n",
       "      <td>4445762.5</td>\n",
       "      <td>3.147114e+06</td>\n",
       "      <td>1.112673e+06</td>\n",
       "      <td>1.814710e+06</td>\n",
       "      <td>7.076815e+06</td>\n",
       "    </tr>\n",
       "    <tr>\n",
       "      <th>HamT5</th>\n",
       "      <td>8</td>\n",
       "      <td>50037.5</td>\n",
       "      <td>8.289840e+04</td>\n",
       "      <td>2.930901e+04</td>\n",
       "      <td>-1.926730e+04</td>\n",
       "      <td>1.193423e+05</td>\n",
       "    </tr>\n",
       "    <tr>\n",
       "      <th>HamT6</th>\n",
       "      <td>8</td>\n",
       "      <td>4270362.5</td>\n",
       "      <td>6.685132e+06</td>\n",
       "      <td>2.363551e+06</td>\n",
       "      <td>-1.318548e+06</td>\n",
       "      <td>9.859273e+06</td>\n",
       "    </tr>\n",
       "  </tbody>\n",
       "</table>\n",
       "</div>"
      ],
      "text/plain": [
       "            N       Mean            SD            SE     95% Conf.  \\\n",
       "HamTopping                                                           \n",
       "HamT1       8   204850.0  3.149049e+05  1.113357e+05 -5.841711e+04   \n",
       "HamT2       8    99850.0  1.428349e+05  5.049978e+04 -1.956300e+04   \n",
       "HamT3       8   263125.0  2.827746e+05  9.997591e+04  2.671955e+04   \n",
       "HamT4       8  4445762.5  3.147114e+06  1.112673e+06  1.814710e+06   \n",
       "HamT5       8    50037.5  8.289840e+04  2.930901e+04 -1.926730e+04   \n",
       "HamT6       8  4270362.5  6.685132e+06  2.363551e+06 -1.318548e+06   \n",
       "\n",
       "                Interval  \n",
       "HamTopping                \n",
       "HamT1       4.681171e+05  \n",
       "HamT2       2.192630e+05  \n",
       "HamT3       4.995305e+05  \n",
       "HamT4       7.076815e+06  \n",
       "HamT5       1.193423e+05  \n",
       "HamT6       9.859273e+06  "
      ]
     },
     "execution_count": 3,
     "metadata": {},
     "output_type": "execute_result"
    }
   ],
   "source": [
    "summary_listeria = rp.summary_cont(listeria.groupby(['HamTopping'])['ListeriaNumber'])\n",
    "model = mixedlm('ListeriaNumber~ C(HamTopping)',groups='HamTopping', data=listeria).fit()\n",
    "summary_listeria"
   ]
  },
  {
   "cell_type": "code",
   "execution_count": 4,
   "metadata": {},
   "outputs": [
    {
     "data": {
      "text/html": [
       "<div>\n",
       "<style scoped>\n",
       "    .dataframe tbody tr th:only-of-type {\n",
       "        vertical-align: middle;\n",
       "    }\n",
       "\n",
       "    .dataframe tbody tr th {\n",
       "        vertical-align: top;\n",
       "    }\n",
       "\n",
       "    .dataframe thead th {\n",
       "        text-align: right;\n",
       "    }\n",
       "</style>\n",
       "<table border=\"1\" class=\"dataframe\">\n",
       "  <thead>\n",
       "    <tr style=\"text-align: right;\">\n",
       "      <th></th>\n",
       "      <th>df</th>\n",
       "      <th>sum_sq</th>\n",
       "      <th>mean_sq</th>\n",
       "      <th>F</th>\n",
       "      <th>PR(&gt;F)</th>\n",
       "    </tr>\n",
       "  </thead>\n",
       "  <tbody>\n",
       "    <tr>\n",
       "      <th>C(HamTopping)</th>\n",
       "      <td>5.0</td>\n",
       "      <td>1.888313e+14</td>\n",
       "      <td>3.776627e+13</td>\n",
       "      <td>4.134863</td>\n",
       "      <td>0.003826</td>\n",
       "    </tr>\n",
       "    <tr>\n",
       "      <th>Residual</th>\n",
       "      <td>42.0</td>\n",
       "      <td>3.836120e+14</td>\n",
       "      <td>9.133620e+12</td>\n",
       "      <td>NaN</td>\n",
       "      <td>NaN</td>\n",
       "    </tr>\n",
       "  </tbody>\n",
       "</table>\n",
       "</div>"
      ],
      "text/plain": [
       "                 df        sum_sq       mean_sq         F    PR(>F)\n",
       "C(HamTopping)   5.0  1.888313e+14  3.776627e+13  4.134863  0.003826\n",
       "Residual       42.0  3.836120e+14  9.133620e+12       NaN       NaN"
      ]
     },
     "execution_count": 4,
     "metadata": {},
     "output_type": "execute_result"
    }
   ],
   "source": [
    "model_4_anova = ols('ListeriaNumber ~ C(HamTopping)', data=listeria).fit()\n",
    "anova_table = sm.stats.anova_lm(model_4_anova)\n",
    "anova_table"
   ]
  },
  {
   "cell_type": "code",
   "execution_count": 5,
   "metadata": {},
   "outputs": [
    {
     "name": "stdout",
     "output_type": "stream",
     "text": [
      "Med et signifikansnivå på 0.05, får vi en f_alpha på 2.438.\n",
      "F0 er på 4.135\n",
      "Dermed så blir forkastning = True\n"
     ]
    }
   ],
   "source": [
    "ms_tr = anova_table['mean_sq'][0]\n",
    "ms_e = anova_table['mean_sq'][1]\n",
    "F0 = ms_tr/ms_e\n",
    "df_tr = anova_table['df'][0]\n",
    "df_e = anova_table['df'][1]\n",
    "alpha = 0.05\n",
    "f_alpha = stats.f.ppf(1-alpha, df_tr, df_e)\n",
    "print(f'Med et signifikansnivå på {alpha}, får vi en f_alpha på {round(f_alpha, 3)}.\\n'\n",
    "     f'F0 er på {round(F0,3)}\\n'\n",
    "     f'Dermed så blir forkastning = {F0 > f_alpha}')"
   ]
  },
  {
   "cell_type": "code",
   "execution_count": 6,
   "metadata": {},
   "outputs": [
    {
     "data": {
      "text/plain": [
       "[<matplotlib.lines.Line2D at 0x230b3848808>]"
      ]
     },
     "execution_count": 6,
     "metadata": {},
     "output_type": "execute_result"
    },
    {
     "data": {
      "image/png": "[encoded data removed]",
      "text/plain": [
       "<Figure size 432x288 with 1 Axes>"
      ]
     },
     "metadata": {
      "needs_background": "light"
     },
     "output_type": "display_data"
    }
   ],
   "source": [
    "import matplotlib.pyplot as plt\n",
    "plt.plot(listeria['ListeriaNumber'], 'ro')"
   ]
  },
  {
   "cell_type": "markdown",
   "metadata": {},
   "source": [
    "## Oppg 1d)"
   ]
  },
  {
   "cell_type": "markdown",
   "metadata": {},
   "source": [
    "#### Enkel logtransoformering ved å kopiere datasettet og bruke numpy.log for å få narurlig logaritmer"
   ]
  },
  {
   "cell_type": "code",
   "execution_count": 7,
   "metadata": {},
   "outputs": [],
   "source": [
    "import numpy as np\n",
    "ln_listeria = listeria.copy()\n",
    "ln_listeria['ListeriaNumber'] = np.log(ln_listeria['ListeriaNumber'])"
   ]
  },
  {
   "cell_type": "markdown",
   "metadata": {},
   "source": [
    "#### Her ser vi hvordan det gamle (øverst) kontra det nye (nederst) ser ut"
   ]
  },
  {
   "cell_type": "code",
   "execution_count": 8,
   "metadata": {},
   "outputs": [
    {
     "name": "stdout",
     "output_type": "stream",
     "text": [
      "   ListeriaNumber HamTopping\n",
      "0           24100      HamT1\n",
      "1          120000      HamT1\n",
      "2          961100      HamT1\n",
      "3           17100      HamT1\n",
      "4           81000      HamT1\n",
      "   ListeriaNumber HamTopping\n",
      "0       10.089967      HamT1\n",
      "1       11.695247      HamT1\n",
      "2       13.775834      HamT1\n",
      "3        9.746834      HamT1\n",
      "4       11.302204      HamT1\n"
     ]
    }
   ],
   "source": [
    "print(listeria.head())\n",
    "print(ln_listeria.head())"
   ]
  },
  {
   "cell_type": "markdown",
   "metadata": {},
   "source": [
    "## oppg 1e)"
   ]
  },
  {
   "cell_type": "code",
   "execution_count": 9,
   "metadata": {},
   "outputs": [
    {
     "data": {
      "text/plain": [
       "[<matplotlib.lines.Line2D at 0x230b38f4f08>]"
      ]
     },
     "execution_count": 9,
     "metadata": {},
     "output_type": "execute_result"
    },
    {
     "data": {
      "image/png": "[encoded data removed]",
      "text/plain": [
       "<Figure size 432x288 with 1 Axes>"
      ]
     },
     "metadata": {
      "needs_background": "light"
     },
     "output_type": "display_data"
    }
   ],
   "source": [
    "import matplotlib.pyplot as plt\n",
    "plt.plot(ln_listeria['ListeriaNumber'], 'ro')"
   ]
  },
  {
   "cell_type": "markdown",
   "metadata": {},
   "source": [
    "## oppg 1f)"
   ]
  },
  {
   "cell_type": "markdown",
   "metadata": {},
   "source": [
    "### H0: sigma_t2 = 0, Ha: sigma_t2 > 0"
   ]
  },
  {
   "cell_type": "code",
   "execution_count": 10,
   "metadata": {},
   "outputs": [],
   "source": [
    "import scipy.stats as stats"
   ]
  },
  {
   "cell_type": "code",
   "execution_count": 19,
   "metadata": {},
   "outputs": [
    {
     "name": "stdout",
     "output_type": "stream",
     "text": [
      "                 df      sum_sq    mean_sq          F    PR(>F)\n",
      "C(HamTopping)   5.0  147.149539  29.429908  10.532437  0.000001\n",
      "Residual       42.0  117.357092   2.794216        NaN       NaN\n"
     ]
    }
   ],
   "source": [
    "model_4_anova = ols('ListeriaNumber ~ C(HamTopping)', data=ln_listeria).fit()\n",
    "ln_anova_table = sm.stats.anova_lm(model_4_anova)\n",
    "print(ln_anova_table)\n"
   ]
  },
  {
   "cell_type": "code",
   "execution_count": 20,
   "metadata": {},
   "outputs": [
    {
     "name": "stdout",
     "output_type": "stream",
     "text": [
      "Med et signifikansnivå på 0.05, får vi en f_alpha på 2.438.\n",
      "F0 er på 10.532\n",
      "Dermed så blir forkastning = True\n"
     ]
    }
   ],
   "source": [
    "ms_tr = ln_anova_table['mean_sq'][0]\n",
    "ms_e = ln_anova_table['mean_sq'][1]\n",
    "F0 = ms_tr/ms_e\n",
    "df_tr = ln_anova_table['df'][0]\n",
    "df_e = ln_anova_table['df'][1]\n",
    "alpha = 0.05\n",
    "f_alpha = stats.f.ppf(1-alpha, df_tr, df_e)\n",
    "print(f'Med et signifikansnivå på {alpha}, får vi en f_alpha på {round(f_alpha, 3)}.\\n'\n",
    "     f'F0 er på {round(F0,3)}\\n'\n",
    "     f'Dermed så blir forkastning = {F0 > f_alpha}')"
   ]
  },
  {
   "cell_type": "code",
   "execution_count": 21,
   "metadata": {},
   "outputs": [
    {
     "name": "stdout",
     "output_type": "stream",
     "text": [
      "                              Mixed Linear Model Regression Results\n",
      "==================================================================================================\n",
      "Model:                        MixedLM            Dependent Variable:            ListeriaNumber    \n",
      "No. Observations:             48                 Method:                        REML              \n",
      "No. Groups:                   6                  Scale:                         9133620108363.0957\n",
      "Min. group size:              8                  Log-Likelihood:                -692.5364         \n",
      "Max. group size:              8                  Converged:                     Yes               \n",
      "Mean group size:              8.0                                                                 \n",
      "--------------------------------------------------------------------------------------------------\n",
      "                             Coef.            Std.Err.        z    P>|z|    [0.025       0.975]   \n",
      "--------------------------------------------------------------------------------------------------\n",
      "Intercept                     204850.000        3205514.408  0.064 0.949 -6077842.792  6487542.792\n",
      "C(HamTopping)[T.HamT2]       -105000.000        4533281.951 -0.023 0.982 -8990069.355  8780069.355\n",
      "C(HamTopping)[T.HamT3]         58275.000        4533281.951  0.013 0.990 -8826794.355  8943344.355\n",
      "C(HamTopping)[T.HamT4]       4240912.500        4533281.951  0.936 0.350 -4644156.855 13125981.855\n",
      "C(HamTopping)[T.HamT5]       -154812.500        4533281.951 -0.034 0.973 -9039881.855  8730256.855\n",
      "C(HamTopping)[T.HamT6]       4065512.500        4533281.951  0.897 0.370 -4819556.855 12950581.855\n",
      "HamTopping Var         9133620108363.096 82799122495921.703                                       \n",
      "==================================================================================================\n",
      "\n"
     ]
    }
   ],
   "source": [
    "from statsmodels.formula.api import mixedlm\n",
    "model = mixedlm('ListeriaNumber~ C(HamTopping)',groups='HamTopping', data=listeria).fit()\n",
    "print(model.summary())"
   ]
  },
  {
   "cell_type": "markdown",
   "metadata": {},
   "source": [
    "## Det under må redigeres en smule"
   ]
  },
  {
   "cell_type": "markdown",
   "metadata": {},
   "source": [
    "#### Her ser vi at F = 5.1348 og P-verdien er på 0.003826, så med et signifikansnivå på 0.05, og f_alpha på 2.59,  så forkaster man H0 og aksepterer Ha."
   ]
  },
  {
   "cell_type": "markdown",
   "metadata": {},
   "source": [
    "## oppg 1g)"
   ]
  },
  {
   "cell_type": "code",
   "execution_count": 22,
   "metadata": {},
   "outputs": [
    {
     "data": {
      "text/html": [
       "<div>\n",
       "<style scoped>\n",
       "    .dataframe tbody tr th:only-of-type {\n",
       "        vertical-align: middle;\n",
       "    }\n",
       "\n",
       "    .dataframe tbody tr th {\n",
       "        vertical-align: top;\n",
       "    }\n",
       "\n",
       "    .dataframe thead th {\n",
       "        text-align: right;\n",
       "    }\n",
       "</style>\n",
       "<table border=\"1\" class=\"dataframe\">\n",
       "  <thead>\n",
       "    <tr style=\"text-align: right;\">\n",
       "      <th></th>\n",
       "      <th>df</th>\n",
       "      <th>sum_sq</th>\n",
       "      <th>mean_sq</th>\n",
       "      <th>F</th>\n",
       "      <th>PR(&gt;F)</th>\n",
       "    </tr>\n",
       "  </thead>\n",
       "  <tbody>\n",
       "    <tr>\n",
       "      <th>C(HamTopping)</th>\n",
       "      <td>5.0</td>\n",
       "      <td>147.149539</td>\n",
       "      <td>29.429908</td>\n",
       "      <td>10.532437</td>\n",
       "      <td>0.000001</td>\n",
       "    </tr>\n",
       "    <tr>\n",
       "      <th>Residual</th>\n",
       "      <td>42.0</td>\n",
       "      <td>117.357092</td>\n",
       "      <td>2.794216</td>\n",
       "      <td>NaN</td>\n",
       "      <td>NaN</td>\n",
       "    </tr>\n",
       "  </tbody>\n",
       "</table>\n",
       "</div>"
      ],
      "text/plain": [
       "                 df      sum_sq    mean_sq          F    PR(>F)\n",
       "C(HamTopping)   5.0  147.149539  29.429908  10.532437  0.000001\n",
       "Residual       42.0  117.357092   2.794216        NaN       NaN"
      ]
     },
     "execution_count": 22,
     "metadata": {},
     "output_type": "execute_result"
    }
   ],
   "source": [
    "ln_anova_table"
   ]
  },
  {
   "cell_type": "code",
   "execution_count": 23,
   "metadata": {
    "scrolled": true
   },
   "outputs": [
    {
     "name": "stdout",
     "output_type": "stream",
     "text": [
      "Mu: 11.989696029516894\n",
      "Sigma2: 2.794216473691326\n",
      "Sigma_t2: 3.3294614038529855\n"
     ]
    }
   ],
   "source": [
    "mu = ln_listeria['ListeriaNumber'].mean()\n",
    "sigma2 = ln_anova_table['mean_sq'][1]\n",
    "sigma_t2 = (ln_anova_table['mean_sq'][0]-sigma2)/8\n",
    "print(f'Mu: {mu}\\nSigma2: {sigma2}\\nSigma_t2: {sigma_t2}')"
   ]
  },
  {
   "cell_type": "markdown",
   "metadata": {},
   "source": [
    "## oppg 1h)"
   ]
  },
  {
   "cell_type": "markdown",
   "metadata": {},
   "source": [
    "#### Interclass correlation cofficient (ICC) er hvor mye av variansen som er forklart av treatmeantet (altså gruppene)\n"
   ]
  },
  {
   "cell_type": "code",
   "execution_count": 24,
   "metadata": {},
   "outputs": [
    {
     "name": "stdout",
     "output_type": "stream",
     "text": [
      "Dette er estimatet for CCI: 0.5437028972510471\n",
      "Konfidensintervallet for CCI er:\n",
      "[0.24873440653068443, 0.8888267351162339]\n"
     ]
    }
   ],
   "source": [
    "CCI = sigma_t2/(sigma_t2+sigma2)\n",
    "print(f'Dette er estimatet for CCI: {CCI}')\n",
    "n = 8\n",
    "alpha = 0.05\n",
    "df_tr = ln_anova_table['df'][0]\n",
    "df_e = ln_anova_table['df'][1]\n",
    "f_alpha_L = stats.f.isf(alpha/2, df_tr, df_e)\n",
    "f_alpha_U = stats.f.ppf(alpha/2, df_tr, df_e)\n",
    "L = (1/n)*((ms_tr/ms_e)*(1/f_alpha_L)-1)\n",
    "U = (1/n)*((ms_tr/ms_e)*(1/f_alpha_U)-1)\n",
    "CI_ICC = [L/(1+L), U/(1+U)]\n",
    "print(f'Konfidensintervallet for CCI er:\\n{CI_ICC}')"
   ]
  },
  {
   "cell_type": "markdown",
   "metadata": {},
   "source": [
    "## oppg 1i)"
   ]
  },
  {
   "cell_type": "code",
   "execution_count": 25,
   "metadata": {},
   "outputs": [
    {
     "name": "stdout",
     "output_type": "stream",
     "text": [
      "CI: [9.976874514694, 14.002517544339788]\n"
     ]
    }
   ],
   "source": [
    "mean = mu\n",
    "alpha = 0.05\n",
    "t_alpha = stats.t.isf((alpha)/2, df_tr)\n",
    "a = 6\n",
    "n = 8\n",
    "se_mean = (ms_tr/(a*n))**0.5\n",
    "CI_mean = [mean-(t_alpha*se_mean), mean+(t_alpha*se_mean)]\n",
    "print(f'CI: {CI_mean}')"
   ]
  },
  {
   "cell_type": "markdown",
   "metadata": {},
   "source": [
    "## oppg........"
   ]
  },
  {
   "cell_type": "code",
   "execution_count": null,
   "metadata": {},
   "outputs": [],
   "source": []
  },
  {
   "cell_type": "code",
   "execution_count": 90,
   "metadata": {},
   "outputs": [
    {
     "name": "stdout",
     "output_type": "stream",
     "text": [
      "Konfidensintervallet for \"error variance\" er:\n",
      "[6209650208242.779, 14755068742428.512]\n"
     ]
    }
   ],
   "source": [
    "alpha = 0.05\n",
    "chi_square_left = stats.chi2.isf(alpha/2, df_e)\n",
    "chi_square_right = stats.chi2.ppf(alpha/2, df_e)\n",
    "CI_error = [(df_e*ms_e)/chi_square_left, (df_e*ms_e)/chi_square_right]\n",
    "print(f'Konfidensintervallet for \"error variance\" er:\\n{CI_error}')"
   ]
  },
  {
   "cell_type": "code",
   "execution_count": null,
   "metadata": {},
   "outputs": [],
   "source": []
  },
  {
   "cell_type": "code",
   "execution_count": 86,
   "metadata": {},
   "outputs": [
    {
     "name": "stdout",
     "output_type": "stream",
     "text": [
      "\n",
      "\n"
     ]
    },
    {
     "data": {
      "text/html": [
       "<div>\n",
       "<style scoped>\n",
       "    .dataframe tbody tr th:only-of-type {\n",
       "        vertical-align: middle;\n",
       "    }\n",
       "\n",
       "    .dataframe tbody tr th {\n",
       "        vertical-align: top;\n",
       "    }\n",
       "\n",
       "    .dataframe thead th {\n",
       "        text-align: right;\n",
       "    }\n",
       "</style>\n",
       "<table border=\"1\" class=\"dataframe\">\n",
       "  <thead>\n",
       "    <tr style=\"text-align: right;\">\n",
       "      <th></th>\n",
       "      <th>N</th>\n",
       "      <th>Mean</th>\n",
       "      <th>SD</th>\n",
       "      <th>SE</th>\n",
       "      <th>95% Conf.</th>\n",
       "      <th>Interval</th>\n",
       "    </tr>\n",
       "    <tr>\n",
       "      <th>HamTopping</th>\n",
       "      <th></th>\n",
       "      <th></th>\n",
       "      <th></th>\n",
       "      <th></th>\n",
       "      <th></th>\n",
       "      <th></th>\n",
       "    </tr>\n",
       "  </thead>\n",
       "  <tbody>\n",
       "    <tr>\n",
       "      <th>HamT1</th>\n",
       "      <td>8</td>\n",
       "      <td>204850.0</td>\n",
       "      <td>3.149049e+05</td>\n",
       "      <td>1.113357e+05</td>\n",
       "      <td>-5.841711e+04</td>\n",
       "      <td>4.681171e+05</td>\n",
       "    </tr>\n",
       "    <tr>\n",
       "      <th>HamT2</th>\n",
       "      <td>8</td>\n",
       "      <td>99850.0</td>\n",
       "      <td>1.428349e+05</td>\n",
       "      <td>5.049978e+04</td>\n",
       "      <td>-1.956300e+04</td>\n",
       "      <td>2.192630e+05</td>\n",
       "    </tr>\n",
       "    <tr>\n",
       "      <th>HamT3</th>\n",
       "      <td>8</td>\n",
       "      <td>263125.0</td>\n",
       "      <td>2.827746e+05</td>\n",
       "      <td>9.997591e+04</td>\n",
       "      <td>2.671955e+04</td>\n",
       "      <td>4.995305e+05</td>\n",
       "    </tr>\n",
       "    <tr>\n",
       "      <th>HamT4</th>\n",
       "      <td>8</td>\n",
       "      <td>4445762.5</td>\n",
       "      <td>3.147114e+06</td>\n",
       "      <td>1.112673e+06</td>\n",
       "      <td>1.814710e+06</td>\n",
       "      <td>7.076815e+06</td>\n",
       "    </tr>\n",
       "    <tr>\n",
       "      <th>HamT5</th>\n",
       "      <td>8</td>\n",
       "      <td>50037.5</td>\n",
       "      <td>8.289840e+04</td>\n",
       "      <td>2.930901e+04</td>\n",
       "      <td>-1.926730e+04</td>\n",
       "      <td>1.193423e+05</td>\n",
       "    </tr>\n",
       "    <tr>\n",
       "      <th>HamT6</th>\n",
       "      <td>8</td>\n",
       "      <td>4270362.5</td>\n",
       "      <td>6.685132e+06</td>\n",
       "      <td>2.363551e+06</td>\n",
       "      <td>-1.318548e+06</td>\n",
       "      <td>9.859273e+06</td>\n",
       "    </tr>\n",
       "  </tbody>\n",
       "</table>\n",
       "</div>"
      ],
      "text/plain": [
       "            N       Mean            SD            SE     95% Conf.  \\\n",
       "HamTopping                                                           \n",
       "HamT1       8   204850.0  3.149049e+05  1.113357e+05 -5.841711e+04   \n",
       "HamT2       8    99850.0  1.428349e+05  5.049978e+04 -1.956300e+04   \n",
       "HamT3       8   263125.0  2.827746e+05  9.997591e+04  2.671955e+04   \n",
       "HamT4       8  4445762.5  3.147114e+06  1.112673e+06  1.814710e+06   \n",
       "HamT5       8    50037.5  8.289840e+04  2.930901e+04 -1.926730e+04   \n",
       "HamT6       8  4270362.5  6.685132e+06  2.363551e+06 -1.318548e+06   \n",
       "\n",
       "                Interval  \n",
       "HamTopping                \n",
       "HamT1       4.681171e+05  \n",
       "HamT2       2.192630e+05  \n",
       "HamT3       4.995305e+05  \n",
       "HamT4       7.076815e+06  \n",
       "HamT5       1.193423e+05  \n",
       "HamT6       9.859273e+06  "
      ]
     },
     "execution_count": 86,
     "metadata": {},
     "output_type": "execute_result"
    }
   ],
   "source": [
    "import researchpy as rp\n",
    "summary_listeria = rp.summary_cont(listeria.groupby(['HamTopping'])['ListeriaNumber'])\n",
    "summary_listeria"
   ]
  },
  {
   "cell_type": "code",
   "execution_count": null,
   "metadata": {},
   "outputs": [],
   "source": []
  }
 ],
 "metadata": {
  "kernelspec": {
   "display_name": "Python 3",
   "language": "python",
   "name": "python3"
  },
  "language_info": {
   "codemirror_mode": {
    "name": "ipython",
    "version": 3
   },
   "file_extension": ".py",
   "mimetype": "text/x-python",
   "name": "python",
   "nbconvert_exporter": "python",
   "pygments_lexer": "ipython3",
   "version": "3.8.5"
  }
 },
 "nbformat": 4,
 "nbformat_minor": 4
}
