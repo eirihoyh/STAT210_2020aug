{
 "cells": [
  {
   "cell_type": "markdown",
   "metadata": {},
   "source": [
    "# Oppg 2, Fishing Experiment"
   ]
  },
  {
   "cell_type": "code",
   "execution_count": 1,
   "metadata": {},
   "outputs": [
    {
     "data": {
      "text/html": [
       "<div>\n",
       "<style scoped>\n",
       "    .dataframe tbody tr th:only-of-type {\n",
       "        vertical-align: middle;\n",
       "    }\n",
       "\n",
       "    .dataframe tbody tr th {\n",
       "        vertical-align: top;\n",
       "    }\n",
       "\n",
       "    .dataframe thead th {\n",
       "        text-align: right;\n",
       "    }\n",
       "</style>\n",
       "<table border=\"1\" class=\"dataframe\">\n",
       "  <thead>\n",
       "    <tr style=\"text-align: right;\">\n",
       "      <th></th>\n",
       "      <th>Yield</th>\n",
       "      <th>Hook</th>\n",
       "      <th>Lake</th>\n",
       "      <th>Time</th>\n",
       "    </tr>\n",
       "  </thead>\n",
       "  <tbody>\n",
       "    <tr>\n",
       "      <th>0</th>\n",
       "      <td>14.0</td>\n",
       "      <td>Lure</td>\n",
       "      <td>Lake1</td>\n",
       "      <td>Morning</td>\n",
       "    </tr>\n",
       "    <tr>\n",
       "      <th>1</th>\n",
       "      <td>15.1</td>\n",
       "      <td>Lure</td>\n",
       "      <td>Lake1</td>\n",
       "      <td>Morning</td>\n",
       "    </tr>\n",
       "    <tr>\n",
       "      <th>2</th>\n",
       "      <td>12.4</td>\n",
       "      <td>Lure</td>\n",
       "      <td>Lake1</td>\n",
       "      <td>Morning</td>\n",
       "    </tr>\n",
       "    <tr>\n",
       "      <th>3</th>\n",
       "      <td>12.7</td>\n",
       "      <td>Lure</td>\n",
       "      <td>Lake1</td>\n",
       "      <td>Evening</td>\n",
       "    </tr>\n",
       "    <tr>\n",
       "      <th>4</th>\n",
       "      <td>17.2</td>\n",
       "      <td>Lure</td>\n",
       "      <td>Lake1</td>\n",
       "      <td>Evening</td>\n",
       "    </tr>\n",
       "  </tbody>\n",
       "</table>\n",
       "</div>"
      ],
      "text/plain": [
       "   Yield  Hook   Lake     Time\n",
       "0   14.0  Lure  Lake1  Morning\n",
       "1   15.1  Lure  Lake1  Morning\n",
       "2   12.4  Lure  Lake1  Morning\n",
       "3   12.7  Lure  Lake1  Evening\n",
       "4   17.2  Lure  Lake1  Evening"
      ]
     },
     "execution_count": 1,
     "metadata": {},
     "output_type": "execute_result"
    }
   ],
   "source": [
    "import pandas as pd\n",
    "import researchpy as rp\n",
    "import statsmodels.graphics.factorplots as smgf\n",
    "import statsmodels.api as sm\n",
    "from statsmodels.formula.api import ols\n",
    "fishing = pd.read_csv('FishingExperiment.csv', sep=';', decimal=',')\n",
    "fishing.head()"
   ]
  },
  {
   "cell_type": "code",
   "execution_count": 2,
   "metadata": {},
   "outputs": [
    {
     "name": "stdout",
     "output_type": "stream",
     "text": [
      "\n",
      "\n"
     ]
    },
    {
     "data": {
      "text/html": [
       "<div>\n",
       "<style scoped>\n",
       "    .dataframe tbody tr th:only-of-type {\n",
       "        vertical-align: middle;\n",
       "    }\n",
       "\n",
       "    .dataframe tbody tr th {\n",
       "        vertical-align: top;\n",
       "    }\n",
       "\n",
       "    .dataframe thead th {\n",
       "        text-align: right;\n",
       "    }\n",
       "</style>\n",
       "<table border=\"1\" class=\"dataframe\">\n",
       "  <thead>\n",
       "    <tr style=\"text-align: right;\">\n",
       "      <th></th>\n",
       "      <th></th>\n",
       "      <th></th>\n",
       "      <th>N</th>\n",
       "      <th>Mean</th>\n",
       "      <th>SD</th>\n",
       "      <th>SE</th>\n",
       "      <th>95% Conf.</th>\n",
       "      <th>Interval</th>\n",
       "    </tr>\n",
       "    <tr>\n",
       "      <th>Hook</th>\n",
       "      <th>Lake</th>\n",
       "      <th>Time</th>\n",
       "      <th></th>\n",
       "      <th></th>\n",
       "      <th></th>\n",
       "      <th></th>\n",
       "      <th></th>\n",
       "      <th></th>\n",
       "    </tr>\n",
       "  </thead>\n",
       "  <tbody>\n",
       "    <tr>\n",
       "      <th rowspan=\"8\" valign=\"top\">Lure</th>\n",
       "      <th rowspan=\"2\" valign=\"top\">Lake1</th>\n",
       "      <th>Evening</th>\n",
       "      <td>3</td>\n",
       "      <td>14.4333</td>\n",
       "      <td>2.4214</td>\n",
       "      <td>1.3980</td>\n",
       "      <td>8.4182</td>\n",
       "      <td>20.4485</td>\n",
       "    </tr>\n",
       "    <tr>\n",
       "      <th>Morning</th>\n",
       "      <td>3</td>\n",
       "      <td>13.8333</td>\n",
       "      <td>1.3577</td>\n",
       "      <td>0.7839</td>\n",
       "      <td>10.4606</td>\n",
       "      <td>17.2060</td>\n",
       "    </tr>\n",
       "    <tr>\n",
       "      <th rowspan=\"2\" valign=\"top\">Lake2</th>\n",
       "      <th>Evening</th>\n",
       "      <td>3</td>\n",
       "      <td>9.3000</td>\n",
       "      <td>1.0583</td>\n",
       "      <td>0.6110</td>\n",
       "      <td>6.6710</td>\n",
       "      <td>11.9290</td>\n",
       "    </tr>\n",
       "    <tr>\n",
       "      <th>Morning</th>\n",
       "      <td>3</td>\n",
       "      <td>7.1000</td>\n",
       "      <td>1.1790</td>\n",
       "      <td>0.6807</td>\n",
       "      <td>4.1712</td>\n",
       "      <td>10.0288</td>\n",
       "    </tr>\n",
       "    <tr>\n",
       "      <th rowspan=\"2\" valign=\"top\">Lake3</th>\n",
       "      <th>Evening</th>\n",
       "      <td>3</td>\n",
       "      <td>13.3000</td>\n",
       "      <td>0.7211</td>\n",
       "      <td>0.4163</td>\n",
       "      <td>11.5087</td>\n",
       "      <td>15.0913</td>\n",
       "    </tr>\n",
       "    <tr>\n",
       "      <th>Morning</th>\n",
       "      <td>3</td>\n",
       "      <td>14.4333</td>\n",
       "      <td>0.2082</td>\n",
       "      <td>0.1202</td>\n",
       "      <td>13.9162</td>\n",
       "      <td>14.9504</td>\n",
       "    </tr>\n",
       "    <tr>\n",
       "      <th rowspan=\"2\" valign=\"top\">Lake4</th>\n",
       "      <th>Evening</th>\n",
       "      <td>3</td>\n",
       "      <td>7.8333</td>\n",
       "      <td>1.5308</td>\n",
       "      <td>0.8838</td>\n",
       "      <td>4.0306</td>\n",
       "      <td>11.6360</td>\n",
       "    </tr>\n",
       "    <tr>\n",
       "      <th>Morning</th>\n",
       "      <td>3</td>\n",
       "      <td>9.4667</td>\n",
       "      <td>2.0599</td>\n",
       "      <td>1.1893</td>\n",
       "      <td>4.3495</td>\n",
       "      <td>14.5838</td>\n",
       "    </tr>\n",
       "    <tr>\n",
       "      <th rowspan=\"8\" valign=\"top\">Wobler</th>\n",
       "      <th rowspan=\"2\" valign=\"top\">Lake1</th>\n",
       "      <th>Evening</th>\n",
       "      <td>3</td>\n",
       "      <td>8.8000</td>\n",
       "      <td>0.6245</td>\n",
       "      <td>0.3606</td>\n",
       "      <td>7.2487</td>\n",
       "      <td>10.3513</td>\n",
       "    </tr>\n",
       "    <tr>\n",
       "      <th>Morning</th>\n",
       "      <td>3</td>\n",
       "      <td>11.2333</td>\n",
       "      <td>1.2503</td>\n",
       "      <td>0.7219</td>\n",
       "      <td>8.1273</td>\n",
       "      <td>14.3393</td>\n",
       "    </tr>\n",
       "    <tr>\n",
       "      <th rowspan=\"2\" valign=\"top\">Lake2</th>\n",
       "      <th>Evening</th>\n",
       "      <td>3</td>\n",
       "      <td>7.8333</td>\n",
       "      <td>0.7024</td>\n",
       "      <td>0.4055</td>\n",
       "      <td>6.0885</td>\n",
       "      <td>9.5781</td>\n",
       "    </tr>\n",
       "    <tr>\n",
       "      <th>Morning</th>\n",
       "      <td>3</td>\n",
       "      <td>6.7333</td>\n",
       "      <td>0.0577</td>\n",
       "      <td>0.0333</td>\n",
       "      <td>6.5899</td>\n",
       "      <td>6.8768</td>\n",
       "    </tr>\n",
       "    <tr>\n",
       "      <th rowspan=\"2\" valign=\"top\">Lake3</th>\n",
       "      <th>Evening</th>\n",
       "      <td>3</td>\n",
       "      <td>7.3333</td>\n",
       "      <td>1.8877</td>\n",
       "      <td>1.0899</td>\n",
       "      <td>2.6441</td>\n",
       "      <td>12.0226</td>\n",
       "    </tr>\n",
       "    <tr>\n",
       "      <th>Morning</th>\n",
       "      <td>3</td>\n",
       "      <td>7.6667</td>\n",
       "      <td>1.7673</td>\n",
       "      <td>1.0203</td>\n",
       "      <td>3.2765</td>\n",
       "      <td>12.0569</td>\n",
       "    </tr>\n",
       "    <tr>\n",
       "      <th rowspan=\"2\" valign=\"top\">Lake4</th>\n",
       "      <th>Evening</th>\n",
       "      <td>3</td>\n",
       "      <td>9.0333</td>\n",
       "      <td>2.7683</td>\n",
       "      <td>1.5983</td>\n",
       "      <td>2.1566</td>\n",
       "      <td>15.9101</td>\n",
       "    </tr>\n",
       "    <tr>\n",
       "      <th>Morning</th>\n",
       "      <td>3</td>\n",
       "      <td>10.5333</td>\n",
       "      <td>1.8475</td>\n",
       "      <td>1.0667</td>\n",
       "      <td>5.9438</td>\n",
       "      <td>15.1228</td>\n",
       "    </tr>\n",
       "  </tbody>\n",
       "</table>\n",
       "</div>"
      ],
      "text/plain": [
       "                      N     Mean      SD      SE  95% Conf.  Interval\n",
       "Hook   Lake  Time                                                    \n",
       "Lure   Lake1 Evening  3  14.4333  2.4214  1.3980     8.4182   20.4485\n",
       "             Morning  3  13.8333  1.3577  0.7839    10.4606   17.2060\n",
       "       Lake2 Evening  3   9.3000  1.0583  0.6110     6.6710   11.9290\n",
       "             Morning  3   7.1000  1.1790  0.6807     4.1712   10.0288\n",
       "       Lake3 Evening  3  13.3000  0.7211  0.4163    11.5087   15.0913\n",
       "             Morning  3  14.4333  0.2082  0.1202    13.9162   14.9504\n",
       "       Lake4 Evening  3   7.8333  1.5308  0.8838     4.0306   11.6360\n",
       "             Morning  3   9.4667  2.0599  1.1893     4.3495   14.5838\n",
       "Wobler Lake1 Evening  3   8.8000  0.6245  0.3606     7.2487   10.3513\n",
       "             Morning  3  11.2333  1.2503  0.7219     8.1273   14.3393\n",
       "       Lake2 Evening  3   7.8333  0.7024  0.4055     6.0885    9.5781\n",
       "             Morning  3   6.7333  0.0577  0.0333     6.5899    6.8768\n",
       "       Lake3 Evening  3   7.3333  1.8877  1.0899     2.6441   12.0226\n",
       "             Morning  3   7.6667  1.7673  1.0203     3.2765   12.0569\n",
       "       Lake4 Evening  3   9.0333  2.7683  1.5983     2.1566   15.9101\n",
       "             Morning  3  10.5333  1.8475  1.0667     5.9438   15.1228"
      ]
     },
     "execution_count": 2,
     "metadata": {},
     "output_type": "execute_result"
    }
   ],
   "source": [
    "summary_fish = rp.summary_cont(fishing.groupby(['Hook', 'Lake', 'Time'])['Yield'])\n",
    "summary_fish"
   ]
  },
  {
   "cell_type": "markdown",
   "metadata": {},
   "source": [
    "## oppg 2a)"
   ]
  },
  {
   "cell_type": "markdown",
   "metadata": {},
   "source": [
    "### Henter informasjon om de to modellene, første med 'time' og andre uten 'time'"
   ]
  },
  {
   "cell_type": "code",
   "execution_count": 9,
   "metadata": {
    "scrolled": true
   },
   "outputs": [
    {
     "data": {
      "text/html": [
       "<div>\n",
       "<style scoped>\n",
       "    .dataframe tbody tr th:only-of-type {\n",
       "        vertical-align: middle;\n",
       "    }\n",
       "\n",
       "    .dataframe tbody tr th {\n",
       "        vertical-align: top;\n",
       "    }\n",
       "\n",
       "    .dataframe thead th {\n",
       "        text-align: right;\n",
       "    }\n",
       "</style>\n",
       "<table border=\"1\" class=\"dataframe\">\n",
       "  <thead>\n",
       "    <tr style=\"text-align: right;\">\n",
       "      <th></th>\n",
       "      <th>df</th>\n",
       "      <th>sum_sq</th>\n",
       "      <th>mean_sq</th>\n",
       "      <th>F</th>\n",
       "      <th>PR(&gt;F)</th>\n",
       "    </tr>\n",
       "  </thead>\n",
       "  <tbody>\n",
       "    <tr>\n",
       "      <th>C(Hook, Sum)</th>\n",
       "      <td>1.0</td>\n",
       "      <td>79.053333</td>\n",
       "      <td>79.053333</td>\n",
       "      <td>33.657619</td>\n",
       "      <td>1.929639e-06</td>\n",
       "    </tr>\n",
       "    <tr>\n",
       "      <th>C(Lake, Sum)</th>\n",
       "      <td>3.0</td>\n",
       "      <td>125.594167</td>\n",
       "      <td>41.864722</td>\n",
       "      <td>17.824256</td>\n",
       "      <td>5.536719e-07</td>\n",
       "    </tr>\n",
       "    <tr>\n",
       "      <th>C(Time, Sum)</th>\n",
       "      <td>1.0</td>\n",
       "      <td>1.840833</td>\n",
       "      <td>1.840833</td>\n",
       "      <td>0.783750</td>\n",
       "      <td>3.826009e-01</td>\n",
       "    </tr>\n",
       "    <tr>\n",
       "      <th>C(Hook, Sum):C(Lake, Sum)</th>\n",
       "      <td>3.0</td>\n",
       "      <td>99.765000</td>\n",
       "      <td>33.255000</td>\n",
       "      <td>14.158595</td>\n",
       "      <td>4.808833e-06</td>\n",
       "    </tr>\n",
       "    <tr>\n",
       "      <th>C(Hook, Sum):C(Time, Sum)</th>\n",
       "      <td>1.0</td>\n",
       "      <td>1.920000</td>\n",
       "      <td>1.920000</td>\n",
       "      <td>0.817456</td>\n",
       "      <td>3.726816e-01</td>\n",
       "    </tr>\n",
       "    <tr>\n",
       "      <th>C(Lake, Sum):C(Time, Sum)</th>\n",
       "      <td>3.0</td>\n",
       "      <td>17.824167</td>\n",
       "      <td>5.941389</td>\n",
       "      <td>2.529596</td>\n",
       "      <td>7.472049e-02</td>\n",
       "    </tr>\n",
       "    <tr>\n",
       "      <th>C(Hook, Sum):C(Lake, Sum):C(Time, Sum)</th>\n",
       "      <td>3.0</td>\n",
       "      <td>6.381667</td>\n",
       "      <td>2.127222</td>\n",
       "      <td>0.905683</td>\n",
       "      <td>4.491733e-01</td>\n",
       "    </tr>\n",
       "    <tr>\n",
       "      <th>Residual</th>\n",
       "      <td>32.0</td>\n",
       "      <td>75.160000</td>\n",
       "      <td>2.348750</td>\n",
       "      <td>NaN</td>\n",
       "      <td>NaN</td>\n",
       "    </tr>\n",
       "  </tbody>\n",
       "</table>\n",
       "</div>"
      ],
      "text/plain": [
       "                                          df      sum_sq    mean_sq  \\\n",
       "C(Hook, Sum)                             1.0   79.053333  79.053333   \n",
       "C(Lake, Sum)                             3.0  125.594167  41.864722   \n",
       "C(Time, Sum)                             1.0    1.840833   1.840833   \n",
       "C(Hook, Sum):C(Lake, Sum)                3.0   99.765000  33.255000   \n",
       "C(Hook, Sum):C(Time, Sum)                1.0    1.920000   1.920000   \n",
       "C(Lake, Sum):C(Time, Sum)                3.0   17.824167   5.941389   \n",
       "C(Hook, Sum):C(Lake, Sum):C(Time, Sum)   3.0    6.381667   2.127222   \n",
       "Residual                                32.0   75.160000   2.348750   \n",
       "\n",
       "                                                F        PR(>F)  \n",
       "C(Hook, Sum)                            33.657619  1.929639e-06  \n",
       "C(Lake, Sum)                            17.824256  5.536719e-07  \n",
       "C(Time, Sum)                             0.783750  3.826009e-01  \n",
       "C(Hook, Sum):C(Lake, Sum)               14.158595  4.808833e-06  \n",
       "C(Hook, Sum):C(Time, Sum)                0.817456  3.726816e-01  \n",
       "C(Lake, Sum):C(Time, Sum)                2.529596  7.472049e-02  \n",
       "C(Hook, Sum):C(Lake, Sum):C(Time, Sum)   0.905683  4.491733e-01  \n",
       "Residual                                      NaN           NaN  "
      ]
     },
     "execution_count": 9,
     "metadata": {},
     "output_type": "execute_result"
    }
   ],
   "source": [
    "model_3_way = ols('Yield ~ C(Hook, Sum)* C(Lake, Sum)* C(Time, Sum)', data=fishing).fit()\n",
    "anova_table_3_way = sm.stats.anova_lm(model_3_way)\n",
    "model_2_way_test = ols('Yield ~ C(Hook, Sum) * C(Lake, Sum)', data=fishing).fit()\n",
    "anova_2_way_test = sm.stats.anova_lm(model_2_way_test)\n",
    "anova_table_3_way"
   ]
  },
  {
   "cell_type": "code",
   "execution_count": 10,
   "metadata": {},
   "outputs": [
    {
     "data": {
      "text/html": [
       "<div>\n",
       "<style scoped>\n",
       "    .dataframe tbody tr th:only-of-type {\n",
       "        vertical-align: middle;\n",
       "    }\n",
       "\n",
       "    .dataframe tbody tr th {\n",
       "        vertical-align: top;\n",
       "    }\n",
       "\n",
       "    .dataframe thead th {\n",
       "        text-align: right;\n",
       "    }\n",
       "</style>\n",
       "<table border=\"1\" class=\"dataframe\">\n",
       "  <thead>\n",
       "    <tr style=\"text-align: right;\">\n",
       "      <th></th>\n",
       "      <th>df</th>\n",
       "      <th>sum_sq</th>\n",
       "      <th>mean_sq</th>\n",
       "      <th>F</th>\n",
       "      <th>PR(&gt;F)</th>\n",
       "    </tr>\n",
       "  </thead>\n",
       "  <tbody>\n",
       "    <tr>\n",
       "      <th>C(Hook, Sum)</th>\n",
       "      <td>1.0</td>\n",
       "      <td>79.053333</td>\n",
       "      <td>79.053333</td>\n",
       "      <td>30.662616</td>\n",
       "      <td>2.109975e-06</td>\n",
       "    </tr>\n",
       "    <tr>\n",
       "      <th>C(Lake, Sum)</th>\n",
       "      <td>3.0</td>\n",
       "      <td>125.594167</td>\n",
       "      <td>41.864722</td>\n",
       "      <td>16.238175</td>\n",
       "      <td>4.681421e-07</td>\n",
       "    </tr>\n",
       "    <tr>\n",
       "      <th>C(Hook, Sum):C(Lake, Sum)</th>\n",
       "      <td>3.0</td>\n",
       "      <td>99.765000</td>\n",
       "      <td>33.255000</td>\n",
       "      <td>12.898701</td>\n",
       "      <td>4.889917e-06</td>\n",
       "    </tr>\n",
       "    <tr>\n",
       "      <th>Residual</th>\n",
       "      <td>40.0</td>\n",
       "      <td>103.126667</td>\n",
       "      <td>2.578167</td>\n",
       "      <td>NaN</td>\n",
       "      <td>NaN</td>\n",
       "    </tr>\n",
       "  </tbody>\n",
       "</table>\n",
       "</div>"
      ],
      "text/plain": [
       "                             df      sum_sq    mean_sq          F  \\\n",
       "C(Hook, Sum)                1.0   79.053333  79.053333  30.662616   \n",
       "C(Lake, Sum)                3.0  125.594167  41.864722  16.238175   \n",
       "C(Hook, Sum):C(Lake, Sum)   3.0   99.765000  33.255000  12.898701   \n",
       "Residual                   40.0  103.126667   2.578167        NaN   \n",
       "\n",
       "                                 PR(>F)  \n",
       "C(Hook, Sum)               2.109975e-06  \n",
       "C(Lake, Sum)               4.681421e-07  \n",
       "C(Hook, Sum):C(Lake, Sum)  4.889917e-06  \n",
       "Residual                            NaN  "
      ]
     },
     "execution_count": 10,
     "metadata": {},
     "output_type": "execute_result"
    }
   ],
   "source": [
    "anova_2_way_test"
   ]
  },
  {
   "cell_type": "code",
   "execution_count": 15,
   "metadata": {},
   "outputs": [
    {
     "data": {
      "text/plain": [
       "0.200329889163724"
      ]
     },
     "execution_count": 15,
     "metadata": {},
     "output_type": "execute_result"
    }
   ],
   "source": [
    "import scipy.stats as stats\n",
    "SS_ER = anova_2_way_test['sum_sq'][3]\n",
    "SS_EF = anova_table_3_way['sum_sq'][7]\n",
    "df_ER = anova_2_way_test['df'][3]\n",
    "df_EF = anova_table_3_way['df'][7]\n",
    "F0 = ((SS_ER-SS_EF)/(df_ER-df_EF))/(SS_EF/df_EF)\n",
    "F_test = stats.f.sf(F0, df_ER-df_EF, df_EF)\n",
    "F_test"
   ]
  },
  {
   "cell_type": "markdown",
   "metadata": {},
   "source": [
    "### Vi kan ikke forkaste H0, fordi F_verdien er på 0.20, dermed så beholder vi den reduserte modellen (anova_2_way_test)"
   ]
  },
  {
   "cell_type": "code",
   "execution_count": 93,
   "metadata": {},
   "outputs": [
    {
     "name": "stdout",
     "output_type": "stream",
     "text": [
      "                             df      sum_sq    mean_sq          F    PR(>F)\n",
      "C(Hook, Sum)                1.0   79.053333  79.053333  10.711669  0.002076\n",
      "C(Time, Sum)                1.0    1.840833   1.840833   0.249432  0.619964\n",
      "C(Hook, Sum):C(Time, Sum)   1.0    1.920000   1.920000   0.260159  0.612560\n",
      "Residual                   44.0  324.725000   7.380114        NaN       NaN\n"
     ]
    }
   ],
   "source": [
    "model_test = ols('Yield ~ C(Hook, Sum) * C(Time, Sum)', data=fishing).fit()\n",
    "anova_table_test = sm.stats.anova_lm(model_test)\n",
    "print(anova_table_test)"
   ]
  },
  {
   "cell_type": "code",
   "execution_count": 95,
   "metadata": {},
   "outputs": [
    {
     "name": "stdout",
     "output_type": "stream",
     "text": [
      "                             df      sum_sq    mean_sq         F    PR(>F)\n",
      "C(Lake, Sum)                3.0  125.594167  41.864722  6.384737  0.001224\n",
      "C(Time, Sum)                1.0    1.840833   1.840833  0.280743  0.599143\n",
      "C(Lake, Sum):C(Time, Sum)   3.0   17.824167   5.941389  0.906114  0.446670\n",
      "Residual                   40.0  262.280000   6.557000       NaN       NaN\n"
     ]
    }
   ],
   "source": [
    "model_test = ols('Yield ~ C(Lake, Sum) * C(Time, Sum)', data=fishing).fit()\n",
    "anova_table_test = sm.stats.anova_lm(model_test)\n",
    "print(anova_table_test)"
   ]
  },
  {
   "cell_type": "markdown",
   "metadata": {},
   "source": [
    "## Fra de to anova tablene over så kan man se at tidspunktet ikke er en avgjørende faktor og påvirker ikke Yield, dermed så fjerner man denne fra modelen og ser på de to andre faktorene."
   ]
  },
  {
   "cell_type": "markdown",
   "metadata": {},
   "source": [
    "## oppg 2b)"
   ]
  },
  {
   "cell_type": "code",
   "execution_count": 46,
   "metadata": {},
   "outputs": [
    {
     "data": {
      "image/png": "[encoded data removed]",
      "text/plain": [
       "<Figure size 432x288 with 1 Axes>"
      ]
     },
     "metadata": {
      "needs_background": "light"
     },
     "output_type": "display_data"
    }
   ],
   "source": [
    "plot = smgf.interaction_plot(fishing['Hook'], fishing['Lake'], fishing['Yield'])"
   ]
  },
  {
   "cell_type": "markdown",
   "metadata": {},
   "source": [
    "## oppg 2c)"
   ]
  },
  {
   "cell_type": "code",
   "execution_count": 47,
   "metadata": {},
   "outputs": [],
   "source": [
    "import statsmodels.api as sm\n",
    "from statsmodels.formula.api import ols"
   ]
  },
  {
   "cell_type": "markdown",
   "metadata": {},
   "source": [
    "#### H0: (tau * betta)_ij = 0, Ha: (tau * betta)_ij != 0"
   ]
  },
  {
   "cell_type": "code",
   "execution_count": 111,
   "metadata": {},
   "outputs": [
    {
     "name": "stdout",
     "output_type": "stream",
     "text": [
      "                             df      sum_sq    mean_sq          F  \\\n",
      "C(Hook, Sum)                1.0   79.053333  79.053333  30.662616   \n",
      "C(Lake, Sum)                3.0  125.594167  41.864722  16.238175   \n",
      "C(Hook, Sum):C(Lake, Sum)   3.0   99.765000  33.255000  12.898701   \n",
      "Residual                   40.0  103.126667   2.578167        NaN   \n",
      "\n",
      "                                 PR(>F)  \n",
      "C(Hook, Sum)               2.109975e-06  \n",
      "C(Lake, Sum)               4.681421e-07  \n",
      "C(Hook, Sum):C(Lake, Sum)  4.889917e-06  \n",
      "Residual                            NaN  \n"
     ]
    }
   ],
   "source": [
    "model = ols('Yield ~ C(Hook, Sum) * C(Lake, Sum)', data=fishing).fit()\n",
    "anova_table = sm.stats.anova_lm(model)\n",
    "print(anova_table)"
   ]
  },
  {
   "cell_type": "markdown",
   "metadata": {},
   "source": [
    "### fra anova testen så kan du forkaste H0 og akseptere Ha"
   ]
  },
  {
   "cell_type": "code",
   "execution_count": 112,
   "metadata": {},
   "outputs": [
    {
     "data": {
      "text/html": [
       "<table class=\"simpletable\">\n",
       "<caption>OLS Regression Results</caption>\n",
       "<tr>\n",
       "  <th>Dep. Variable:</th>          <td>Yield</td>      <th>  R-squared:         </th> <td>   0.747</td>\n",
       "</tr>\n",
       "<tr>\n",
       "  <th>Model:</th>                   <td>OLS</td>       <th>  Adj. R-squared:    </th> <td>   0.703</td>\n",
       "</tr>\n",
       "<tr>\n",
       "  <th>Method:</th>             <td>Least Squares</td>  <th>  F-statistic:       </th> <td>   16.87</td>\n",
       "</tr>\n",
       "<tr>\n",
       "  <th>Date:</th>             <td>Wed, 19 Aug 2020</td> <th>  Prob (F-statistic):</th> <td>3.86e-10</td>\n",
       "</tr>\n",
       "<tr>\n",
       "  <th>Time:</th>                 <td>15:43:13</td>     <th>  Log-Likelihood:    </th> <td> -86.463</td>\n",
       "</tr>\n",
       "<tr>\n",
       "  <th>No. Observations:</th>      <td>    48</td>      <th>  AIC:               </th> <td>   188.9</td>\n",
       "</tr>\n",
       "<tr>\n",
       "  <th>Df Residuals:</th>          <td>    40</td>      <th>  BIC:               </th> <td>   203.9</td>\n",
       "</tr>\n",
       "<tr>\n",
       "  <th>Df Model:</th>              <td>     7</td>      <th>                     </th>     <td> </td>   \n",
       "</tr>\n",
       "<tr>\n",
       "  <th>Covariance Type:</th>      <td>nonrobust</td>    <th>                     </th>     <td> </td>   \n",
       "</tr>\n",
       "</table>\n",
       "<table class=\"simpletable\">\n",
       "<tr>\n",
       "                       <td></td>                         <th>coef</th>     <th>std err</th>      <th>t</th>      <th>P>|t|</th>  <th>[0.025</th>    <th>0.975]</th>  \n",
       "</tr>\n",
       "<tr>\n",
       "  <th>Intercept</th>                                  <td>    9.9292</td> <td>    0.232</td> <td>   42.843</td> <td> 0.000</td> <td>    9.461</td> <td>   10.398</td>\n",
       "</tr>\n",
       "<tr>\n",
       "  <th>C(Hook, Sum)[S.Lure]</th>                       <td>    1.2833</td> <td>    0.232</td> <td>    5.537</td> <td> 0.000</td> <td>    0.815</td> <td>    1.752</td>\n",
       "</tr>\n",
       "<tr>\n",
       "  <th>C(Lake, Sum)[S.Lake1]</th>                      <td>    2.1458</td> <td>    0.401</td> <td>    5.346</td> <td> 0.000</td> <td>    1.335</td> <td>    2.957</td>\n",
       "</tr>\n",
       "<tr>\n",
       "  <th>C(Lake, Sum)[S.Lake2]</th>                      <td>   -2.1875</td> <td>    0.401</td> <td>   -5.449</td> <td> 0.000</td> <td>   -2.999</td> <td>   -1.376</td>\n",
       "</tr>\n",
       "<tr>\n",
       "  <th>C(Lake, Sum)[S.Lake3]</th>                      <td>    0.7542</td> <td>    0.401</td> <td>    1.879</td> <td> 0.068</td> <td>   -0.057</td> <td>    1.565</td>\n",
       "</tr>\n",
       "<tr>\n",
       "  <th>C(Hook, Sum)[S.Lure]:C(Lake, Sum)[S.Lake1]</th> <td>    0.7750</td> <td>    0.401</td> <td>    1.931</td> <td> 0.061</td> <td>   -0.036</td> <td>    1.586</td>\n",
       "</tr>\n",
       "<tr>\n",
       "  <th>C(Hook, Sum)[S.Lure]:C(Lake, Sum)[S.Lake2]</th> <td>   -0.8250</td> <td>    0.401</td> <td>   -2.055</td> <td> 0.046</td> <td>   -1.636</td> <td>   -0.014</td>\n",
       "</tr>\n",
       "<tr>\n",
       "  <th>C(Hook, Sum)[S.Lure]:C(Lake, Sum)[S.Lake3]</th> <td>    1.9000</td> <td>    0.401</td> <td>    4.733</td> <td> 0.000</td> <td>    1.089</td> <td>    2.711</td>\n",
       "</tr>\n",
       "</table>\n",
       "<table class=\"simpletable\">\n",
       "<tr>\n",
       "  <th>Omnibus:</th>       <td> 0.193</td> <th>  Durbin-Watson:     </th> <td>   2.316</td>\n",
       "</tr>\n",
       "<tr>\n",
       "  <th>Prob(Omnibus):</th> <td> 0.908</td> <th>  Jarque-Bera (JB):  </th> <td>   0.221</td>\n",
       "</tr>\n",
       "<tr>\n",
       "  <th>Skew:</th>          <td> 0.136</td> <th>  Prob(JB):          </th> <td>   0.895</td>\n",
       "</tr>\n",
       "<tr>\n",
       "  <th>Kurtosis:</th>      <td> 2.808</td> <th>  Cond. No.          </th> <td>    2.00</td>\n",
       "</tr>\n",
       "</table><br/><br/>Warnings:<br/>[1] Standard Errors assume that the covariance matrix of the errors is correctly specified."
      ],
      "text/plain": [
       "<class 'statsmodels.iolib.summary.Summary'>\n",
       "\"\"\"\n",
       "                            OLS Regression Results                            \n",
       "==============================================================================\n",
       "Dep. Variable:                  Yield   R-squared:                       0.747\n",
       "Model:                            OLS   Adj. R-squared:                  0.703\n",
       "Method:                 Least Squares   F-statistic:                     16.87\n",
       "Date:                Wed, 19 Aug 2020   Prob (F-statistic):           3.86e-10\n",
       "Time:                        15:43:13   Log-Likelihood:                -86.463\n",
       "No. Observations:                  48   AIC:                             188.9\n",
       "Df Residuals:                      40   BIC:                             203.9\n",
       "Df Model:                           7                                         \n",
       "Covariance Type:            nonrobust                                         \n",
       "==============================================================================================================\n",
       "                                                 coef    std err          t      P>|t|      [0.025      0.975]\n",
       "--------------------------------------------------------------------------------------------------------------\n",
       "Intercept                                      9.9292      0.232     42.843      0.000       9.461      10.398\n",
       "C(Hook, Sum)[S.Lure]                           1.2833      0.232      5.537      0.000       0.815       1.752\n",
       "C(Lake, Sum)[S.Lake1]                          2.1458      0.401      5.346      0.000       1.335       2.957\n",
       "C(Lake, Sum)[S.Lake2]                         -2.1875      0.401     -5.449      0.000      -2.999      -1.376\n",
       "C(Lake, Sum)[S.Lake3]                          0.7542      0.401      1.879      0.068      -0.057       1.565\n",
       "C(Hook, Sum)[S.Lure]:C(Lake, Sum)[S.Lake1]     0.7750      0.401      1.931      0.061      -0.036       1.586\n",
       "C(Hook, Sum)[S.Lure]:C(Lake, Sum)[S.Lake2]    -0.8250      0.401     -2.055      0.046      -1.636      -0.014\n",
       "C(Hook, Sum)[S.Lure]:C(Lake, Sum)[S.Lake3]     1.9000      0.401      4.733      0.000       1.089       2.711\n",
       "==============================================================================\n",
       "Omnibus:                        0.193   Durbin-Watson:                   2.316\n",
       "Prob(Omnibus):                  0.908   Jarque-Bera (JB):                0.221\n",
       "Skew:                           0.136   Prob(JB):                        0.895\n",
       "Kurtosis:                       2.808   Cond. No.                         2.00\n",
       "==============================================================================\n",
       "\n",
       "Warnings:\n",
       "[1] Standard Errors assume that the covariance matrix of the errors is correctly specified.\n",
       "\"\"\""
      ]
     },
     "execution_count": 112,
     "metadata": {},
     "output_type": "execute_result"
    }
   ],
   "source": [
    "model.summary()"
   ]
  },
  {
   "cell_type": "markdown",
   "metadata": {},
   "source": [
    "## oppg 2d) "
   ]
  },
  {
   "cell_type": "code",
   "execution_count": 113,
   "metadata": {},
   "outputs": [
    {
     "data": {
      "text/html": [
       "<table class=\"simpletable\">\n",
       "<caption>OLS Regression Results</caption>\n",
       "<tr>\n",
       "  <th>Dep. Variable:</th>          <td>Yield</td>      <th>  R-squared:         </th> <td>   0.747</td>\n",
       "</tr>\n",
       "<tr>\n",
       "  <th>Model:</th>                   <td>OLS</td>       <th>  Adj. R-squared:    </th> <td>   0.703</td>\n",
       "</tr>\n",
       "<tr>\n",
       "  <th>Method:</th>             <td>Least Squares</td>  <th>  F-statistic:       </th> <td>   16.87</td>\n",
       "</tr>\n",
       "<tr>\n",
       "  <th>Date:</th>             <td>Wed, 19 Aug 2020</td> <th>  Prob (F-statistic):</th> <td>3.86e-10</td>\n",
       "</tr>\n",
       "<tr>\n",
       "  <th>Time:</th>                 <td>15:43:30</td>     <th>  Log-Likelihood:    </th> <td> -86.463</td>\n",
       "</tr>\n",
       "<tr>\n",
       "  <th>No. Observations:</th>      <td>    48</td>      <th>  AIC:               </th> <td>   188.9</td>\n",
       "</tr>\n",
       "<tr>\n",
       "  <th>Df Residuals:</th>          <td>    40</td>      <th>  BIC:               </th> <td>   203.9</td>\n",
       "</tr>\n",
       "<tr>\n",
       "  <th>Df Model:</th>              <td>     7</td>      <th>                     </th>     <td> </td>   \n",
       "</tr>\n",
       "<tr>\n",
       "  <th>Covariance Type:</th>      <td>nonrobust</td>    <th>                     </th>     <td> </td>   \n",
       "</tr>\n",
       "</table>\n",
       "<table class=\"simpletable\">\n",
       "<tr>\n",
       "                       <td></td>                         <th>coef</th>     <th>std err</th>      <th>t</th>      <th>P>|t|</th>  <th>[0.025</th>    <th>0.975]</th>  \n",
       "</tr>\n",
       "<tr>\n",
       "  <th>Intercept</th>                                  <td>    9.9292</td> <td>    0.232</td> <td>   42.843</td> <td> 0.000</td> <td>    9.461</td> <td>   10.398</td>\n",
       "</tr>\n",
       "<tr>\n",
       "  <th>C(Hook, Sum)[S.Lure]</th>                       <td>    1.2833</td> <td>    0.232</td> <td>    5.537</td> <td> 0.000</td> <td>    0.815</td> <td>    1.752</td>\n",
       "</tr>\n",
       "<tr>\n",
       "  <th>C(Lake, Sum)[S.Lake1]</th>                      <td>    2.1458</td> <td>    0.401</td> <td>    5.346</td> <td> 0.000</td> <td>    1.335</td> <td>    2.957</td>\n",
       "</tr>\n",
       "<tr>\n",
       "  <th>C(Lake, Sum)[S.Lake2]</th>                      <td>   -2.1875</td> <td>    0.401</td> <td>   -5.449</td> <td> 0.000</td> <td>   -2.999</td> <td>   -1.376</td>\n",
       "</tr>\n",
       "<tr>\n",
       "  <th>C(Lake, Sum)[S.Lake3]</th>                      <td>    0.7542</td> <td>    0.401</td> <td>    1.879</td> <td> 0.068</td> <td>   -0.057</td> <td>    1.565</td>\n",
       "</tr>\n",
       "<tr>\n",
       "  <th>C(Hook, Sum)[S.Lure]:C(Lake, Sum)[S.Lake1]</th> <td>    0.7750</td> <td>    0.401</td> <td>    1.931</td> <td> 0.061</td> <td>   -0.036</td> <td>    1.586</td>\n",
       "</tr>\n",
       "<tr>\n",
       "  <th>C(Hook, Sum)[S.Lure]:C(Lake, Sum)[S.Lake2]</th> <td>   -0.8250</td> <td>    0.401</td> <td>   -2.055</td> <td> 0.046</td> <td>   -1.636</td> <td>   -0.014</td>\n",
       "</tr>\n",
       "<tr>\n",
       "  <th>C(Hook, Sum)[S.Lure]:C(Lake, Sum)[S.Lake3]</th> <td>    1.9000</td> <td>    0.401</td> <td>    4.733</td> <td> 0.000</td> <td>    1.089</td> <td>    2.711</td>\n",
       "</tr>\n",
       "</table>\n",
       "<table class=\"simpletable\">\n",
       "<tr>\n",
       "  <th>Omnibus:</th>       <td> 0.193</td> <th>  Durbin-Watson:     </th> <td>   2.316</td>\n",
       "</tr>\n",
       "<tr>\n",
       "  <th>Prob(Omnibus):</th> <td> 0.908</td> <th>  Jarque-Bera (JB):  </th> <td>   0.221</td>\n",
       "</tr>\n",
       "<tr>\n",
       "  <th>Skew:</th>          <td> 0.136</td> <th>  Prob(JB):          </th> <td>   0.895</td>\n",
       "</tr>\n",
       "<tr>\n",
       "  <th>Kurtosis:</th>      <td> 2.808</td> <th>  Cond. No.          </th> <td>    2.00</td>\n",
       "</tr>\n",
       "</table><br/><br/>Warnings:<br/>[1] Standard Errors assume that the covariance matrix of the errors is correctly specified."
      ],
      "text/plain": [
       "<class 'statsmodels.iolib.summary.Summary'>\n",
       "\"\"\"\n",
       "                            OLS Regression Results                            \n",
       "==============================================================================\n",
       "Dep. Variable:                  Yield   R-squared:                       0.747\n",
       "Model:                            OLS   Adj. R-squared:                  0.703\n",
       "Method:                 Least Squares   F-statistic:                     16.87\n",
       "Date:                Wed, 19 Aug 2020   Prob (F-statistic):           3.86e-10\n",
       "Time:                        15:43:30   Log-Likelihood:                -86.463\n",
       "No. Observations:                  48   AIC:                             188.9\n",
       "Df Residuals:                      40   BIC:                             203.9\n",
       "Df Model:                           7                                         \n",
       "Covariance Type:            nonrobust                                         \n",
       "==============================================================================================================\n",
       "                                                 coef    std err          t      P>|t|      [0.025      0.975]\n",
       "--------------------------------------------------------------------------------------------------------------\n",
       "Intercept                                      9.9292      0.232     42.843      0.000       9.461      10.398\n",
       "C(Hook, Sum)[S.Lure]                           1.2833      0.232      5.537      0.000       0.815       1.752\n",
       "C(Lake, Sum)[S.Lake1]                          2.1458      0.401      5.346      0.000       1.335       2.957\n",
       "C(Lake, Sum)[S.Lake2]                         -2.1875      0.401     -5.449      0.000      -2.999      -1.376\n",
       "C(Lake, Sum)[S.Lake3]                          0.7542      0.401      1.879      0.068      -0.057       1.565\n",
       "C(Hook, Sum)[S.Lure]:C(Lake, Sum)[S.Lake1]     0.7750      0.401      1.931      0.061      -0.036       1.586\n",
       "C(Hook, Sum)[S.Lure]:C(Lake, Sum)[S.Lake2]    -0.8250      0.401     -2.055      0.046      -1.636      -0.014\n",
       "C(Hook, Sum)[S.Lure]:C(Lake, Sum)[S.Lake3]     1.9000      0.401      4.733      0.000       1.089       2.711\n",
       "==============================================================================\n",
       "Omnibus:                        0.193   Durbin-Watson:                   2.316\n",
       "Prob(Omnibus):                  0.908   Jarque-Bera (JB):                0.221\n",
       "Skew:                           0.136   Prob(JB):                        0.895\n",
       "Kurtosis:                       2.808   Cond. No.                         2.00\n",
       "==============================================================================\n",
       "\n",
       "Warnings:\n",
       "[1] Standard Errors assume that the covariance matrix of the errors is correctly specified.\n",
       "\"\"\""
      ]
     },
     "execution_count": 113,
     "metadata": {},
     "output_type": "execute_result"
    }
   ],
   "source": [
    "model.summary()"
   ]
  },
  {
   "cell_type": "markdown",
   "metadata": {},
   "source": [
    "## Som man ser fra tabellen så er estimatet til effekten på Lake3 = 0.7542 og estimatet til effekten på \"interaction\" mellom Lake2 og Wobler = 0.825"
   ]
  },
  {
   "cell_type": "markdown",
   "metadata": {},
   "source": [
    "## oppg 2e) Tukeys test"
   ]
  },
  {
   "cell_type": "code",
   "execution_count": 89,
   "metadata": {},
   "outputs": [],
   "source": [
    "from statsmodels.stats.multicomp import pairwise_tukeyhsd"
   ]
  },
  {
   "cell_type": "code",
   "execution_count": 90,
   "metadata": {},
   "outputs": [],
   "source": [
    "fishing['combo'] = fishing.Lake + '/' + fishing.Hook"
   ]
  },
  {
   "cell_type": "code",
   "execution_count": 91,
   "metadata": {
    "scrolled": false
   },
   "outputs": [
    {
     "name": "stdout",
     "output_type": "stream",
     "text": [
      "      Multiple Comparison of Means - Tukey HSD, FWER=0.05       \n",
      "================================================================\n",
      "   group1       group2    meandiff p-adj   lower   upper  reject\n",
      "----------------------------------------------------------------\n",
      "  Lake1/Lure Lake1/Wobler  -4.1167 0.0016 -7.0799 -1.1534   True\n",
      "  Lake1/Lure   Lake2/Lure  -5.9333  0.001 -8.8966 -2.9701   True\n",
      "  Lake1/Lure Lake2/Wobler    -6.85  0.001 -9.8133 -3.8867   True\n",
      "  Lake1/Lure   Lake3/Lure  -0.2667    0.9 -3.2299  2.6966  False\n",
      "  Lake1/Lure Lake3/Wobler  -6.6333  0.001 -9.5966 -3.6701   True\n",
      "  Lake1/Lure   Lake4/Lure  -5.4833  0.001 -8.4466 -2.5201   True\n",
      "  Lake1/Lure Lake4/Wobler    -4.35  0.001 -7.3133 -1.3867   True\n",
      "Lake1/Wobler   Lake2/Lure  -1.8167 0.5177 -4.7799  1.1466  False\n",
      "Lake1/Wobler Lake2/Wobler  -2.7333 0.0892 -5.6966  0.2299  False\n",
      "Lake1/Wobler   Lake3/Lure     3.85 0.0038  0.8867  6.8133   True\n",
      "Lake1/Wobler Lake3/Wobler  -2.5167 0.1478 -5.4799  0.4466  False\n",
      "Lake1/Wobler   Lake4/Lure  -1.3667 0.7928 -4.3299  1.5966  False\n",
      "Lake1/Wobler Lake4/Wobler  -0.2333    0.9 -3.1966  2.7299  False\n",
      "  Lake2/Lure Lake2/Wobler  -0.9167    0.9 -3.8799  2.0466  False\n",
      "  Lake2/Lure   Lake3/Lure   5.6667  0.001  2.7034  8.6299   True\n",
      "  Lake2/Lure Lake3/Wobler     -0.7    0.9 -3.6633  2.2633  False\n",
      "  Lake2/Lure   Lake4/Lure     0.45    0.9 -2.5133  3.4133  False\n",
      "  Lake2/Lure Lake4/Wobler   1.5833 0.6604 -1.3799  4.5466  False\n",
      "Lake2/Wobler   Lake3/Lure   6.5833  0.001  3.6201  9.5466   True\n",
      "Lake2/Wobler Lake3/Wobler   0.2167    0.9 -2.7466  3.1799  False\n",
      "Lake2/Wobler   Lake4/Lure   1.3667 0.7928 -1.5966  4.3299  False\n",
      "Lake2/Wobler Lake4/Wobler      2.5 0.1534 -0.4633  5.4633  False\n",
      "  Lake3/Lure Lake3/Wobler  -6.3667  0.001 -9.3299 -3.4034   True\n",
      "  Lake3/Lure   Lake4/Lure  -5.2167  0.001 -8.1799 -2.2534   True\n",
      "  Lake3/Lure Lake4/Wobler  -4.0833 0.0018 -7.0466 -1.1201   True\n",
      "Lake3/Wobler   Lake4/Lure     1.15    0.9 -1.8133  4.1133  False\n",
      "Lake3/Wobler Lake4/Wobler   2.2833 0.2404 -0.6799  5.2466  False\n",
      "  Lake4/Lure Lake4/Wobler   1.1333    0.9 -1.8299  4.0966  False\n",
      "----------------------------------------------------------------\n"
     ]
    }
   ],
   "source": [
    "m_comp = pairwise_tukeyhsd(endog=fishing['Yield'], groups=fishing['combo'], alpha=.05)\n",
    "print(m_comp)"
   ]
  },
  {
   "cell_type": "code",
   "execution_count": 92,
   "metadata": {},
   "outputs": [
    {
     "data": {
      "image/png": "[encoded data removed]",
      "text/plain": [
       "<Figure size 432x288 with 1 Axes>"
      ]
     },
     "metadata": {
      "needs_background": "light"
     },
     "output_type": "display_data"
    }
   ],
   "source": [
    "plot = smgf.interaction_plot(fishing['Hook'], fishing['Lake'], fishing['Yield'])"
   ]
  },
  {
   "cell_type": "code",
   "execution_count": null,
   "metadata": {},
   "outputs": [],
   "source": []
  }
 ],
 "metadata": {
  "kernelspec": {
   "display_name": "Python 3",
   "language": "python",
   "name": "python3"
  },
  "language_info": {
   "codemirror_mode": {
    "name": "ipython",
    "version": 3
   },
   "file_extension": ".py",
   "mimetype": "text/x-python",
   "name": "python",
   "nbconvert_exporter": "python",
   "pygments_lexer": "ipython3",
   "version": "3.7.7"
  }
 },
 "nbformat": 4,
 "nbformat_minor": 4
}
