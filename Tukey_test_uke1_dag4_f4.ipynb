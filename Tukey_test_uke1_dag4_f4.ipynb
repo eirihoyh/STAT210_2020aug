{
 "cells": [
  {
   "cell_type": "markdown",
   "metadata": {},
   "source": [
    "# First acounter with the \"Tukey's test\""
   ]
  },
  {
   "cell_type": "code",
   "execution_count": 1,
   "metadata": {},
   "outputs": [],
   "source": [
    "import pandas as pd\n",
    "from statsmodels.stats.multicomp import pairwise_tukeyhsd"
   ]
  },
  {
   "cell_type": "code",
   "execution_count": 2,
   "metadata": {},
   "outputs": [],
   "source": [
    "sires = pd.read_csv('SiresData.csv', sep=';')\n"
   ]
  },
  {
   "cell_type": "code",
   "execution_count": 4,
   "metadata": {},
   "outputs": [
    {
     "data": {
      "text/html": [
       "<div>\n",
       "<style scoped>\n",
       "    .dataframe tbody tr th:only-of-type {\n",
       "        vertical-align: middle;\n",
       "    }\n",
       "\n",
       "    .dataframe tbody tr th {\n",
       "        vertical-align: top;\n",
       "    }\n",
       "\n",
       "    .dataframe thead th {\n",
       "        text-align: right;\n",
       "    }\n",
       "</style>\n",
       "<table border=\"1\" class=\"dataframe\">\n",
       "  <thead>\n",
       "    <tr style=\"text-align: right;\">\n",
       "      <th></th>\n",
       "      <th>Milk</th>\n",
       "      <th>Sire</th>\n",
       "    </tr>\n",
       "  </thead>\n",
       "  <tbody>\n",
       "    <tr>\n",
       "      <th>0</th>\n",
       "      <td>6330</td>\n",
       "      <td>3</td>\n",
       "    </tr>\n",
       "    <tr>\n",
       "      <th>1</th>\n",
       "      <td>6337</td>\n",
       "      <td>2</td>\n",
       "    </tr>\n",
       "    <tr>\n",
       "      <th>2</th>\n",
       "      <td>6613</td>\n",
       "      <td>5</td>\n",
       "    </tr>\n",
       "    <tr>\n",
       "      <th>3</th>\n",
       "      <td>6250</td>\n",
       "      <td>4</td>\n",
       "    </tr>\n",
       "    <tr>\n",
       "      <th>4</th>\n",
       "      <td>6363</td>\n",
       "      <td>1</td>\n",
       "    </tr>\n",
       "  </tbody>\n",
       "</table>\n",
       "</div>"
      ],
      "text/plain": [
       "   Milk  Sire\n",
       "0  6330     3\n",
       "1  6337     2\n",
       "2  6613     5\n",
       "3  6250     4\n",
       "4  6363     1"
      ]
     },
     "execution_count": 4,
     "metadata": {},
     "output_type": "execute_result"
    }
   ],
   "source": [
    "sires.head()"
   ]
  },
  {
   "cell_type": "code",
   "execution_count": 94,
   "metadata": {},
   "outputs": [
    {
     "name": "stdout",
     "output_type": "stream",
     "text": [
      "  Multiple Comparison of Means - Tukey HSD, FWER=0.01  \n",
      "=======================================================\n",
      "group1 group2 meandiff p-adj    lower    upper   reject\n",
      "-------------------------------------------------------\n",
      "     1      2  -407.25 0.1284 -995.1446 180.6446  False\n",
      "     1      3   -363.5 0.2119 -951.3946 224.3946  False\n",
      "     1      4  -18.125    0.9 -606.0196 569.7696  False\n",
      "     1      5  -66.625    0.9 -654.5196 521.2696  False\n",
      "     2      3    43.75    0.9 -544.1446 631.6446  False\n",
      "     2      4  389.125 0.1594 -198.7696 977.0196  False\n",
      "     2      5  340.625 0.2686 -247.2696 928.5196  False\n",
      "     3      4  345.375  0.256 -242.5196 933.2696  False\n",
      "     3      5  296.875 0.4032 -291.0196 884.7696  False\n",
      "     4      5    -48.5    0.9 -636.3946 539.3946  False\n",
      "-------------------------------------------------------\n"
     ]
    }
   ],
   "source": [
    "m_comp = pairwise_tukeyhsd(endog=sires['Milk'], groups=sires['Sire'], alpha=.01)\n",
    "print(m_comp)"
   ]
  },
  {
   "cell_type": "code",
   "execution_count": 95,
   "metadata": {},
   "outputs": [
    {
     "name": "stdout",
     "output_type": "stream",
     "text": [
      "\n",
      "\n",
      "      N      Mean        SD        SE  95% Conf.   Interval\n",
      "Sire                                                       \n",
      "1     8  6689.250  468.8977  165.7804  6297.2417  7081.2583\n",
      "2     8  6282.000  150.5770   53.2370  6156.1145  6407.8855\n",
      "3     8  6325.750  286.1152  101.1570  6086.5517  6564.9483\n",
      "4     8  6671.125  436.9683  154.4916  6305.8104  7036.4396\n",
      "5     8  6622.625  204.8602   72.4290  6451.3576  6793.8924\n"
     ]
    }
   ],
   "source": [
    "import researchpy as rp\n",
    "col_sires = sires.groupby(['Sire'])['Milk']\n",
    "col_summary = rp.summary_cont(col_sires)\n",
    "print(col_summary)"
   ]
  },
  {
   "cell_type": "markdown",
   "metadata": {},
   "source": [
    "## REMOVES TWO COWS FROM nr. 3"
   ]
  },
  {
   "cell_type": "code",
   "execution_count": 97,
   "metadata": {},
   "outputs": [],
   "source": [
    "shortend_sires = sires.drop([0,5])"
   ]
  },
  {
   "cell_type": "code",
   "execution_count": 101,
   "metadata": {},
   "outputs": [
    {
     "name": "stdout",
     "output_type": "stream",
     "text": [
      "   Multiple Comparison of Means - Tukey HSD, FWER=0.01   \n",
      "=========================================================\n",
      "group1 group2  meandiff p-adj    lower     upper   reject\n",
      "---------------------------------------------------------\n",
      "     1      2   -407.25 0.1432 -1010.1298 195.6298  False\n",
      "     1      3 -405.0833 0.2043  -1056.268 246.1013  False\n",
      "     1      4   -18.125    0.9  -621.0048 584.7548  False\n",
      "     1      5   -66.625    0.9  -669.5048 536.2548  False\n",
      "     2      3    2.1667    0.9   -649.018 653.3513  False\n",
      "     2      4   389.125 0.1755  -213.7548 992.0048  False\n",
      "     2      5   340.625 0.2887  -262.2548 943.5048  False\n",
      "     3      4  386.9583 0.2428  -264.2263 1038.143  False\n",
      "     3      5  338.4583 0.3699  -312.7263  989.643  False\n",
      "     4      5     -48.5    0.9  -651.3798 554.3798  False\n",
      "---------------------------------------------------------\n"
     ]
    }
   ],
   "source": [
    "m_comp = pairwise_tukeyhsd(endog=shortend_sires['Milk'], groups=shortend_sires['Sire'], alpha=.01)\n",
    "print(m_comp)"
   ]
  },
  {
   "cell_type": "code",
   "execution_count": 100,
   "metadata": {},
   "outputs": [
    {
     "name": "stdout",
     "output_type": "stream",
     "text": [
      "\n",
      "\n",
      "      N       Mean        SD        SE  95% Conf.   Interval\n",
      "Sire                                                        \n",
      "1     8  6689.2500  468.8977  165.7804  6297.2417  7081.2583\n",
      "2     8  6282.0000  150.5770   53.2370  6156.1145  6407.8855\n",
      "3     6  6284.1667  317.0151  129.4209  5951.4797  6616.8536\n",
      "4     8  6671.1250  436.9683  154.4916  6305.8104  7036.4396\n",
      "5     8  6622.6250  204.8602   72.4290  6451.3576  6793.8924\n"
     ]
    }
   ],
   "source": [
    "col_sires = shortend_sires.groupby(['Sire'])['Milk']\n",
    "col_summary = rp.summary_cont(col_sires)\n",
    "print(col_summary)"
   ]
  },
  {
   "cell_type": "code",
   "execution_count": null,
   "metadata": {},
   "outputs": [],
   "source": []
  }
 ],
 "metadata": {
  "kernelspec": {
   "display_name": "Python 3",
   "language": "python",
   "name": "python3"
  },
  "language_info": {
   "codemirror_mode": {
    "name": "ipython",
    "version": 3
   },
   "file_extension": ".py",
   "mimetype": "text/x-python",
   "name": "python",
   "nbconvert_exporter": "python",
   "pygments_lexer": "ipython3",
   "version": "3.8.5"
  }
 },
 "nbformat": 4,
 "nbformat_minor": 4
}
