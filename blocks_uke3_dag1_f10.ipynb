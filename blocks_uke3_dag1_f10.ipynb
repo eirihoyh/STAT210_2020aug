{
 "cells": [
  {
   "cell_type": "markdown",
   "metadata": {},
   "source": [
    "# Oppgave 20 - rewisitting Listeria"
   ]
  },
  {
   "cell_type": "code",
   "execution_count": 2,
   "metadata": {},
   "outputs": [
    {
     "data": {
      "text/html": [
       "<div>\n",
       "<style scoped>\n",
       "    .dataframe tbody tr th:only-of-type {\n",
       "        vertical-align: middle;\n",
       "    }\n",
       "\n",
       "    .dataframe tbody tr th {\n",
       "        vertical-align: top;\n",
       "    }\n",
       "\n",
       "    .dataframe thead th {\n",
       "        text-align: right;\n",
       "    }\n",
       "</style>\n",
       "<table border=\"1\" class=\"dataframe\">\n",
       "  <thead>\n",
       "    <tr style=\"text-align: right;\">\n",
       "      <th></th>\n",
       "      <th>Unnamed: 0</th>\n",
       "      <th>ListeriaNumber</th>\n",
       "      <th>HamTopping</th>\n",
       "      <th>GroceryStore</th>\n",
       "    </tr>\n",
       "  </thead>\n",
       "  <tbody>\n",
       "    <tr>\n",
       "      <th>0</th>\n",
       "      <td>1</td>\n",
       "      <td>24109.61661</td>\n",
       "      <td>HamT1</td>\n",
       "      <td>Store1</td>\n",
       "    </tr>\n",
       "    <tr>\n",
       "      <th>1</th>\n",
       "      <td>2</td>\n",
       "      <td>119956.08290</td>\n",
       "      <td>HamT1</td>\n",
       "      <td>Store1</td>\n",
       "    </tr>\n",
       "    <tr>\n",
       "      <th>2</th>\n",
       "      <td>3</td>\n",
       "      <td>961125.77520</td>\n",
       "      <td>HamT1</td>\n",
       "      <td>Store2</td>\n",
       "    </tr>\n",
       "    <tr>\n",
       "      <th>3</th>\n",
       "      <td>4</td>\n",
       "      <td>17053.09954</td>\n",
       "      <td>HamT1</td>\n",
       "      <td>Store2</td>\n",
       "    </tr>\n",
       "    <tr>\n",
       "      <th>4</th>\n",
       "      <td>5</td>\n",
       "      <td>80956.94419</td>\n",
       "      <td>HamT1</td>\n",
       "      <td>Store3</td>\n",
       "    </tr>\n",
       "  </tbody>\n",
       "</table>\n",
       "</div>"
      ],
      "text/plain": [
       "   Unnamed: 0  ListeriaNumber HamTopping GroceryStore\n",
       "0           1     24109.61661      HamT1       Store1\n",
       "1           2    119956.08290      HamT1       Store1\n",
       "2           3    961125.77520      HamT1       Store2\n",
       "3           4     17053.09954      HamT1       Store2\n",
       "4           5     80956.94419      HamT1       Store3"
      ]
     },
     "execution_count": 2,
     "metadata": {},
     "output_type": "execute_result"
    }
   ],
   "source": [
    "import pandas as pd\n",
    "import numpy as np\n",
    "listeriaStore = pd.read_csv('ListeriaStore.csv', sep=';', decimal=',')\n",
    "#listeriaStore['logListeria'] = np.log(ln_listeria['ListeriaNumber'])\n",
    "listeriaStore.head()"
   ]
  },
  {
   "cell_type": "markdown",
   "metadata": {},
   "source": [
    "## oppg 20c)"
   ]
  },
  {
   "cell_type": "code",
   "execution_count": 13,
   "metadata": {},
   "outputs": [],
   "source": [
    "import statsmodels.api as sm\n",
    "from statsmodels.formula.api import ols"
   ]
  },
  {
   "cell_type": "code",
   "execution_count": 31,
   "metadata": {},
   "outputs": [
    {
     "data": {
      "text/html": [
       "<div>\n",
       "<style scoped>\n",
       "    .dataframe tbody tr th:only-of-type {\n",
       "        vertical-align: middle;\n",
       "    }\n",
       "\n",
       "    .dataframe tbody tr th {\n",
       "        vertical-align: top;\n",
       "    }\n",
       "\n",
       "    .dataframe thead th {\n",
       "        text-align: right;\n",
       "    }\n",
       "</style>\n",
       "<table border=\"1\" class=\"dataframe\">\n",
       "  <thead>\n",
       "    <tr style=\"text-align: right;\">\n",
       "      <th></th>\n",
       "      <th>df</th>\n",
       "      <th>sum_sq</th>\n",
       "      <th>mean_sq</th>\n",
       "      <th>F</th>\n",
       "      <th>PR(&gt;F)</th>\n",
       "    </tr>\n",
       "  </thead>\n",
       "  <tbody>\n",
       "    <tr>\n",
       "      <th>C(HamTopping, Sum)</th>\n",
       "      <td>5.0</td>\n",
       "      <td>146.947577</td>\n",
       "      <td>29.389515</td>\n",
       "      <td>10.078274</td>\n",
       "      <td>0.000003</td>\n",
       "    </tr>\n",
       "    <tr>\n",
       "      <th>C(GroceryStore)</th>\n",
       "      <td>3.0</td>\n",
       "      <td>3.241427</td>\n",
       "      <td>1.080476</td>\n",
       "      <td>0.370517</td>\n",
       "      <td>0.774690</td>\n",
       "    </tr>\n",
       "    <tr>\n",
       "      <th>Residual</th>\n",
       "      <td>39.0</td>\n",
       "      <td>113.728914</td>\n",
       "      <td>2.916126</td>\n",
       "      <td>NaN</td>\n",
       "      <td>NaN</td>\n",
       "    </tr>\n",
       "  </tbody>\n",
       "</table>\n",
       "</div>"
      ],
      "text/plain": [
       "                      df      sum_sq    mean_sq          F    PR(>F)\n",
       "C(HamTopping, Sum)   5.0  146.947577  29.389515  10.078274  0.000003\n",
       "C(GroceryStore)      3.0    3.241427   1.080476   0.370517  0.774690\n",
       "Residual            39.0  113.728914   2.916126        NaN       NaN"
      ]
     },
     "execution_count": 31,
     "metadata": {},
     "output_type": "execute_result"
    }
   ],
   "source": [
    "model_block = ols('logListeria ~ C(HamTopping, Sum) + C(GroceryStore)', data=listeriaStore).fit()\n",
    "ln_anova_table_block = sm.stats.anova_lm(model_block)\n",
    "ln_anova_table_block"
   ]
  },
  {
   "cell_type": "markdown",
   "metadata": {},
   "source": [
    "## oppg 20d) "
   ]
  },
  {
   "cell_type": "code",
   "execution_count": 32,
   "metadata": {},
   "outputs": [
    {
     "data": {
      "text/html": [
       "<div>\n",
       "<style scoped>\n",
       "    .dataframe tbody tr th:only-of-type {\n",
       "        vertical-align: middle;\n",
       "    }\n",
       "\n",
       "    .dataframe tbody tr th {\n",
       "        vertical-align: top;\n",
       "    }\n",
       "\n",
       "    .dataframe thead th {\n",
       "        text-align: right;\n",
       "    }\n",
       "</style>\n",
       "<table border=\"1\" class=\"dataframe\">\n",
       "  <thead>\n",
       "    <tr style=\"text-align: right;\">\n",
       "      <th></th>\n",
       "      <th>df</th>\n",
       "      <th>sum_sq</th>\n",
       "      <th>mean_sq</th>\n",
       "      <th>F</th>\n",
       "      <th>PR(&gt;F)</th>\n",
       "    </tr>\n",
       "  </thead>\n",
       "  <tbody>\n",
       "    <tr>\n",
       "      <th>C(HamTopping, Sum)</th>\n",
       "      <td>5.0</td>\n",
       "      <td>146.947577</td>\n",
       "      <td>29.389515</td>\n",
       "      <td>10.552758</td>\n",
       "      <td>0.000001</td>\n",
       "    </tr>\n",
       "    <tr>\n",
       "      <th>Residual</th>\n",
       "      <td>42.0</td>\n",
       "      <td>116.970341</td>\n",
       "      <td>2.785008</td>\n",
       "      <td>NaN</td>\n",
       "      <td>NaN</td>\n",
       "    </tr>\n",
       "  </tbody>\n",
       "</table>\n",
       "</div>"
      ],
      "text/plain": [
       "                      df      sum_sq    mean_sq          F    PR(>F)\n",
       "C(HamTopping, Sum)   5.0  146.947577  29.389515  10.552758  0.000001\n",
       "Residual            42.0  116.970341   2.785008        NaN       NaN"
      ]
     },
     "execution_count": 32,
     "metadata": {},
     "output_type": "execute_result"
    }
   ],
   "source": [
    "model = ols('logListeria ~ C(HamTopping, Sum)', data=listeriaStore).fit()\n",
    "ln_anova_table = sm.stats.anova_lm(model)\n",
    "ln_anova_table"
   ]
  },
  {
   "cell_type": "markdown",
   "metadata": {},
   "source": [
    "## oppg 20g)"
   ]
  },
  {
   "cell_type": "code",
   "execution_count": 37,
   "metadata": {},
   "outputs": [],
   "source": [
    "fishing = pd.read_csv('FishingExperimentwPersons.csv', sep=';', decimal=',')"
   ]
  },
  {
   "cell_type": "code",
   "execution_count": 36,
   "metadata": {},
   "outputs": [
    {
     "data": {
      "text/html": [
       "<div>\n",
       "<style scoped>\n",
       "    .dataframe tbody tr th:only-of-type {\n",
       "        vertical-align: middle;\n",
       "    }\n",
       "\n",
       "    .dataframe tbody tr th {\n",
       "        vertical-align: top;\n",
       "    }\n",
       "\n",
       "    .dataframe thead th {\n",
       "        text-align: right;\n",
       "    }\n",
       "</style>\n",
       "<table border=\"1\" class=\"dataframe\">\n",
       "  <thead>\n",
       "    <tr style=\"text-align: right;\">\n",
       "      <th></th>\n",
       "      <th>df</th>\n",
       "      <th>sum_sq</th>\n",
       "      <th>mean_sq</th>\n",
       "      <th>F</th>\n",
       "      <th>PR(&gt;F)</th>\n",
       "    </tr>\n",
       "  </thead>\n",
       "  <tbody>\n",
       "    <tr>\n",
       "      <th>C(Hook, Sum)</th>\n",
       "      <td>1.0</td>\n",
       "      <td>79.053333</td>\n",
       "      <td>79.053333</td>\n",
       "      <td>30.662616</td>\n",
       "      <td>2.109975e-06</td>\n",
       "    </tr>\n",
       "    <tr>\n",
       "      <th>C(Lake, Sum)</th>\n",
       "      <td>3.0</td>\n",
       "      <td>125.594167</td>\n",
       "      <td>41.864722</td>\n",
       "      <td>16.238175</td>\n",
       "      <td>4.681421e-07</td>\n",
       "    </tr>\n",
       "    <tr>\n",
       "      <th>C(Hook, Sum):C(Lake, Sum)</th>\n",
       "      <td>3.0</td>\n",
       "      <td>99.765000</td>\n",
       "      <td>33.255000</td>\n",
       "      <td>12.898701</td>\n",
       "      <td>4.889917e-06</td>\n",
       "    </tr>\n",
       "    <tr>\n",
       "      <th>Residual</th>\n",
       "      <td>40.0</td>\n",
       "      <td>103.126667</td>\n",
       "      <td>2.578167</td>\n",
       "      <td>NaN</td>\n",
       "      <td>NaN</td>\n",
       "    </tr>\n",
       "  </tbody>\n",
       "</table>\n",
       "</div>"
      ],
      "text/plain": [
       "                             df      sum_sq    mean_sq          F  \\\n",
       "C(Hook, Sum)                1.0   79.053333  79.053333  30.662616   \n",
       "C(Lake, Sum)                3.0  125.594167  41.864722  16.238175   \n",
       "C(Hook, Sum):C(Lake, Sum)   3.0   99.765000  33.255000  12.898701   \n",
       "Residual                   40.0  103.126667   2.578167        NaN   \n",
       "\n",
       "                                 PR(>F)  \n",
       "C(Hook, Sum)               2.109975e-06  \n",
       "C(Lake, Sum)               4.681421e-07  \n",
       "C(Hook, Sum):C(Lake, Sum)  4.889917e-06  \n",
       "Residual                            NaN  "
      ]
     },
     "execution_count": 36,
     "metadata": {},
     "output_type": "execute_result"
    }
   ],
   "source": [
    "model_fish = ols('Yield ~ C(Hook, Sum)*C(Lake, Sum)', data=fishing).fit()\n",
    "anova_table_fish = sm.stats.anova_lm(model_fish)\n",
    "anova_table_fish"
   ]
  },
  {
   "cell_type": "markdown",
   "metadata": {},
   "source": [
    "## oppg 20h)"
   ]
  },
  {
   "cell_type": "code",
   "execution_count": 38,
   "metadata": {},
   "outputs": [
    {
     "data": {
      "text/html": [
       "<div>\n",
       "<style scoped>\n",
       "    .dataframe tbody tr th:only-of-type {\n",
       "        vertical-align: middle;\n",
       "    }\n",
       "\n",
       "    .dataframe tbody tr th {\n",
       "        vertical-align: top;\n",
       "    }\n",
       "\n",
       "    .dataframe thead th {\n",
       "        text-align: right;\n",
       "    }\n",
       "</style>\n",
       "<table border=\"1\" class=\"dataframe\">\n",
       "  <thead>\n",
       "    <tr style=\"text-align: right;\">\n",
       "      <th></th>\n",
       "      <th>df</th>\n",
       "      <th>sum_sq</th>\n",
       "      <th>mean_sq</th>\n",
       "      <th>F</th>\n",
       "      <th>PR(&gt;F)</th>\n",
       "    </tr>\n",
       "  </thead>\n",
       "  <tbody>\n",
       "    <tr>\n",
       "      <th>C(Hook, Sum)</th>\n",
       "      <td>1.0</td>\n",
       "      <td>79.053333</td>\n",
       "      <td>79.053333</td>\n",
       "      <td>37.672770</td>\n",
       "      <td>3.683993e-07</td>\n",
       "    </tr>\n",
       "    <tr>\n",
       "      <th>C(Lake, Sum)</th>\n",
       "      <td>3.0</td>\n",
       "      <td>125.594167</td>\n",
       "      <td>41.864722</td>\n",
       "      <td>19.950582</td>\n",
       "      <td>6.242178e-08</td>\n",
       "    </tr>\n",
       "    <tr>\n",
       "      <th>C(Person, Sum)</th>\n",
       "      <td>2.0</td>\n",
       "      <td>23.386667</td>\n",
       "      <td>11.693333</td>\n",
       "      <td>5.572444</td>\n",
       "      <td>7.547442e-03</td>\n",
       "    </tr>\n",
       "    <tr>\n",
       "      <th>C(Hook, Sum):C(Lake, Sum)</th>\n",
       "      <td>3.0</td>\n",
       "      <td>99.765000</td>\n",
       "      <td>33.255000</td>\n",
       "      <td>15.847630</td>\n",
       "      <td>7.683153e-07</td>\n",
       "    </tr>\n",
       "    <tr>\n",
       "      <th>Residual</th>\n",
       "      <td>38.0</td>\n",
       "      <td>79.740000</td>\n",
       "      <td>2.098421</td>\n",
       "      <td>NaN</td>\n",
       "      <td>NaN</td>\n",
       "    </tr>\n",
       "  </tbody>\n",
       "</table>\n",
       "</div>"
      ],
      "text/plain": [
       "                             df      sum_sq    mean_sq          F  \\\n",
       "C(Hook, Sum)                1.0   79.053333  79.053333  37.672770   \n",
       "C(Lake, Sum)                3.0  125.594167  41.864722  19.950582   \n",
       "C(Person, Sum)              2.0   23.386667  11.693333   5.572444   \n",
       "C(Hook, Sum):C(Lake, Sum)   3.0   99.765000  33.255000  15.847630   \n",
       "Residual                   38.0   79.740000   2.098421        NaN   \n",
       "\n",
       "                                 PR(>F)  \n",
       "C(Hook, Sum)               3.683993e-07  \n",
       "C(Lake, Sum)               6.242178e-08  \n",
       "C(Person, Sum)             7.547442e-03  \n",
       "C(Hook, Sum):C(Lake, Sum)  7.683153e-07  \n",
       "Residual                            NaN  "
      ]
     },
     "execution_count": 38,
     "metadata": {},
     "output_type": "execute_result"
    }
   ],
   "source": [
    "model_fish_block = ols('Yield ~ C(Hook, Sum)*C(Lake, Sum) + C(Person, Sum)', data=fishing).fit()\n",
    "anova_table_fish_block = sm.stats.anova_lm(model_fish_block)\n",
    "anova_table_fish_block"
   ]
  },
  {
   "cell_type": "markdown",
   "metadata": {},
   "source": [
    "# OPPG 20i) SENERE!!!!!!!!! HAR IKKE TILGANG TIL Å GJØRE OM TIL RANDOM ATM"
   ]
  },
  {
   "cell_type": "code",
   "execution_count": null,
   "metadata": {},
   "outputs": [],
   "source": []
  }
 ],
 "metadata": {
  "kernelspec": {
   "display_name": "Python 3",
   "language": "python",
   "name": "python3"
  },
  "language_info": {
   "codemirror_mode": {
    "name": "ipython",
    "version": 3
   },
   "file_extension": ".py",
   "mimetype": "text/x-python",
   "name": "python",
   "nbconvert_exporter": "python",
   "pygments_lexer": "ipython3",
   "version": "3.8.5"
  }
 },
 "nbformat": 4,
 "nbformat_minor": 4
}
