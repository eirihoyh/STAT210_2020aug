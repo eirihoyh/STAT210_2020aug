{
 "cells": [
  {
   "cell_type": "markdown",
   "metadata": {},
   "source": [
    "# Oppg 18"
   ]
  },
  {
   "cell_type": "code",
   "execution_count": 1,
   "metadata": {},
   "outputs": [],
   "source": [
    "import pandas as pd\n",
    "import statsmodels.api as sm\n",
    "from statsmodels.formula.api import ols\n",
    "import scipy.stats as stats\n",
    "fish = pd.read_csv('FishingExperiment.csv', sep=';', decimal=',')"
   ]
  },
  {
   "cell_type": "markdown",
   "metadata": {},
   "source": [
    "## oppg 18c)"
   ]
  },
  {
   "cell_type": "code",
   "execution_count": 3,
   "metadata": {},
   "outputs": [
    {
     "data": {
      "text/html": [
       "<div>\n",
       "<style scoped>\n",
       "    .dataframe tbody tr th:only-of-type {\n",
       "        vertical-align: middle;\n",
       "    }\n",
       "\n",
       "    .dataframe tbody tr th {\n",
       "        vertical-align: top;\n",
       "    }\n",
       "\n",
       "    .dataframe thead th {\n",
       "        text-align: right;\n",
       "    }\n",
       "</style>\n",
       "<table border=\"1\" class=\"dataframe\">\n",
       "  <thead>\n",
       "    <tr style=\"text-align: right;\">\n",
       "      <th></th>\n",
       "      <th>df</th>\n",
       "      <th>sum_sq</th>\n",
       "      <th>mean_sq</th>\n",
       "      <th>F</th>\n",
       "      <th>PR(&gt;F)</th>\n",
       "    </tr>\n",
       "  </thead>\n",
       "  <tbody>\n",
       "    <tr>\n",
       "      <th>C(Lake, Sum)</th>\n",
       "      <td>3.0</td>\n",
       "      <td>125.594167</td>\n",
       "      <td>41.864722</td>\n",
       "      <td>16.238175</td>\n",
       "      <td>4.681421e-07</td>\n",
       "    </tr>\n",
       "    <tr>\n",
       "      <th>C(Hook, Sum)</th>\n",
       "      <td>1.0</td>\n",
       "      <td>79.053333</td>\n",
       "      <td>79.053333</td>\n",
       "      <td>30.662616</td>\n",
       "      <td>2.109975e-06</td>\n",
       "    </tr>\n",
       "    <tr>\n",
       "      <th>C(Lake, Sum):C(Hook, Sum)</th>\n",
       "      <td>3.0</td>\n",
       "      <td>99.765000</td>\n",
       "      <td>33.255000</td>\n",
       "      <td>12.898701</td>\n",
       "      <td>4.889917e-06</td>\n",
       "    </tr>\n",
       "    <tr>\n",
       "      <th>Residual</th>\n",
       "      <td>40.0</td>\n",
       "      <td>103.126667</td>\n",
       "      <td>2.578167</td>\n",
       "      <td>NaN</td>\n",
       "      <td>NaN</td>\n",
       "    </tr>\n",
       "  </tbody>\n",
       "</table>\n",
       "</div>"
      ],
      "text/plain": [
       "                             df      sum_sq    mean_sq          F  \\\n",
       "C(Lake, Sum)                3.0  125.594167  41.864722  16.238175   \n",
       "C(Hook, Sum)                1.0   79.053333  79.053333  30.662616   \n",
       "C(Lake, Sum):C(Hook, Sum)   3.0   99.765000  33.255000  12.898701   \n",
       "Residual                   40.0  103.126667   2.578167        NaN   \n",
       "\n",
       "                                 PR(>F)  \n",
       "C(Lake, Sum)               4.681421e-07  \n",
       "C(Hook, Sum)               2.109975e-06  \n",
       "C(Lake, Sum):C(Hook, Sum)  4.889917e-06  \n",
       "Residual                            NaN  "
      ]
     },
     "execution_count": 3,
     "metadata": {},
     "output_type": "execute_result"
    }
   ],
   "source": [
    "model_fish = ols('Yield ~ C(Lake, Sum) * C(Hook, Sum)', data=fish).fit()\n",
    "anova_fish = sm.stats.anova_lm(model_fish)\n",
    "anova_fish"
   ]
  },
  {
   "cell_type": "markdown",
   "metadata": {},
   "source": [
    "#### H0: sigma2_ab = 0, Ha: sigma2_ab > 0"
   ]
  },
  {
   "cell_type": "code",
   "execution_count": 4,
   "metadata": {},
   "outputs": [
    {
     "name": "stdout",
     "output_type": "stream",
     "text": [
      "F0: 12.898700627060569\n",
      "Alpha: 0.05\n",
      "f_value: 4.88991661963464e-06\n",
      "Reject: True\n"
     ]
    }
   ],
   "source": [
    "MS_ab = anova_fish['mean_sq'][2]\n",
    "MS_e = anova_fish['mean_sq'][3]\n",
    "df_ab = anova_fish['df'][2]\n",
    "df_e = anova_fish['df'][3]\n",
    "alpha = 0.05\n",
    "F0 = MS_ab/MS_e\n",
    "f_test = stats.f.sf(F0, df_ab, df_e)\n",
    "print(f'F0: {F0}\\nAlpha: {alpha}\\nf_value: {f_test}\\nReject: {f_test < alpha}')"
   ]
  },
  {
   "cell_type": "markdown",
   "metadata": {},
   "source": [
    "#### H0: sigma2_b = 0, Ha: sigma2_b > 0"
   ]
  },
  {
   "cell_type": "code",
   "execution_count": 5,
   "metadata": {},
   "outputs": [
    {
     "name": "stdout",
     "output_type": "stream",
     "text": [
      "F0: 2.3771863880118316\n",
      "Alpha: 0.05\n",
      "f_value: 0.22078369980839832\n",
      "Reject: False\n"
     ]
    }
   ],
   "source": [
    "MS_ab = anova_fish['mean_sq'][2]\n",
    "MS_b = anova_fish['mean_sq'][1]\n",
    "df_ab = anova_fish['df'][2]\n",
    "df_b = anova_fish['df'][1]\n",
    "alpha = 0.05\n",
    "F0 = MS_b/MS_ab\n",
    "f_test = stats.f.sf(F0, df_b, df_ab)\n",
    "print(f'F0: {F0}\\nAlpha: {alpha}\\nf_value: {f_test}\\nReject: {f_test < alpha}')"
   ]
  },
  {
   "cell_type": "markdown",
   "metadata": {},
   "source": [
    "#### H0: tau_1=tau_2=...=tau_a=0, Ha: minst en er ikke lik 0"
   ]
  },
  {
   "cell_type": "code",
   "execution_count": 6,
   "metadata": {
    "scrolled": true
   },
   "outputs": [
    {
     "name": "stdout",
     "output_type": "stream",
     "text": [
      "F0: 1.2589000818590355\n",
      "Alpha: 0.05\n",
      "f_value: 0.42719494580021344\n",
      "Reject: False\n"
     ]
    }
   ],
   "source": [
    "MS_ab = anova_fish['mean_sq'][2]\n",
    "MS_a = anova_fish['mean_sq'][0]\n",
    "df_ab = anova_fish['df'][2]\n",
    "df_a = anova_fish['df'][0]\n",
    "alpha = 0.05\n",
    "F0 = MS_a/MS_ab\n",
    "f_test = stats.f.sf(F0, df_a, df_ab)\n",
    "print(f'F0: {F0}\\nAlpha: {alpha}\\nf_value: {f_test}\\nReject: {f_test < alpha}')"
   ]
  },
  {
   "cell_type": "code",
   "execution_count": null,
   "metadata": {},
   "outputs": [],
   "source": []
  },
  {
   "cell_type": "code",
   "execution_count": null,
   "metadata": {},
   "outputs": [],
   "source": []
  }
 ],
 "metadata": {
  "kernelspec": {
   "display_name": "Python 3",
   "language": "python",
   "name": "python3"
  },
  "language_info": {
   "codemirror_mode": {
    "name": "ipython",
    "version": 3
   },
   "file_extension": ".py",
   "mimetype": "text/x-python",
   "name": "python",
   "nbconvert_exporter": "python",
   "pygments_lexer": "ipython3",
   "version": "3.8.5"
  }
 },
 "nbformat": 4,
 "nbformat_minor": 4
}
