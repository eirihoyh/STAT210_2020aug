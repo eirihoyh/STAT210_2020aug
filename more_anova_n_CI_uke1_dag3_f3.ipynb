{
 "cells": [
  {
   "cell_type": "markdown",
   "metadata": {},
   "source": [
    "# Oppg 8b, Konfidensintervaller"
   ]
  },
  {
   "cell_type": "code",
   "execution_count": 1,
   "metadata": {},
   "outputs": [],
   "source": [
    "import pandas as pd\n",
    "import scipy.stats as stats\n",
    "import statsmodels.api as sm\n",
    "from statsmodels.formula.api import ols"
   ]
  },
  {
   "cell_type": "code",
   "execution_count": 4,
   "metadata": {},
   "outputs": [
    {
     "name": "stdout",
     "output_type": "stream",
     "text": [
      "    index  variable  value\n",
      "0       0  Modified  16.85\n",
      "1       1  Modified  16.40\n",
      "2       2  Modified  17.21\n",
      "3       3  Modified  16.35\n",
      "4       4  Modified  16.52\n",
      "5       5  Modified  17.04\n",
      "6       6  Modified  16.96\n",
      "7       7  Modified  17.15\n",
      "8       8  Modified  16.59\n",
      "9       9  Modified  16.57\n",
      "10      0  Strength  16.62\n",
      "11      1  Strength  16.75\n",
      "12      2  Strength  17.37\n",
      "13      3  Strength  17.12\n",
      "14      4  Strength  16.98\n",
      "15      5  Strength  16.87\n",
      "16      6  Strength  17.34\n",
      "17      7  Strength  17.02\n",
      "18      8  Strength  17.08\n",
      "19      9  Strength  17.27\n"
     ]
    }
   ],
   "source": [
    "portCem = pd.read_csv('PortlandCementData.csv', sep=';')\n",
    "portCem.columns = ['Modified', 'Strength']\n",
    "portCem_melt = pd.melt(portCem.reset_index(), id_vars=['index'], value_vars=['Modified', 'Strength'])\n",
    "print(portCem_melt)"
   ]
  },
  {
   "cell_type": "code",
   "execution_count": 3,
   "metadata": {},
   "outputs": [
    {
     "data": {
      "text/html": [
       "<div>\n",
       "<style scoped>\n",
       "    .dataframe tbody tr th:only-of-type {\n",
       "        vertical-align: middle;\n",
       "    }\n",
       "\n",
       "    .dataframe tbody tr th {\n",
       "        vertical-align: top;\n",
       "    }\n",
       "\n",
       "    .dataframe thead th {\n",
       "        text-align: right;\n",
       "    }\n",
       "</style>\n",
       "<table border=\"1\" class=\"dataframe\">\n",
       "  <thead>\n",
       "    <tr style=\"text-align: right;\">\n",
       "      <th></th>\n",
       "      <th>sum_sq</th>\n",
       "      <th>df</th>\n",
       "      <th>F</th>\n",
       "      <th>PR(&gt;F)</th>\n",
       "    </tr>\n",
       "  </thead>\n",
       "  <tbody>\n",
       "    <tr>\n",
       "      <th>C(variable)</th>\n",
       "      <td>0.38642</td>\n",
       "      <td>1.0</td>\n",
       "      <td>4.782426</td>\n",
       "      <td>0.042197</td>\n",
       "    </tr>\n",
       "    <tr>\n",
       "      <th>Residual</th>\n",
       "      <td>1.45440</td>\n",
       "      <td>18.0</td>\n",
       "      <td>NaN</td>\n",
       "      <td>NaN</td>\n",
       "    </tr>\n",
       "  </tbody>\n",
       "</table>\n",
       "</div>"
      ],
      "text/plain": [
       "              sum_sq    df         F    PR(>F)\n",
       "C(variable)  0.38642   1.0  4.782426  0.042197\n",
       "Residual     1.45440  18.0       NaN       NaN"
      ]
     },
     "execution_count": 3,
     "metadata": {},
     "output_type": "execute_result"
    }
   ],
   "source": [
    "model = ols('value ~ C(variable)', data=portCem_melt).fit()\n",
    "anova_table = sm.stats.anova_lm(model, typ=2)\n",
    "anova_table"
   ]
  },
  {
   "cell_type": "code",
   "execution_count": 4,
   "metadata": {},
   "outputs": [
    {
     "name": "stdout",
     "output_type": "stream",
     "text": [
      "[0.04613279646915774, 0.17670329828983342]\n"
     ]
    }
   ],
   "source": [
    "SSe = anova_table['sum_sq'][1]\n",
    "dfe = anova_table['df'][1]\n",
    "alpha = 0.05\n",
    "high_tail = stats.chi2.ppf(0.025, dfe)\n",
    "low_tail = stats.chi2.ppf(0.975, dfe)\n",
    "lower = SSe/low_tail\n",
    "higher = SSe/high_tail\n",
    "interval = [lower, higher]\n",
    "print(interval)"
   ]
  },
  {
   "cell_type": "code",
   "execution_count": null,
   "metadata": {},
   "outputs": [],
   "source": []
  },
  {
   "cell_type": "markdown",
   "metadata": {},
   "source": [
    "# Oppg 9"
   ]
  },
  {
   "cell_type": "code",
   "execution_count": 1,
   "metadata": {},
   "outputs": [],
   "source": [
    "import pandas as pd\n",
    "import scipy.stats as stats\n",
    "import statsmodels.api as sm\n",
    "from statsmodels.formula.api import ols\n",
    "import researchpy as rp"
   ]
  },
  {
   "cell_type": "code",
   "execution_count": 2,
   "metadata": {},
   "outputs": [],
   "source": [
    "sires = pd.read_csv('SiresData.csv', sep=';')"
   ]
  },
  {
   "cell_type": "code",
   "execution_count": 3,
   "metadata": {},
   "outputs": [
    {
     "data": {
      "text/html": [
       "<div>\n",
       "<style scoped>\n",
       "    .dataframe tbody tr th:only-of-type {\n",
       "        vertical-align: middle;\n",
       "    }\n",
       "\n",
       "    .dataframe tbody tr th {\n",
       "        vertical-align: top;\n",
       "    }\n",
       "\n",
       "    .dataframe thead th {\n",
       "        text-align: right;\n",
       "    }\n",
       "</style>\n",
       "<table border=\"1\" class=\"dataframe\">\n",
       "  <thead>\n",
       "    <tr style=\"text-align: right;\">\n",
       "      <th></th>\n",
       "      <th>Milk</th>\n",
       "      <th>Sire</th>\n",
       "    </tr>\n",
       "  </thead>\n",
       "  <tbody>\n",
       "    <tr>\n",
       "      <th>0</th>\n",
       "      <td>6330</td>\n",
       "      <td>3</td>\n",
       "    </tr>\n",
       "    <tr>\n",
       "      <th>1</th>\n",
       "      <td>6337</td>\n",
       "      <td>2</td>\n",
       "    </tr>\n",
       "    <tr>\n",
       "      <th>2</th>\n",
       "      <td>6613</td>\n",
       "      <td>5</td>\n",
       "    </tr>\n",
       "    <tr>\n",
       "      <th>3</th>\n",
       "      <td>6250</td>\n",
       "      <td>4</td>\n",
       "    </tr>\n",
       "    <tr>\n",
       "      <th>4</th>\n",
       "      <td>6363</td>\n",
       "      <td>1</td>\n",
       "    </tr>\n",
       "  </tbody>\n",
       "</table>\n",
       "</div>"
      ],
      "text/plain": [
       "   Milk  Sire\n",
       "0  6330     3\n",
       "1  6337     2\n",
       "2  6613     5\n",
       "3  6250     4\n",
       "4  6363     1"
      ]
     },
     "execution_count": 3,
     "metadata": {},
     "output_type": "execute_result"
    }
   ],
   "source": [
    "sires.head()"
   ]
  },
  {
   "cell_type": "code",
   "execution_count": 7,
   "metadata": {},
   "outputs": [
    {
     "name": "stdout",
     "output_type": "stream",
     "text": [
      "            df      sum_sq        mean_sq         F    PR(>F)\n",
      "C(Sire)    4.0  1251009.35  312752.337500  2.805913  0.040379\n",
      "Residual  35.0  3901165.75  111461.878571       NaN       NaN\n"
     ]
    }
   ],
   "source": [
    "model2 = ols('Milk ~ C(Sire)', data=sires).fit()\n",
    "anova_table2 = sm.stats.anova_lm(model2, typ=1)\n",
    "print(anova_table2)"
   ]
  },
  {
   "cell_type": "code",
   "execution_count": 8,
   "metadata": {},
   "outputs": [],
   "source": [
    "mean = sires['Milk'].mean()\n",
    "sigma_2 = anova_table2['sum_sq'][1]/anova_table2['df'][1]"
   ]
  },
  {
   "cell_type": "code",
   "execution_count": 9,
   "metadata": {},
   "outputs": [
    {
     "name": "stdout",
     "output_type": "stream",
     "text": [
      "Mean: 6518.15\n",
      "Sigma_2: 111461.88\n"
     ]
    }
   ],
   "source": [
    "print(f'Mean: {mean}\\nSigma_2: {round(sigma_2, 2)}')"
   ]
  },
  {
   "cell_type": "code",
   "execution_count": 10,
   "metadata": {},
   "outputs": [
    {
     "name": "stdout",
     "output_type": "stream",
     "text": [
      "\n",
      "\n",
      "Sire\n",
      "1    6689.250\n",
      "2    6282.000\n",
      "3    6325.750\n",
      "4    6671.125\n",
      "5    6622.625\n",
      "Name: Milk, dtype: float64       N      Mean        SD        SE  95% Conf.   Interval\n",
      "Sire                                                       \n",
      "1     8  6689.250  468.8977  165.7804  6297.2417  7081.2583\n",
      "2     8  6282.000  150.5770   53.2370  6156.1145  6407.8855\n",
      "3     8  6325.750  286.1152  101.1570  6086.5517  6564.9483\n",
      "4     8  6671.125  436.9683  154.4916  6305.8104  7036.4396\n",
      "5     8  6622.625  204.8602   72.4290  6451.3576  6793.8924\n"
     ]
    }
   ],
   "source": [
    "mean_col = sires.groupby(['Sire'])['Milk'].mean()\n",
    "col_sires = sires.groupby(['Sire'])['Milk']\n",
    "col_summary = rp.summary_cont(col_sires)\n",
    "print(mean_col, col_summary)"
   ]
  },
  {
   "cell_type": "code",
   "execution_count": 11,
   "metadata": {},
   "outputs": [
    {
     "name": "stdout",
     "output_type": "stream",
     "text": [
      "Tau1: 171.1\n",
      "Tau2: -236.15\n",
      "Tau3: -192.4\n",
      "Tau4: 152.975\n",
      "Tau5: 104.475\n"
     ]
    }
   ],
   "source": [
    "for i in range(1,6):\n",
    "    print(f'Tau{i}: {round(mean_col[i]-mean,3)}')"
   ]
  },
  {
   "cell_type": "markdown",
   "metadata": {},
   "source": [
    "### 95% konfidens intervall for MSe"
   ]
  },
  {
   "cell_type": "code",
   "execution_count": 12,
   "metadata": {},
   "outputs": [
    {
     "data": {
      "text/html": [
       "<div>\n",
       "<style scoped>\n",
       "    .dataframe tbody tr th:only-of-type {\n",
       "        vertical-align: middle;\n",
       "    }\n",
       "\n",
       "    .dataframe tbody tr th {\n",
       "        vertical-align: top;\n",
       "    }\n",
       "\n",
       "    .dataframe thead th {\n",
       "        text-align: right;\n",
       "    }\n",
       "</style>\n",
       "<table border=\"1\" class=\"dataframe\">\n",
       "  <thead>\n",
       "    <tr style=\"text-align: right;\">\n",
       "      <th></th>\n",
       "      <th>df</th>\n",
       "      <th>sum_sq</th>\n",
       "      <th>mean_sq</th>\n",
       "      <th>F</th>\n",
       "      <th>PR(&gt;F)</th>\n",
       "    </tr>\n",
       "  </thead>\n",
       "  <tbody>\n",
       "    <tr>\n",
       "      <th>C(Sire)</th>\n",
       "      <td>4.0</td>\n",
       "      <td>1251009.35</td>\n",
       "      <td>312752.337500</td>\n",
       "      <td>2.805913</td>\n",
       "      <td>0.040379</td>\n",
       "    </tr>\n",
       "    <tr>\n",
       "      <th>Residual</th>\n",
       "      <td>35.0</td>\n",
       "      <td>3901165.75</td>\n",
       "      <td>111461.878571</td>\n",
       "      <td>NaN</td>\n",
       "      <td>NaN</td>\n",
       "    </tr>\n",
       "  </tbody>\n",
       "</table>\n",
       "</div>"
      ],
      "text/plain": [
       "            df      sum_sq        mean_sq         F    PR(>F)\n",
       "C(Sire)    4.0  1251009.35  312752.337500  2.805913  0.040379\n",
       "Residual  35.0  3901165.75  111461.878571       NaN       NaN"
      ]
     },
     "execution_count": 12,
     "metadata": {},
     "output_type": "execute_result"
    }
   ],
   "source": [
    "anova_table2"
   ]
  },
  {
   "cell_type": "code",
   "execution_count": 13,
   "metadata": {},
   "outputs": [
    {
     "name": "stdout",
     "output_type": "stream",
     "text": [
      "The intervall for the error variance is:\n",
      "(73325.56797465836, 189658.9196664783)\n"
     ]
    }
   ],
   "source": [
    "sse = anova_table2['sum_sq'][1]\n",
    "dfe = anova_table2['df'][1]\n",
    "high_tail = stats.chi2.ppf(0.025, dfe)\n",
    "low_tail = stats.chi2.ppf(0.975, dfe)\n",
    "higher = sse/high_tail\n",
    "lower = sse/low_tail\n",
    "interval = [lower, higher]\n",
    "print(f'The intervall for the error variance is:\\n{lower, higher}')"
   ]
  },
  {
   "cell_type": "markdown",
   "metadata": {},
   "source": [
    "### 1 claims that avg milk production is over 150 liter higher than the total average, is this true? (9e)\n",
    "### H0: tau1 <= 150, Ha: tau1 > 150"
   ]
  },
  {
   "cell_type": "code",
   "execution_count": 19,
   "metadata": {},
   "outputs": [
    {
     "name": "stdout",
     "output_type": "stream",
     "text": [
      "                            OLS Regression Results                            \n",
      "==============================================================================\n",
      "Dep. Variable:                   Milk   R-squared:                       0.243\n",
      "Model:                            OLS   Adj. R-squared:                  0.156\n",
      "Method:                 Least Squares   F-statistic:                     2.806\n",
      "Date:                Fri, 14 Aug 2020   Prob (F-statistic):             0.0404\n",
      "Time:                        13:59:57   Log-Likelihood:                -286.52\n",
      "No. Observations:                  40   AIC:                             583.0\n",
      "Df Residuals:                      35   BIC:                             591.5\n",
      "Df Model:                           4                                         \n",
      "Covariance Type:            nonrobust                                         \n",
      "=====================================================================================\n",
      "                        coef    std err          t      P>|t|      [0.025      0.975]\n",
      "-------------------------------------------------------------------------------------\n",
      "Intercept          6518.1500     52.788    123.478      0.000    6410.985    6625.315\n",
      "C(Sire, Sum)[S.1]   171.1000    105.576      1.621      0.114     -43.230     385.430\n",
      "C(Sire, Sum)[S.2]  -236.1500    105.576     -2.237      0.032    -450.480     -21.820\n",
      "C(Sire, Sum)[S.3]  -192.4000    105.576     -1.822      0.077    -406.730      21.930\n",
      "C(Sire, Sum)[S.4]   152.9750    105.576      1.449      0.156     -61.355     367.305\n",
      "==============================================================================\n",
      "Omnibus:                        1.872   Durbin-Watson:                   0.985\n",
      "Prob(Omnibus):                  0.392   Jarque-Bera (JB):                1.126\n",
      "Skew:                           0.397   Prob(JB):                        0.570\n",
      "Kurtosis:                       3.211   Cond. No.                         2.24\n",
      "==============================================================================\n",
      "\n",
      "Warnings:\n",
      "[1] Standard Errors assume that the covariance matrix of the errors is correctly specified.\n"
     ]
    }
   ],
   "source": [
    "model2 = ols('Milk ~ C(Sire, Sum)', data=sires).fit()\n",
    "print(model2.summary())"
   ]
  },
  {
   "cell_type": "markdown",
   "metadata": {},
   "source": [
    "#### Leser av tabellen og bruker verdier for å beregne T0 "
   ]
  },
  {
   "cell_type": "code",
   "execution_count": 49,
   "metadata": {},
   "outputs": [],
   "source": [
    "tau_aprox = mean_col[1] - mean \n",
    "T0 = (tau_aprox - 150)/(105.576)\n",
    "dfe = anova_table2['df'][1]"
   ]
  },
  {
   "cell_type": "code",
   "execution_count": 50,
   "metadata": {},
   "outputs": [],
   "source": [
    "t_alpha_dfe = stats.t.ppf(0.95, dfe)"
   ]
  },
  {
   "cell_type": "code",
   "execution_count": 51,
   "metadata": {},
   "outputs": [
    {
     "name": "stdout",
     "output_type": "stream",
     "text": [
      "T0: 0.19985602788512888, T_alpha: 1.6895724539637709\n"
     ]
    },
    {
     "data": {
      "text/plain": [
       "False"
      ]
     },
     "execution_count": 51,
     "metadata": {},
     "output_type": "execute_result"
    }
   ],
   "source": [
    "print(f'T0: {T0}, T_alpha: {t_alpha_dfe}')\n",
    "T0 > t_alpha_dfe"
   ]
  },
  {
   "cell_type": "markdown",
   "metadata": {},
   "source": [
    "##### Kan ikke forkaste H0"
   ]
  },
  {
   "cell_type": "markdown",
   "metadata": {},
   "source": [
    "## Oppg 9f) sire 4 sier at melker mer enn 6500 i gjennomsnitt"
   ]
  },
  {
   "cell_type": "markdown",
   "metadata": {},
   "source": [
    "### H0: my4 <= 6500, Ha:  my4 > 6500"
   ]
  },
  {
   "cell_type": "code",
   "execution_count": 40,
   "metadata": {
    "scrolled": true
   },
   "outputs": [
    {
     "data": {
      "text/html": [
       "<div>\n",
       "<style scoped>\n",
       "    .dataframe tbody tr th:only-of-type {\n",
       "        vertical-align: middle;\n",
       "    }\n",
       "\n",
       "    .dataframe tbody tr th {\n",
       "        vertical-align: top;\n",
       "    }\n",
       "\n",
       "    .dataframe thead th {\n",
       "        text-align: right;\n",
       "    }\n",
       "</style>\n",
       "<table border=\"1\" class=\"dataframe\">\n",
       "  <thead>\n",
       "    <tr style=\"text-align: right;\">\n",
       "      <th></th>\n",
       "      <th>df</th>\n",
       "      <th>sum_sq</th>\n",
       "      <th>mean_sq</th>\n",
       "      <th>F</th>\n",
       "      <th>PR(&gt;F)</th>\n",
       "    </tr>\n",
       "  </thead>\n",
       "  <tbody>\n",
       "    <tr>\n",
       "      <th>C(Sire)</th>\n",
       "      <td>4.0</td>\n",
       "      <td>1251009.35</td>\n",
       "      <td>312752.337500</td>\n",
       "      <td>2.805913</td>\n",
       "      <td>0.040379</td>\n",
       "    </tr>\n",
       "    <tr>\n",
       "      <th>Residual</th>\n",
       "      <td>35.0</td>\n",
       "      <td>3901165.75</td>\n",
       "      <td>111461.878571</td>\n",
       "      <td>NaN</td>\n",
       "      <td>NaN</td>\n",
       "    </tr>\n",
       "  </tbody>\n",
       "</table>\n",
       "</div>"
      ],
      "text/plain": [
       "            df      sum_sq        mean_sq         F    PR(>F)\n",
       "C(Sire)    4.0  1251009.35  312752.337500  2.805913  0.040379\n",
       "Residual  35.0  3901165.75  111461.878571       NaN       NaN"
      ]
     },
     "execution_count": 40,
     "metadata": {},
     "output_type": "execute_result"
    }
   ],
   "source": [
    "mean = sires['Milk'].mean()\n",
    "mean_col = sires.groupby(['Sire'])['Milk'].mean()\n",
    "sire4_mean = mean_col[4]\n",
    "anova_table2"
   ]
  },
  {
   "cell_type": "code",
   "execution_count": 53,
   "metadata": {},
   "outputs": [
    {
     "name": "stdout",
     "output_type": "stream",
     "text": [
      "T0: 1.449757203931578, T_alpha: 1.6895724539637709\n"
     ]
    },
    {
     "data": {
      "text/plain": [
       "False"
      ]
     },
     "execution_count": 53,
     "metadata": {},
     "output_type": "execute_result"
    }
   ],
   "source": [
    "se_mean4 = (anova_table2['mean_sq'][1]/8)**0.5\n",
    "T0 = (sire4_mean-6500) / se_mean4\n",
    "df = anova_table2['df'][1]\n",
    "t_alpha_dfe = stats.t.ppf(0.95, dfe)\n",
    "print(f'T0: {T0}, T_alpha: {t_alpha_dfe}')\n",
    "T0 > t_alpha_dfe"
   ]
  },
  {
   "cell_type": "markdown",
   "metadata": {},
   "source": [
    "### Oppg 9g), max mean average annual milk on a 5% significance level \n",
    "##### Altså regn ut nedre del av CI"
   ]
  },
  {
   "cell_type": "code",
   "execution_count": 58,
   "metadata": {},
   "outputs": [
    {
     "name": "stdout",
     "output_type": "stream",
     "text": [
      "The max amount to claim is the average,with a 5% significant level is:\n",
      "6471.692925856503\n"
     ]
    }
   ],
   "source": [
    "t_alpha_dfe = stats.t.ppf(0.95, dfe) #dfe is 35 (df of mean square error)\n",
    "max_mean_claim = sire4_mean - se_mean4*t_alpha_dfe\n",
    "print('The max amount to claim is the average,' \n",
    "      f'with a 5% significant level is:\\n{max_mean_claim}')"
   ]
  },
  {
   "cell_type": "markdown",
   "metadata": {},
   "source": [
    "### Oppg 9h), is the average of my4 ad my3 different?\n",
    "H0: my4 = my3, Ha: my4 != my3"
   ]
  },
  {
   "cell_type": "code",
   "execution_count": 69,
   "metadata": {},
   "outputs": [
    {
     "name": "stdout",
     "output_type": "stream",
     "text": [
      "T0: 2.068986773833709\n",
      "Can you reject H0 at alpha=5%?: True because alpha gives 2.03\n",
      "Can you reject H0 at alpha=1%?: False because alpha gives 2.72\n"
     ]
    }
   ],
   "source": [
    "my4 = sire4_mean # fra tidligere oppgave\n",
    "my3 = mean_col[3]\n",
    "diff = my4-my3\n",
    "se_m4_m3 = (2*anova_table2['mean_sq'][1]/8)**0.5\n",
    "T_0 = diff/se_m4_m3\n",
    "t_sig_level5 = stats.t.ppf(0.975, 35)\n",
    "t_sig_level1 = stats.t.ppf(0.995, 35)\n",
    "print(f'T0: {T_0}\\n'\n",
    "    f'Can you reject H0 at alpha=5%?: {T_0 > t_sig_level5} because alpha gives {round(t_sig_level5, 2)}\\n'\n",
    "        f'Can you reject H0 at alpha=1%?: {T_0 > t_sig_level1} because alpha gives {round(t_sig_level1, 2)}')\n"
   ]
  },
  {
   "cell_type": "code",
   "execution_count": null,
   "metadata": {},
   "outputs": [],
   "source": []
  }
 ],
 "metadata": {
  "kernelspec": {
   "display_name": "Python 3",
   "language": "python",
   "name": "python3"
  },
  "language_info": {
   "codemirror_mode": {
    "name": "ipython",
    "version": 3
   },
   "file_extension": ".py",
   "mimetype": "text/x-python",
   "name": "python",
   "nbconvert_exporter": "python",
   "pygments_lexer": "ipython3",
   "version": "3.8.5"
  }
 },
 "nbformat": 4,
 "nbformat_minor": 4
}
