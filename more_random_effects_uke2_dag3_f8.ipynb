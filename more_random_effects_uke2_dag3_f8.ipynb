{
 "cells": [
  {
   "cell_type": "markdown",
   "metadata": {},
   "source": [
    "# OPPG 17, fishing experiment"
   ]
  },
  {
   "cell_type": "code",
   "execution_count": 2,
   "metadata": {},
   "outputs": [],
   "source": [
    "import pandas as pd\n",
    "import statsmodels.api as sm\n",
    "from statsmodels.formula.api import ols\n",
    "import scipy.stats as stats\n",
    "fish = pd.read_csv('FishingExperiment.csv', sep=';', decimal=',')"
   ]
  },
  {
   "cell_type": "markdown",
   "metadata": {},
   "source": [
    "### OPPG 17c)"
   ]
  },
  {
   "cell_type": "code",
   "execution_count": 3,
   "metadata": {},
   "outputs": [
    {
     "data": {
      "text/html": [
       "<div>\n",
       "<style scoped>\n",
       "    .dataframe tbody tr th:only-of-type {\n",
       "        vertical-align: middle;\n",
       "    }\n",
       "\n",
       "    .dataframe tbody tr th {\n",
       "        vertical-align: top;\n",
       "    }\n",
       "\n",
       "    .dataframe thead th {\n",
       "        text-align: right;\n",
       "    }\n",
       "</style>\n",
       "<table border=\"1\" class=\"dataframe\">\n",
       "  <thead>\n",
       "    <tr style=\"text-align: right;\">\n",
       "      <th></th>\n",
       "      <th>df</th>\n",
       "      <th>sum_sq</th>\n",
       "      <th>mean_sq</th>\n",
       "      <th>F</th>\n",
       "      <th>PR(&gt;F)</th>\n",
       "    </tr>\n",
       "  </thead>\n",
       "  <tbody>\n",
       "    <tr>\n",
       "      <th>C(Hook, Sum)</th>\n",
       "      <td>1.0</td>\n",
       "      <td>79.053333</td>\n",
       "      <td>79.053333</td>\n",
       "      <td>30.662616</td>\n",
       "      <td>2.109975e-06</td>\n",
       "    </tr>\n",
       "    <tr>\n",
       "      <th>C(Lake, Sum)</th>\n",
       "      <td>3.0</td>\n",
       "      <td>125.594167</td>\n",
       "      <td>41.864722</td>\n",
       "      <td>16.238175</td>\n",
       "      <td>4.681421e-07</td>\n",
       "    </tr>\n",
       "    <tr>\n",
       "      <th>C(Hook, Sum):C(Lake, Sum)</th>\n",
       "      <td>3.0</td>\n",
       "      <td>99.765000</td>\n",
       "      <td>33.255000</td>\n",
       "      <td>12.898701</td>\n",
       "      <td>4.889917e-06</td>\n",
       "    </tr>\n",
       "    <tr>\n",
       "      <th>Residual</th>\n",
       "      <td>40.0</td>\n",
       "      <td>103.126667</td>\n",
       "      <td>2.578167</td>\n",
       "      <td>NaN</td>\n",
       "      <td>NaN</td>\n",
       "    </tr>\n",
       "  </tbody>\n",
       "</table>\n",
       "</div>"
      ],
      "text/plain": [
       "                             df      sum_sq    mean_sq          F  \\\n",
       "C(Hook, Sum)                1.0   79.053333  79.053333  30.662616   \n",
       "C(Lake, Sum)                3.0  125.594167  41.864722  16.238175   \n",
       "C(Hook, Sum):C(Lake, Sum)   3.0   99.765000  33.255000  12.898701   \n",
       "Residual                   40.0  103.126667   2.578167        NaN   \n",
       "\n",
       "                                 PR(>F)  \n",
       "C(Hook, Sum)               2.109975e-06  \n",
       "C(Lake, Sum)               4.681421e-07  \n",
       "C(Hook, Sum):C(Lake, Sum)  4.889917e-06  \n",
       "Residual                            NaN  "
      ]
     },
     "execution_count": 3,
     "metadata": {},
     "output_type": "execute_result"
    }
   ],
   "source": [
    "model_fish = ols('Yield ~ C(Hook, Sum) * C(Lake, Sum)', data=fish).fit()\n",
    "anova_fish = sm.stats.anova_lm(model_fish)\n",
    "anova_fish"
   ]
  },
  {
   "cell_type": "markdown",
   "metadata": {},
   "source": [
    "### H0: sigma2_tb = 0, Ha: sigma2_tb > 0"
   ]
  },
  {
   "cell_type": "code",
   "execution_count": 4,
   "metadata": {},
   "outputs": [
    {
     "name": "stdout",
     "output_type": "stream",
     "text": [
      "F0: 12.898700627060576\n",
      "Alpha: 0.05\n",
      "f_value: 4.889916619634598e-06\n",
      "Reject: True\n"
     ]
    }
   ],
   "source": [
    "MS_ab = anova_fish['mean_sq'][2]\n",
    "MS_e = anova_fish['mean_sq'][3]\n",
    "df_ab = anova_fish['df'][2]\n",
    "df_e = anova_fish['df'][3]\n",
    "alpha = 0.05\n",
    "F0 = MS_ab/MS_e\n",
    "f_test = stats.f.sf(F0, df_ab, df_e)\n",
    "print(f'F0: {F0}\\nAlpha: {alpha}\\nf_value: {f_test}\\nReject: {f_test < alpha}')"
   ]
  },
  {
   "cell_type": "markdown",
   "metadata": {},
   "source": [
    "### H0: sigma2_t = 0, Ha: sigma2_t > 0"
   ]
  },
  {
   "cell_type": "code",
   "execution_count": 5,
   "metadata": {},
   "outputs": [
    {
     "name": "stdout",
     "output_type": "stream",
     "text": [
      "F0: 1.2589000818590363\n",
      "Alpha: 0.05\n",
      "f_value: 0.4271949458002132\n",
      "Reject: False\n"
     ]
    }
   ],
   "source": [
    "MS_ab = anova_fish['mean_sq'][2]\n",
    "MS_a = anova_fish['mean_sq'][1]\n",
    "df_ab = anova_fish['df'][2]\n",
    "df_a = anova_fish['df'][1]\n",
    "alpha = 0.05\n",
    "F0 = MS_a/MS_ab\n",
    "f_test = stats.f.sf(F0, df_a, df_ab)\n",
    "print(f'F0: {F0}\\nAlpha: {alpha}\\nf_value: {f_test}\\nReject: {f_test < alpha}')"
   ]
  },
  {
   "cell_type": "markdown",
   "metadata": {},
   "source": [
    "### H0: sigma2_b = 0, Ha: sigma2_b > 0"
   ]
  },
  {
   "cell_type": "code",
   "execution_count": 6,
   "metadata": {},
   "outputs": [
    {
     "name": "stdout",
     "output_type": "stream",
     "text": [
      "F0: 2.3771863880118276\n",
      "Alpha: 0.05\n",
      "f_value: 0.22078369980839863\n",
      "Reject: False\n"
     ]
    }
   ],
   "source": [
    "MS_ab = anova_fish['mean_sq'][2]\n",
    "MS_b = anova_fish['mean_sq'][0]\n",
    "df_ab = anova_fish['df'][2]\n",
    "df_b = anova_fish['df'][0]\n",
    "alpha = 0.05\n",
    "F0 = MS_b/MS_ab\n",
    "f_test = stats.f.sf(F0, df_b, df_ab)\n",
    "print(f'F0: {F0}\\nAlpha: {alpha}\\nf_value: {f_test}\\nReject: {f_test < alpha}')"
   ]
  },
  {
   "cell_type": "markdown",
   "metadata": {},
   "source": [
    "## oppg 17d)"
   ]
  },
  {
   "cell_type": "code",
   "execution_count": 7,
   "metadata": {
    "scrolled": true
   },
   "outputs": [
    {
     "data": {
      "text/html": [
       "<table class=\"simpletable\">\n",
       "<caption>OLS Regression Results</caption>\n",
       "<tr>\n",
       "  <th>Dep. Variable:</th>          <td>Yield</td>      <th>  R-squared:         </th> <td>   0.747</td>\n",
       "</tr>\n",
       "<tr>\n",
       "  <th>Model:</th>                   <td>OLS</td>       <th>  Adj. R-squared:    </th> <td>   0.703</td>\n",
       "</tr>\n",
       "<tr>\n",
       "  <th>Method:</th>             <td>Least Squares</td>  <th>  F-statistic:       </th> <td>   16.87</td>\n",
       "</tr>\n",
       "<tr>\n",
       "  <th>Date:</th>             <td>Fri, 21 Aug 2020</td> <th>  Prob (F-statistic):</th> <td>3.86e-10</td>\n",
       "</tr>\n",
       "<tr>\n",
       "  <th>Time:</th>                 <td>10:25:15</td>     <th>  Log-Likelihood:    </th> <td> -86.463</td>\n",
       "</tr>\n",
       "<tr>\n",
       "  <th>No. Observations:</th>      <td>    48</td>      <th>  AIC:               </th> <td>   188.9</td>\n",
       "</tr>\n",
       "<tr>\n",
       "  <th>Df Residuals:</th>          <td>    40</td>      <th>  BIC:               </th> <td>   203.9</td>\n",
       "</tr>\n",
       "<tr>\n",
       "  <th>Df Model:</th>              <td>     7</td>      <th>                     </th>     <td> </td>   \n",
       "</tr>\n",
       "<tr>\n",
       "  <th>Covariance Type:</th>      <td>nonrobust</td>    <th>                     </th>     <td> </td>   \n",
       "</tr>\n",
       "</table>\n",
       "<table class=\"simpletable\">\n",
       "<tr>\n",
       "                       <td></td>                         <th>coef</th>     <th>std err</th>      <th>t</th>      <th>P>|t|</th>  <th>[0.025</th>    <th>0.975]</th>  \n",
       "</tr>\n",
       "<tr>\n",
       "  <th>Intercept</th>                                  <td>    9.9292</td> <td>    0.232</td> <td>   42.843</td> <td> 0.000</td> <td>    9.461</td> <td>   10.398</td>\n",
       "</tr>\n",
       "<tr>\n",
       "  <th>C(Hook, Sum)[S.Lure]</th>                       <td>    1.2833</td> <td>    0.232</td> <td>    5.537</td> <td> 0.000</td> <td>    0.815</td> <td>    1.752</td>\n",
       "</tr>\n",
       "<tr>\n",
       "  <th>C(Lake, Sum)[S.Lake1]</th>                      <td>    2.1458</td> <td>    0.401</td> <td>    5.346</td> <td> 0.000</td> <td>    1.335</td> <td>    2.957</td>\n",
       "</tr>\n",
       "<tr>\n",
       "  <th>C(Lake, Sum)[S.Lake2]</th>                      <td>   -2.1875</td> <td>    0.401</td> <td>   -5.449</td> <td> 0.000</td> <td>   -2.999</td> <td>   -1.376</td>\n",
       "</tr>\n",
       "<tr>\n",
       "  <th>C(Lake, Sum)[S.Lake3]</th>                      <td>    0.7542</td> <td>    0.401</td> <td>    1.879</td> <td> 0.068</td> <td>   -0.057</td> <td>    1.565</td>\n",
       "</tr>\n",
       "<tr>\n",
       "  <th>C(Hook, Sum)[S.Lure]:C(Lake, Sum)[S.Lake1]</th> <td>    0.7750</td> <td>    0.401</td> <td>    1.931</td> <td> 0.061</td> <td>   -0.036</td> <td>    1.586</td>\n",
       "</tr>\n",
       "<tr>\n",
       "  <th>C(Hook, Sum)[S.Lure]:C(Lake, Sum)[S.Lake2]</th> <td>   -0.8250</td> <td>    0.401</td> <td>   -2.055</td> <td> 0.046</td> <td>   -1.636</td> <td>   -0.014</td>\n",
       "</tr>\n",
       "<tr>\n",
       "  <th>C(Hook, Sum)[S.Lure]:C(Lake, Sum)[S.Lake3]</th> <td>    1.9000</td> <td>    0.401</td> <td>    4.733</td> <td> 0.000</td> <td>    1.089</td> <td>    2.711</td>\n",
       "</tr>\n",
       "</table>\n",
       "<table class=\"simpletable\">\n",
       "<tr>\n",
       "  <th>Omnibus:</th>       <td> 0.193</td> <th>  Durbin-Watson:     </th> <td>   2.316</td>\n",
       "</tr>\n",
       "<tr>\n",
       "  <th>Prob(Omnibus):</th> <td> 0.908</td> <th>  Jarque-Bera (JB):  </th> <td>   0.221</td>\n",
       "</tr>\n",
       "<tr>\n",
       "  <th>Skew:</th>          <td> 0.136</td> <th>  Prob(JB):          </th> <td>   0.895</td>\n",
       "</tr>\n",
       "<tr>\n",
       "  <th>Kurtosis:</th>      <td> 2.808</td> <th>  Cond. No.          </th> <td>    2.00</td>\n",
       "</tr>\n",
       "</table><br/><br/>Warnings:<br/>[1] Standard Errors assume that the covariance matrix of the errors is correctly specified."
      ],
      "text/plain": [
       "<class 'statsmodels.iolib.summary.Summary'>\n",
       "\"\"\"\n",
       "                            OLS Regression Results                            \n",
       "==============================================================================\n",
       "Dep. Variable:                  Yield   R-squared:                       0.747\n",
       "Model:                            OLS   Adj. R-squared:                  0.703\n",
       "Method:                 Least Squares   F-statistic:                     16.87\n",
       "Date:                Fri, 21 Aug 2020   Prob (F-statistic):           3.86e-10\n",
       "Time:                        10:25:15   Log-Likelihood:                -86.463\n",
       "No. Observations:                  48   AIC:                             188.9\n",
       "Df Residuals:                      40   BIC:                             203.9\n",
       "Df Model:                           7                                         \n",
       "Covariance Type:            nonrobust                                         \n",
       "==============================================================================================================\n",
       "                                                 coef    std err          t      P>|t|      [0.025      0.975]\n",
       "--------------------------------------------------------------------------------------------------------------\n",
       "Intercept                                      9.9292      0.232     42.843      0.000       9.461      10.398\n",
       "C(Hook, Sum)[S.Lure]                           1.2833      0.232      5.537      0.000       0.815       1.752\n",
       "C(Lake, Sum)[S.Lake1]                          2.1458      0.401      5.346      0.000       1.335       2.957\n",
       "C(Lake, Sum)[S.Lake2]                         -2.1875      0.401     -5.449      0.000      -2.999      -1.376\n",
       "C(Lake, Sum)[S.Lake3]                          0.7542      0.401      1.879      0.068      -0.057       1.565\n",
       "C(Hook, Sum)[S.Lure]:C(Lake, Sum)[S.Lake1]     0.7750      0.401      1.931      0.061      -0.036       1.586\n",
       "C(Hook, Sum)[S.Lure]:C(Lake, Sum)[S.Lake2]    -0.8250      0.401     -2.055      0.046      -1.636      -0.014\n",
       "C(Hook, Sum)[S.Lure]:C(Lake, Sum)[S.Lake3]     1.9000      0.401      4.733      0.000       1.089       2.711\n",
       "==============================================================================\n",
       "Omnibus:                        0.193   Durbin-Watson:                   2.316\n",
       "Prob(Omnibus):                  0.908   Jarque-Bera (JB):                0.221\n",
       "Skew:                           0.136   Prob(JB):                        0.895\n",
       "Kurtosis:                       2.808   Cond. No.                         2.00\n",
       "==============================================================================\n",
       "\n",
       "Warnings:\n",
       "[1] Standard Errors assume that the covariance matrix of the errors is correctly specified.\n",
       "\"\"\""
      ]
     },
     "execution_count": 7,
     "metadata": {},
     "output_type": "execute_result"
    }
   ],
   "source": [
    "model_fish.summary()"
   ]
  },
  {
   "cell_type": "code",
   "execution_count": 8,
   "metadata": {},
   "outputs": [
    {
     "name": "stdout",
     "output_type": "stream",
     "text": [
      "Mu: 9.93\n",
      "Sigma2_t: 0.72\n",
      "Sigma2_b: 1.91\n",
      "Sigma2_tb: 5.11\n",
      "Sigma2: 2.58\n"
     ]
    }
   ],
   "source": [
    "my = 9.93  #leser det fra summaryen\n",
    "sigma2_t = (MS_a-MS_ab)/(2*6)\n",
    "sigma2_b = (MS_b-MS_ab)/(4*6)\n",
    "sigma2_tb = (MS_ab-MS_e)/6\n",
    "sigma2 = MS_e\n",
    "print(f'Mu: {my}\\nSigma2_t: {round(sigma2_t,2)}\\nSigma2_b: {round(sigma2_b,2)}\\nSigma2_tb: {round(sigma2_tb,2)}\\nSigma2: {round(sigma2,2)}')"
   ]
  },
  {
   "cell_type": "markdown",
   "metadata": {},
   "source": [
    "#### Gjennomsnittet er ca 10 hg = 1 kg, estimatene for sigmaene t og b er veldig små, altså er de ikke signifikant forskjellige fra 0. Sigma tb så ser man at det er en sterk interaksjon mellom 'lake' og 'hook', med andre ord så ville man brukt forskjellig krok til forkjellig innsjø"
   ]
  },
  {
   "cell_type": "markdown",
   "metadata": {},
   "source": [
    "## oppg 17e)"
   ]
  },
  {
   "cell_type": "code",
   "execution_count": 35,
   "metadata": {},
   "outputs": [],
   "source": [
    "from statsmodels.formula.api import mixedlm\n"
   ]
  },
  {
   "cell_type": "code",
   "execution_count": 42,
   "metadata": {
    "scrolled": true
   },
   "outputs": [
    {
     "data": {
      "text/html": [
       "<table class=\"simpletable\">\n",
       "<tr>\n",
       "       <td>Model:</td>       <td>MixedLM</td> <td>Dependent Variable:</td>   <td>Yield</td> \n",
       "</tr>\n",
       "<tr>\n",
       "  <td>No. Observations:</td>   <td>48</td>          <td>Method:</td>         <td>REML</td>  \n",
       "</tr>\n",
       "<tr>\n",
       "     <td>No. Groups:</td>       <td>4</td>          <td>Scale:</td>         <td>2.5782</td> \n",
       "</tr>\n",
       "<tr>\n",
       "  <td>Min. group size:</td>    <td>12</td>      <td>Log-Likelihood:</td>   <td>-88.4113</td>\n",
       "</tr>\n",
       "<tr>\n",
       "  <td>Max. group size:</td>    <td>12</td>        <td>Converged:</td>         <td>Yes</td>  \n",
       "</tr>\n",
       "<tr>\n",
       "  <td>Mean group size:</td>   <td>12.0</td>            <td></td>               <td></td>    \n",
       "</tr>\n",
       "</table>\n",
       "<table class=\"simpletable\">\n",
       "<tr>\n",
       "                       <td></td>                       <th>Coef.</th>   <th>Std.Err.</th>      <th>z</th>   <th>P>|z|</th> <th>[0.025</th> <th>0.975]</th>\n",
       "</tr>\n",
       "<tr>\n",
       "  <th>Intercept</th>                                   <td>9.929</td>     <td>0.836</td>    <td>11.882</td> <td>0.000</td>  <td>8.291</td> <td>11.567</td>\n",
       "</tr>\n",
       "<tr>\n",
       "  <th>C(Hook, Sum)[S.Lure]</th>                        <td>1.283</td>     <td>0.232</td>     <td>5.537</td> <td>0.000</td>  <td>0.829</td>  <td>1.738</td>\n",
       "</tr>\n",
       "<tr>\n",
       "  <th>C(Lake, Sum)[S.Lake1]</th>                       <td>2.146</td>     <td>1.447</td>     <td>1.483</td> <td>0.138</td> <td>-0.691</td>  <td>4.983</td>\n",
       "</tr>\n",
       "<tr>\n",
       "  <th>C(Lake, Sum)[S.Lake2]</th>                      <td>-2.187</td>     <td>1.447</td>    <td>-1.511</td> <td>0.131</td> <td>-5.024</td>  <td>0.649</td>\n",
       "</tr>\n",
       "<tr>\n",
       "  <th>C(Lake, Sum)[S.Lake3]</th>                       <td>0.754</td>     <td>1.447</td>     <td>0.521</td> <td>0.602</td> <td>-2.083</td>  <td>3.591</td>\n",
       "</tr>\n",
       "<tr>\n",
       "  <th>C(Hook, Sum)[S.Lure]:C(Lake, Sum)[S.Lake1]</th>  <td>0.775</td>     <td>0.401</td>     <td>1.931</td> <td>0.054</td> <td>-0.012</td>  <td>1.562</td>\n",
       "</tr>\n",
       "<tr>\n",
       "  <th>C(Hook, Sum)[S.Lure]:C(Lake, Sum)[S.Lake2]</th> <td>-0.825</td>     <td>0.401</td>    <td>-2.055</td> <td>0.040</td> <td>-1.612</td> <td>-0.038</td>\n",
       "</tr>\n",
       "<tr>\n",
       "  <th>C(Hook, Sum)[S.Lure]:C(Lake, Sum)[S.Lake3]</th>  <td>1.900</td>     <td>0.401</td>     <td>4.733</td> <td>0.000</td>  <td>1.113</td>  <td>2.687</td>\n",
       "</tr>\n",
       "<tr>\n",
       "  <th>Group Var</th>                                   <td>2.578</td> <td>53877245.752</td>    <td></td>      <td></td>       <td></td>       <td></td>   \n",
       "</tr>\n",
       "</table>"
      ],
      "text/plain": [
       "<class 'statsmodels.iolib.summary2.Summary'>\n",
       "\"\"\"\n",
       "                          Mixed Linear Model Regression Results\n",
       "=========================================================================================\n",
       "Model:                         MixedLM            Dependent Variable:            Yield   \n",
       "No. Observations:              48                 Method:                        REML    \n",
       "No. Groups:                    4                  Scale:                         2.5782  \n",
       "Min. group size:               12                 Log-Likelihood:                -88.4113\n",
       "Max. group size:               12                 Converged:                     Yes     \n",
       "Mean group size:               12.0                                                      \n",
       "-----------------------------------------------------------------------------------------\n",
       "                                           Coef.    Std.Err.     z    P>|z| [0.025 0.975]\n",
       "-----------------------------------------------------------------------------------------\n",
       "Intercept                                   9.929        0.836 11.882 0.000  8.291 11.567\n",
       "C(Hook, Sum)[S.Lure]                        1.283        0.232  5.537 0.000  0.829  1.738\n",
       "C(Lake, Sum)[S.Lake1]                       2.146        1.447  1.483 0.138 -0.691  4.983\n",
       "C(Lake, Sum)[S.Lake2]                      -2.187        1.447 -1.511 0.131 -5.024  0.649\n",
       "C(Lake, Sum)[S.Lake3]                       0.754        1.447  0.521 0.602 -2.083  3.591\n",
       "C(Hook, Sum)[S.Lure]:C(Lake, Sum)[S.Lake1]  0.775        0.401  1.931 0.054 -0.012  1.562\n",
       "C(Hook, Sum)[S.Lure]:C(Lake, Sum)[S.Lake2] -0.825        0.401 -2.055 0.040 -1.612 -0.038\n",
       "C(Hook, Sum)[S.Lure]:C(Lake, Sum)[S.Lake3]  1.900        0.401  4.733 0.000  1.113  2.687\n",
       "Group Var                                   2.578 53877245.752                           \n",
       "=========================================================================================\n",
       "\n",
       "\"\"\""
      ]
     },
     "execution_count": 42,
     "metadata": {},
     "output_type": "execute_result"
    }
   ],
   "source": [
    "model = mixedlm('Yield ~ C(Hook, Sum) * C(Lake, Sum)', groups=fish['Lake'], data=fish).fit()\n",
    "model.summary()"
   ]
  },
  {
   "cell_type": "code",
   "execution_count": 43,
   "metadata": {
    "scrolled": true
   },
   "outputs": [
    {
     "data": {
      "text/html": [
       "<table class=\"simpletable\">\n",
       "<tr>\n",
       "       <td>Model:</td>       <td>MixedLM</td> <td>Dependent Variable:</td>   <td>Yield</td> \n",
       "</tr>\n",
       "<tr>\n",
       "  <td>No. Observations:</td>   <td>48</td>          <td>Method:</td>         <td>REML</td>  \n",
       "</tr>\n",
       "<tr>\n",
       "     <td>No. Groups:</td>       <td>2</td>          <td>Scale:</td>         <td>2.5782</td> \n",
       "</tr>\n",
       "<tr>\n",
       "  <td>Min. group size:</td>    <td>24</td>      <td>Log-Likelihood:</td>   <td>-88.4113</td>\n",
       "</tr>\n",
       "<tr>\n",
       "  <td>Max. group size:</td>    <td>24</td>        <td>Converged:</td>         <td>Yes</td>  \n",
       "</tr>\n",
       "<tr>\n",
       "  <td>Mean group size:</td>   <td>24.0</td>            <td></td>               <td></td>    \n",
       "</tr>\n",
       "</table>\n",
       "<table class=\"simpletable\">\n",
       "<tr>\n",
       "                       <td></td>                       <th>Coef.</th>   <th>Std.Err.</th>      <th>z</th>   <th>P>|z|</th> <th>[0.025</th> <th>0.975]</th>\n",
       "</tr>\n",
       "<tr>\n",
       "  <th>Intercept</th>                                   <td>9.929</td>     <td>1.159</td>     <td>8.569</td> <td>0.000</td>  <td>7.658</td> <td>12.200</td>\n",
       "</tr>\n",
       "<tr>\n",
       "  <th>C(Hook, Sum)[S.Lure]</th>                        <td>1.283</td>     <td>1.159</td>     <td>1.107</td> <td>0.268</td> <td>-0.988</td>  <td>3.555</td>\n",
       "</tr>\n",
       "<tr>\n",
       "  <th>C(Lake, Sum)[S.Lake1]</th>                       <td>2.146</td>     <td>0.401</td>     <td>5.346</td> <td>0.000</td>  <td>1.359</td>  <td>2.933</td>\n",
       "</tr>\n",
       "<tr>\n",
       "  <th>C(Lake, Sum)[S.Lake2]</th>                      <td>-2.188</td>     <td>0.401</td>    <td>-5.449</td> <td>0.000</td> <td>-2.974</td> <td>-1.401</td>\n",
       "</tr>\n",
       "<tr>\n",
       "  <th>C(Lake, Sum)[S.Lake3]</th>                       <td>0.754</td>     <td>0.401</td>     <td>1.879</td> <td>0.060</td> <td>-0.033</td>  <td>1.541</td>\n",
       "</tr>\n",
       "<tr>\n",
       "  <th>C(Hook, Sum)[S.Lure]:C(Lake, Sum)[S.Lake1]</th>  <td>0.775</td>     <td>0.401</td>     <td>1.931</td> <td>0.054</td> <td>-0.012</td>  <td>1.562</td>\n",
       "</tr>\n",
       "<tr>\n",
       "  <th>C(Hook, Sum)[S.Lure]:C(Lake, Sum)[S.Lake2]</th> <td>-0.825</td>     <td>0.401</td>    <td>-2.055</td> <td>0.040</td> <td>-1.612</td> <td>-0.038</td>\n",
       "</tr>\n",
       "<tr>\n",
       "  <th>C(Hook, Sum)[S.Lure]:C(Lake, Sum)[S.Lake3]</th>  <td>1.900</td>     <td>0.401</td>     <td>4.733</td> <td>0.000</td>  <td>1.113</td>  <td>2.687</td>\n",
       "</tr>\n",
       "<tr>\n",
       "  <th>Group Var</th>                                   <td>2.578</td> <td>68149924.254</td>    <td></td>      <td></td>       <td></td>       <td></td>   \n",
       "</tr>\n",
       "</table>"
      ],
      "text/plain": [
       "<class 'statsmodels.iolib.summary2.Summary'>\n",
       "\"\"\"\n",
       "                          Mixed Linear Model Regression Results\n",
       "=========================================================================================\n",
       "Model:                         MixedLM            Dependent Variable:            Yield   \n",
       "No. Observations:              48                 Method:                        REML    \n",
       "No. Groups:                    2                  Scale:                         2.5782  \n",
       "Min. group size:               24                 Log-Likelihood:                -88.4113\n",
       "Max. group size:               24                 Converged:                     Yes     \n",
       "Mean group size:               24.0                                                      \n",
       "-----------------------------------------------------------------------------------------\n",
       "                                           Coef.    Std.Err.     z    P>|z| [0.025 0.975]\n",
       "-----------------------------------------------------------------------------------------\n",
       "Intercept                                   9.929        1.159  8.569 0.000  7.658 12.200\n",
       "C(Hook, Sum)[S.Lure]                        1.283        1.159  1.107 0.268 -0.988  3.555\n",
       "C(Lake, Sum)[S.Lake1]                       2.146        0.401  5.346 0.000  1.359  2.933\n",
       "C(Lake, Sum)[S.Lake2]                      -2.188        0.401 -5.449 0.000 -2.974 -1.401\n",
       "C(Lake, Sum)[S.Lake3]                       0.754        0.401  1.879 0.060 -0.033  1.541\n",
       "C(Hook, Sum)[S.Lure]:C(Lake, Sum)[S.Lake1]  0.775        0.401  1.931 0.054 -0.012  1.562\n",
       "C(Hook, Sum)[S.Lure]:C(Lake, Sum)[S.Lake2] -0.825        0.401 -2.055 0.040 -1.612 -0.038\n",
       "C(Hook, Sum)[S.Lure]:C(Lake, Sum)[S.Lake3]  1.900        0.401  4.733 0.000  1.113  2.687\n",
       "Group Var                                   2.578 68149924.254                           \n",
       "=========================================================================================\n",
       "\n",
       "\"\"\""
      ]
     },
     "execution_count": 43,
     "metadata": {},
     "output_type": "execute_result"
    }
   ],
   "source": [
    "model = mixedlm('Yield ~ C(Hook, Sum) * C(Lake, Sum)', groups=fish['Hook'], data=fish).fit()\n",
    "model.summary()"
   ]
  },
  {
   "cell_type": "code",
   "execution_count": null,
   "metadata": {},
   "outputs": [],
   "source": []
  }
 ],
 "metadata": {
  "kernelspec": {
   "display_name": "Python 3",
   "language": "python",
   "name": "python3"
  },
  "language_info": {
   "codemirror_mode": {
    "name": "ipython",
    "version": 3
   },
   "file_extension": ".py",
   "mimetype": "text/x-python",
   "name": "python",
   "nbconvert_exporter": "python",
   "pygments_lexer": "ipython3",
   "version": "3.8.5"
  }
 },
 "nbformat": 4,
 "nbformat_minor": 4
}
