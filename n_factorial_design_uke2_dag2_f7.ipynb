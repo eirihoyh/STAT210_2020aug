{
 "cells": [
  {
   "cell_type": "markdown",
   "metadata": {},
   "source": [
    "# OPPG 15"
   ]
  },
  {
   "cell_type": "code",
   "execution_count": 101,
   "metadata": {},
   "outputs": [],
   "source": [
    "import pandas as pd\n",
    "import statsmodels.graphics.factorplots as smgf\n",
    "import statsmodels.api as sm\n",
    "from statsmodels.formula.api import ols"
   ]
  },
  {
   "cell_type": "code",
   "execution_count": 102,
   "metadata": {},
   "outputs": [],
   "source": [
    "beer_clever = pd.read_csv('BeerDataClever.csv', sep=';')\n",
    "beer_not_clever = pd.read_csv('BeerDataNotClever.csv', sep=';')"
   ]
  },
  {
   "cell_type": "code",
   "execution_count": 103,
   "metadata": {
    "scrolled": true
   },
   "outputs": [
    {
     "name": "stdout",
     "output_type": "stream",
     "text": [
      "   Unnamed: 0  Taste Ingredience1 Ingredience2 Ingredience3\n",
      "0           1      0          Yes          Yes          Yes\n",
      "1           2      2          Yes          Yes          Yes\n",
      "2           3      6          Yes          Yes           No\n",
      "3           4      7          Yes          Yes           No\n",
      "4           5      9          Yes           No          Yes    Unnamed: 0  Taste Ingredience1 Ingredience2 Ingredience3\n",
      "0           1      0          Yes          Yes          Yes\n",
      "1           2      2          Yes          Yes          Yes\n",
      "2           3      0          Yes          Yes          Yes\n",
      "3           4      1          Yes          Yes          Yes\n",
      "4           5      7          Yes           No           No\n"
     ]
    }
   ],
   "source": [
    "print(beer_clever.head(), beer_not_clever.head())"
   ]
  },
  {
   "cell_type": "markdown",
   "metadata": {},
   "source": [
    "## Oppg 15a)"
   ]
  },
  {
   "cell_type": "code",
   "execution_count": 104,
   "metadata": {},
   "outputs": [
    {
     "data": {
      "text/html": [
       "<div>\n",
       "<style scoped>\n",
       "    .dataframe tbody tr th:only-of-type {\n",
       "        vertical-align: middle;\n",
       "    }\n",
       "\n",
       "    .dataframe tbody tr th {\n",
       "        vertical-align: top;\n",
       "    }\n",
       "\n",
       "    .dataframe thead th {\n",
       "        text-align: right;\n",
       "    }\n",
       "</style>\n",
       "<table border=\"1\" class=\"dataframe\">\n",
       "  <thead>\n",
       "    <tr style=\"text-align: right;\">\n",
       "      <th></th>\n",
       "      <th>Unnamed: 0</th>\n",
       "      <th>Taste</th>\n",
       "      <th>Ingredience1</th>\n",
       "      <th>Ingredience2</th>\n",
       "      <th>Ingredience3</th>\n",
       "    </tr>\n",
       "  </thead>\n",
       "  <tbody>\n",
       "    <tr>\n",
       "      <th>0</th>\n",
       "      <td>1</td>\n",
       "      <td>0</td>\n",
       "      <td>Yes</td>\n",
       "      <td>Yes</td>\n",
       "      <td>Yes</td>\n",
       "    </tr>\n",
       "    <tr>\n",
       "      <th>1</th>\n",
       "      <td>2</td>\n",
       "      <td>2</td>\n",
       "      <td>Yes</td>\n",
       "      <td>Yes</td>\n",
       "      <td>Yes</td>\n",
       "    </tr>\n",
       "    <tr>\n",
       "      <th>2</th>\n",
       "      <td>3</td>\n",
       "      <td>6</td>\n",
       "      <td>Yes</td>\n",
       "      <td>Yes</td>\n",
       "      <td>No</td>\n",
       "    </tr>\n",
       "    <tr>\n",
       "      <th>3</th>\n",
       "      <td>4</td>\n",
       "      <td>7</td>\n",
       "      <td>Yes</td>\n",
       "      <td>Yes</td>\n",
       "      <td>No</td>\n",
       "    </tr>\n",
       "    <tr>\n",
       "      <th>4</th>\n",
       "      <td>5</td>\n",
       "      <td>9</td>\n",
       "      <td>Yes</td>\n",
       "      <td>No</td>\n",
       "      <td>Yes</td>\n",
       "    </tr>\n",
       "  </tbody>\n",
       "</table>\n",
       "</div>"
      ],
      "text/plain": [
       "   Unnamed: 0  Taste Ingredience1 Ingredience2 Ingredience3\n",
       "0           1      0          Yes          Yes          Yes\n",
       "1           2      2          Yes          Yes          Yes\n",
       "2           3      6          Yes          Yes           No\n",
       "3           4      7          Yes          Yes           No\n",
       "4           5      9          Yes           No          Yes"
      ]
     },
     "execution_count": 104,
     "metadata": {},
     "output_type": "execute_result"
    }
   ],
   "source": [
    "beer_clever.head()"
   ]
  },
  {
   "cell_type": "code",
   "execution_count": 105,
   "metadata": {},
   "outputs": [
    {
     "data": {
      "text/html": [
       "<div>\n",
       "<style scoped>\n",
       "    .dataframe tbody tr th:only-of-type {\n",
       "        vertical-align: middle;\n",
       "    }\n",
       "\n",
       "    .dataframe tbody tr th {\n",
       "        vertical-align: top;\n",
       "    }\n",
       "\n",
       "    .dataframe thead th {\n",
       "        text-align: right;\n",
       "    }\n",
       "</style>\n",
       "<table border=\"1\" class=\"dataframe\">\n",
       "  <thead>\n",
       "    <tr style=\"text-align: right;\">\n",
       "      <th></th>\n",
       "      <th>Unnamed: 0</th>\n",
       "      <th>Taste</th>\n",
       "      <th>Ingredience1</th>\n",
       "      <th>Ingredience2</th>\n",
       "      <th>Ingredience3</th>\n",
       "    </tr>\n",
       "  </thead>\n",
       "  <tbody>\n",
       "    <tr>\n",
       "      <th>0</th>\n",
       "      <td>1</td>\n",
       "      <td>0</td>\n",
       "      <td>Yes</td>\n",
       "      <td>Yes</td>\n",
       "      <td>Yes</td>\n",
       "    </tr>\n",
       "    <tr>\n",
       "      <th>1</th>\n",
       "      <td>2</td>\n",
       "      <td>2</td>\n",
       "      <td>Yes</td>\n",
       "      <td>Yes</td>\n",
       "      <td>Yes</td>\n",
       "    </tr>\n",
       "    <tr>\n",
       "      <th>2</th>\n",
       "      <td>3</td>\n",
       "      <td>0</td>\n",
       "      <td>Yes</td>\n",
       "      <td>Yes</td>\n",
       "      <td>Yes</td>\n",
       "    </tr>\n",
       "    <tr>\n",
       "      <th>3</th>\n",
       "      <td>4</td>\n",
       "      <td>1</td>\n",
       "      <td>Yes</td>\n",
       "      <td>Yes</td>\n",
       "      <td>Yes</td>\n",
       "    </tr>\n",
       "    <tr>\n",
       "      <th>4</th>\n",
       "      <td>5</td>\n",
       "      <td>7</td>\n",
       "      <td>Yes</td>\n",
       "      <td>No</td>\n",
       "      <td>No</td>\n",
       "    </tr>\n",
       "  </tbody>\n",
       "</table>\n",
       "</div>"
      ],
      "text/plain": [
       "   Unnamed: 0  Taste Ingredience1 Ingredience2 Ingredience3\n",
       "0           1      0          Yes          Yes          Yes\n",
       "1           2      2          Yes          Yes          Yes\n",
       "2           3      0          Yes          Yes          Yes\n",
       "3           4      1          Yes          Yes          Yes\n",
       "4           5      7          Yes           No           No"
      ]
     },
     "execution_count": 105,
     "metadata": {},
     "output_type": "execute_result"
    }
   ],
   "source": [
    "beer_not_clever.head()"
   ]
  },
  {
   "cell_type": "markdown",
   "metadata": {},
   "source": [
    "### Clever can be treated as a complete 3 factor factorial design because they have all combinations of the ingreadians and have at least two of them to verify"
   ]
  },
  {
   "cell_type": "markdown",
   "metadata": {},
   "source": [
    "## oppg 15b) "
   ]
  },
  {
   "cell_type": "code",
   "execution_count": 122,
   "metadata": {},
   "outputs": [
    {
     "data": {
      "text/html": [
       "<div>\n",
       "<style scoped>\n",
       "    .dataframe tbody tr th:only-of-type {\n",
       "        vertical-align: middle;\n",
       "    }\n",
       "\n",
       "    .dataframe tbody tr th {\n",
       "        vertical-align: top;\n",
       "    }\n",
       "\n",
       "    .dataframe thead th {\n",
       "        text-align: right;\n",
       "    }\n",
       "</style>\n",
       "<table border=\"1\" class=\"dataframe\">\n",
       "  <thead>\n",
       "    <tr style=\"text-align: right;\">\n",
       "      <th></th>\n",
       "      <th>df</th>\n",
       "      <th>sum_sq</th>\n",
       "      <th>mean_sq</th>\n",
       "      <th>F</th>\n",
       "      <th>PR(&gt;F)</th>\n",
       "    </tr>\n",
       "  </thead>\n",
       "  <tbody>\n",
       "    <tr>\n",
       "      <th>C(Ingredience1, Sum)</th>\n",
       "      <td>1.0</td>\n",
       "      <td>0.0625</td>\n",
       "      <td>0.0625</td>\n",
       "      <td>0.047619</td>\n",
       "      <td>0.832723</td>\n",
       "    </tr>\n",
       "    <tr>\n",
       "      <th>C(Ingredience2, Sum)</th>\n",
       "      <td>1.0</td>\n",
       "      <td>14.0625</td>\n",
       "      <td>14.0625</td>\n",
       "      <td>10.714286</td>\n",
       "      <td>0.011301</td>\n",
       "    </tr>\n",
       "    <tr>\n",
       "      <th>C(Ingredience3, Sum)</th>\n",
       "      <td>1.0</td>\n",
       "      <td>10.5625</td>\n",
       "      <td>10.5625</td>\n",
       "      <td>8.047619</td>\n",
       "      <td>0.021919</td>\n",
       "    </tr>\n",
       "    <tr>\n",
       "      <th>C(Ingredience1, Sum):C(Ingredience2, Sum)</th>\n",
       "      <td>1.0</td>\n",
       "      <td>0.5625</td>\n",
       "      <td>0.5625</td>\n",
       "      <td>0.428571</td>\n",
       "      <td>0.531058</td>\n",
       "    </tr>\n",
       "    <tr>\n",
       "      <th>C(Ingredience1, Sum):C(Ingredience3, Sum)</th>\n",
       "      <td>1.0</td>\n",
       "      <td>0.5625</td>\n",
       "      <td>0.5625</td>\n",
       "      <td>0.428571</td>\n",
       "      <td>0.531058</td>\n",
       "    </tr>\n",
       "    <tr>\n",
       "      <th>C(Ingredience2, Sum):C(Ingredience3, Sum)</th>\n",
       "      <td>1.0</td>\n",
       "      <td>68.0625</td>\n",
       "      <td>68.0625</td>\n",
       "      <td>51.857143</td>\n",
       "      <td>0.000092</td>\n",
       "    </tr>\n",
       "    <tr>\n",
       "      <th>C(Ingredience1, Sum):C(Ingredience2, Sum):C(Ingredience3, Sum)</th>\n",
       "      <td>1.0</td>\n",
       "      <td>0.0625</td>\n",
       "      <td>0.0625</td>\n",
       "      <td>0.047619</td>\n",
       "      <td>0.832723</td>\n",
       "    </tr>\n",
       "    <tr>\n",
       "      <th>Residual</th>\n",
       "      <td>8.0</td>\n",
       "      <td>10.5000</td>\n",
       "      <td>1.3125</td>\n",
       "      <td>NaN</td>\n",
       "      <td>NaN</td>\n",
       "    </tr>\n",
       "  </tbody>\n",
       "</table>\n",
       "</div>"
      ],
      "text/plain": [
       "                                                     df   sum_sq  mean_sq  \\\n",
       "C(Ingredience1, Sum)                                1.0   0.0625   0.0625   \n",
       "C(Ingredience2, Sum)                                1.0  14.0625  14.0625   \n",
       "C(Ingredience3, Sum)                                1.0  10.5625  10.5625   \n",
       "C(Ingredience1, Sum):C(Ingredience2, Sum)           1.0   0.5625   0.5625   \n",
       "C(Ingredience1, Sum):C(Ingredience3, Sum)           1.0   0.5625   0.5625   \n",
       "C(Ingredience2, Sum):C(Ingredience3, Sum)           1.0  68.0625  68.0625   \n",
       "C(Ingredience1, Sum):C(Ingredience2, Sum):C(Ing...  1.0   0.0625   0.0625   \n",
       "Residual                                            8.0  10.5000   1.3125   \n",
       "\n",
       "                                                            F    PR(>F)  \n",
       "C(Ingredience1, Sum)                                 0.047619  0.832723  \n",
       "C(Ingredience2, Sum)                                10.714286  0.011301  \n",
       "C(Ingredience3, Sum)                                 8.047619  0.021919  \n",
       "C(Ingredience1, Sum):C(Ingredience2, Sum)            0.428571  0.531058  \n",
       "C(Ingredience1, Sum):C(Ingredience3, Sum)            0.428571  0.531058  \n",
       "C(Ingredience2, Sum):C(Ingredience3, Sum)           51.857143  0.000092  \n",
       "C(Ingredience1, Sum):C(Ingredience2, Sum):C(Ing...   0.047619  0.832723  \n",
       "Residual                                                  NaN       NaN  "
      ]
     },
     "execution_count": 122,
     "metadata": {},
     "output_type": "execute_result"
    }
   ],
   "source": [
    "model_3_way_clever = ols('Taste ~ C(Ingredience1, Sum) * C(Ingredience2, Sum) * C(Ingredience3, Sum)', data=beer_clever).fit()\n",
    "anova_table_3_way_clever = sm.stats.anova_lm(model_3_way_clever)\n",
    "anova_table_3_way_clever"
   ]
  },
  {
   "cell_type": "code",
   "execution_count": 123,
   "metadata": {},
   "outputs": [
    {
     "data": {
      "text/html": [
       "<div>\n",
       "<style scoped>\n",
       "    .dataframe tbody tr th:only-of-type {\n",
       "        vertical-align: middle;\n",
       "    }\n",
       "\n",
       "    .dataframe tbody tr th {\n",
       "        vertical-align: top;\n",
       "    }\n",
       "\n",
       "    .dataframe thead th {\n",
       "        text-align: right;\n",
       "    }\n",
       "</style>\n",
       "<table border=\"1\" class=\"dataframe\">\n",
       "  <thead>\n",
       "    <tr style=\"text-align: right;\">\n",
       "      <th></th>\n",
       "      <th>df</th>\n",
       "      <th>sum_sq</th>\n",
       "      <th>mean_sq</th>\n",
       "      <th>F</th>\n",
       "      <th>PR(&gt;F)</th>\n",
       "    </tr>\n",
       "  </thead>\n",
       "  <tbody>\n",
       "    <tr>\n",
       "      <th>C(Ingredience1, Sum)</th>\n",
       "      <td>1.0</td>\n",
       "      <td>60.062500</td>\n",
       "      <td>60.062500</td>\n",
       "      <td>61.340426</td>\n",
       "      <td>0.000005</td>\n",
       "    </tr>\n",
       "    <tr>\n",
       "      <th>C(Ingredience2, Sum)</th>\n",
       "      <td>1.0</td>\n",
       "      <td>14.062500</td>\n",
       "      <td>14.062500</td>\n",
       "      <td>14.361702</td>\n",
       "      <td>0.002578</td>\n",
       "    </tr>\n",
       "    <tr>\n",
       "      <th>C(Ingredience3, Sum)</th>\n",
       "      <td>1.0</td>\n",
       "      <td>22.562500</td>\n",
       "      <td>22.562500</td>\n",
       "      <td>23.042553</td>\n",
       "      <td>0.000433</td>\n",
       "    </tr>\n",
       "    <tr>\n",
       "      <th>C(Ingredience1, Sum):C(Ingredience2, Sum)</th>\n",
       "      <td>1.0</td>\n",
       "      <td>0.083333</td>\n",
       "      <td>0.083333</td>\n",
       "      <td>0.085106</td>\n",
       "      <td>0.775475</td>\n",
       "    </tr>\n",
       "    <tr>\n",
       "      <th>C(Ingredience1, Sum):C(Ingredience3, Sum)</th>\n",
       "      <td>1.0</td>\n",
       "      <td>0.285714</td>\n",
       "      <td>0.285714</td>\n",
       "      <td>0.291793</td>\n",
       "      <td>0.598956</td>\n",
       "    </tr>\n",
       "    <tr>\n",
       "      <th>C(Ingredience2, Sum):C(Ingredience3, Sum)</th>\n",
       "      <td>1.0</td>\n",
       "      <td>2.380952</td>\n",
       "      <td>2.380952</td>\n",
       "      <td>2.431611</td>\n",
       "      <td>0.144882</td>\n",
       "    </tr>\n",
       "    <tr>\n",
       "      <th>C(Ingredience1, Sum):C(Ingredience2, Sum):C(Ingredience3, Sum)</th>\n",
       "      <td>1.0</td>\n",
       "      <td>2.689899</td>\n",
       "      <td>2.689899</td>\n",
       "      <td>2.747131</td>\n",
       "      <td>0.123321</td>\n",
       "    </tr>\n",
       "    <tr>\n",
       "      <th>Residual</th>\n",
       "      <td>12.0</td>\n",
       "      <td>11.750000</td>\n",
       "      <td>0.979167</td>\n",
       "      <td>NaN</td>\n",
       "      <td>NaN</td>\n",
       "    </tr>\n",
       "  </tbody>\n",
       "</table>\n",
       "</div>"
      ],
      "text/plain": [
       "                                                      df     sum_sq  \\\n",
       "C(Ingredience1, Sum)                                 1.0  60.062500   \n",
       "C(Ingredience2, Sum)                                 1.0  14.062500   \n",
       "C(Ingredience3, Sum)                                 1.0  22.562500   \n",
       "C(Ingredience1, Sum):C(Ingredience2, Sum)            1.0   0.083333   \n",
       "C(Ingredience1, Sum):C(Ingredience3, Sum)            1.0   0.285714   \n",
       "C(Ingredience2, Sum):C(Ingredience3, Sum)            1.0   2.380952   \n",
       "C(Ingredience1, Sum):C(Ingredience2, Sum):C(Ing...   1.0   2.689899   \n",
       "Residual                                            12.0  11.750000   \n",
       "\n",
       "                                                      mean_sq          F  \\\n",
       "C(Ingredience1, Sum)                                60.062500  61.340426   \n",
       "C(Ingredience2, Sum)                                14.062500  14.361702   \n",
       "C(Ingredience3, Sum)                                22.562500  23.042553   \n",
       "C(Ingredience1, Sum):C(Ingredience2, Sum)            0.083333   0.085106   \n",
       "C(Ingredience1, Sum):C(Ingredience3, Sum)            0.285714   0.291793   \n",
       "C(Ingredience2, Sum):C(Ingredience3, Sum)            2.380952   2.431611   \n",
       "C(Ingredience1, Sum):C(Ingredience2, Sum):C(Ing...   2.689899   2.747131   \n",
       "Residual                                             0.979167        NaN   \n",
       "\n",
       "                                                      PR(>F)  \n",
       "C(Ingredience1, Sum)                                0.000005  \n",
       "C(Ingredience2, Sum)                                0.002578  \n",
       "C(Ingredience3, Sum)                                0.000433  \n",
       "C(Ingredience1, Sum):C(Ingredience2, Sum)           0.775475  \n",
       "C(Ingredience1, Sum):C(Ingredience3, Sum)           0.598956  \n",
       "C(Ingredience2, Sum):C(Ingredience3, Sum)           0.144882  \n",
       "C(Ingredience1, Sum):C(Ingredience2, Sum):C(Ing...  0.123321  \n",
       "Residual                                                 NaN  "
      ]
     },
     "execution_count": 123,
     "metadata": {},
     "output_type": "execute_result"
    }
   ],
   "source": [
    "model_3_way_not_clever = ols('Taste ~ C(Ingredience1, Sum)*C(Ingredience2, Sum)*C(Ingredience3, Sum)', data=beer_not_clever).fit()\n",
    "anova_table_3_way_not_clever = sm.stats.anova_lm(model_3_way_not_clever)\n",
    "anova_table_3_way_not_clever"
   ]
  },
  {
   "cell_type": "markdown",
   "metadata": {},
   "source": [
    "### not clever sin model indikerer at det er noe feil med analysen, dermed så går det ikke å kjøre model summary på den"
   ]
  },
  {
   "cell_type": "markdown",
   "metadata": {},
   "source": [
    "## oppg 15c)"
   ]
  },
  {
   "cell_type": "code",
   "execution_count": 124,
   "metadata": {
    "scrolled": true
   },
   "outputs": [
    {
     "name": "stdout",
     "output_type": "stream",
     "text": [
      "                            OLS Regression Results                            \n",
      "==============================================================================\n",
      "Dep. Variable:                  Taste   R-squared:                       0.887\n",
      "Model:                            OLS   Adj. R-squared:                  0.859\n",
      "Method:                 Least Squares   F-statistic:                     31.55\n",
      "Date:                Wed, 19 Aug 2020   Prob (F-statistic):           5.65e-06\n",
      "Time:                        15:48:01   Log-Likelihood:                -20.233\n",
      "No. Observations:                  16   AIC:                             48.47\n",
      "Df Residuals:                      12   BIC:                             51.56\n",
      "Df Model:                           3                                         \n",
      "Covariance Type:            nonrobust                                         \n",
      "=========================================================================================================================\n",
      "                                                            coef    std err          t      P>|t|      [0.025      0.975]\n",
      "-------------------------------------------------------------------------------------------------------------------------\n",
      "Intercept                                                 4.8125      0.247     19.454      0.000       4.274       5.351\n",
      "C(Ingredience2, Sum)[S.No]                                0.9375      0.247      3.790      0.003       0.399       1.476\n",
      "C(Ingredience3, Sum)[S.No]                                0.8125      0.247      3.284      0.007       0.274       1.351\n",
      "C(Ingredience2, Sum)[S.No]:C(Ingredience3, Sum)[S.No]    -2.0625      0.247     -8.337      0.000      -2.601      -1.524\n",
      "==============================================================================\n",
      "Omnibus:                        2.098   Durbin-Watson:                   2.681\n",
      "Prob(Omnibus):                  0.350   Jarque-Bera (JB):                1.394\n",
      "Skew:                           0.708   Prob(JB):                        0.498\n",
      "Kurtosis:                       2.703   Cond. No.                         1.00\n",
      "==============================================================================\n",
      "\n",
      "Warnings:\n",
      "[1] Standard Errors assume that the covariance matrix of the errors is correctly specified.\n"
     ]
    },
    {
     "name": "stderr",
     "output_type": "stream",
     "text": [
      "C:\\Users\\eirik\\Anaconda3\\lib\\site-packages\\scipy\\stats\\stats.py:1535: UserWarning: kurtosistest only valid for n>=20 ... continuing anyway, n=16\n",
      "  \"anyway, n=%i\" % int(n))\n"
     ]
    },
    {
     "data": {
      "text/html": [
       "<div>\n",
       "<style scoped>\n",
       "    .dataframe tbody tr th:only-of-type {\n",
       "        vertical-align: middle;\n",
       "    }\n",
       "\n",
       "    .dataframe tbody tr th {\n",
       "        vertical-align: top;\n",
       "    }\n",
       "\n",
       "    .dataframe thead th {\n",
       "        text-align: right;\n",
       "    }\n",
       "</style>\n",
       "<table border=\"1\" class=\"dataframe\">\n",
       "  <thead>\n",
       "    <tr style=\"text-align: right;\">\n",
       "      <th></th>\n",
       "      <th>df</th>\n",
       "      <th>sum_sq</th>\n",
       "      <th>mean_sq</th>\n",
       "      <th>F</th>\n",
       "      <th>PR(&gt;F)</th>\n",
       "    </tr>\n",
       "  </thead>\n",
       "  <tbody>\n",
       "    <tr>\n",
       "      <th>C(Ingredience2, Sum)</th>\n",
       "      <td>1.0</td>\n",
       "      <td>14.0625</td>\n",
       "      <td>14.062500</td>\n",
       "      <td>14.361702</td>\n",
       "      <td>0.002578</td>\n",
       "    </tr>\n",
       "    <tr>\n",
       "      <th>C(Ingredience3, Sum)</th>\n",
       "      <td>1.0</td>\n",
       "      <td>10.5625</td>\n",
       "      <td>10.562500</td>\n",
       "      <td>10.787234</td>\n",
       "      <td>0.006527</td>\n",
       "    </tr>\n",
       "    <tr>\n",
       "      <th>C(Ingredience2, Sum):C(Ingredience3, Sum)</th>\n",
       "      <td>1.0</td>\n",
       "      <td>68.0625</td>\n",
       "      <td>68.062500</td>\n",
       "      <td>69.510638</td>\n",
       "      <td>0.000002</td>\n",
       "    </tr>\n",
       "    <tr>\n",
       "      <th>Residual</th>\n",
       "      <td>12.0</td>\n",
       "      <td>11.7500</td>\n",
       "      <td>0.979167</td>\n",
       "      <td>NaN</td>\n",
       "      <td>NaN</td>\n",
       "    </tr>\n",
       "  </tbody>\n",
       "</table>\n",
       "</div>"
      ],
      "text/plain": [
       "                                             df   sum_sq    mean_sq  \\\n",
       "C(Ingredience2, Sum)                        1.0  14.0625  14.062500   \n",
       "C(Ingredience3, Sum)                        1.0  10.5625  10.562500   \n",
       "C(Ingredience2, Sum):C(Ingredience3, Sum)   1.0  68.0625  68.062500   \n",
       "Residual                                   12.0  11.7500   0.979167   \n",
       "\n",
       "                                                   F    PR(>F)  \n",
       "C(Ingredience2, Sum)                       14.361702  0.002578  \n",
       "C(Ingredience3, Sum)                       10.787234  0.006527  \n",
       "C(Ingredience2, Sum):C(Ingredience3, Sum)  69.510638  0.000002  \n",
       "Residual                                         NaN       NaN  "
      ]
     },
     "execution_count": 124,
     "metadata": {},
     "output_type": "execute_result"
    }
   ],
   "source": [
    "model_3_way_clever_simple = ols('Taste ~ C(Ingredience2, Sum)*C(Ingredience3, Sum)', data=beer_clever).fit()\n",
    "anova_table_3_way_clever_simple = sm.stats.anova_lm(model_3_way_clever_simple)\n",
    "print(model_3_way_clever_simple.summary())\n",
    "anova_table_3_way_clever_simple"
   ]
  },
  {
   "cell_type": "markdown",
   "metadata": {},
   "source": [
    "### Man kan fjerne 'Ingredience1', den har ikke interaction"
   ]
  },
  {
   "cell_type": "code",
   "execution_count": 59,
   "metadata": {},
   "outputs": [
    {
     "data": {
      "image/png": "[encoded data removed]",
      "text/plain": [
       "<Figure size 432x288 with 1 Axes>"
      ]
     },
     "metadata": {
      "needs_background": "light"
     },
     "output_type": "display_data"
    }
   ],
   "source": [
    "import statsmodels.graphics.factorplots as smgf\n",
    "plot = smgf.interaction_plot(beer_clever['Ingredience2'], beer_clever['Ingredience3'], beer_clever['Taste'])"
   ]
  },
  {
   "cell_type": "code",
   "execution_count": 66,
   "metadata": {},
   "outputs": [
    {
     "data": {
      "image/png": "[encoded data removed]",
      "text/plain": [
       "<Figure size 432x288 with 1 Axes>"
      ]
     },
     "metadata": {
      "needs_background": "light"
     },
     "output_type": "display_data"
    }
   ],
   "source": [
    "plot2 = smgf.interaction_plot(beer_clever['Ingredience1'], beer_clever['Ingredience2'], beer_clever['Taste'])"
   ]
  },
  {
   "cell_type": "markdown",
   "metadata": {},
   "source": [
    "### som man kan se på plottene og lese av fra modellen med ingridiense 2 og 3, så tyder det på at den beste smaken kommer av å bare tilsette ingridiens3 uten noen av de andre smakene."
   ]
  },
  {
   "cell_type": "markdown",
   "metadata": {},
   "source": [
    "## oppg 15d)"
   ]
  },
  {
   "cell_type": "code",
   "execution_count": 125,
   "metadata": {},
   "outputs": [
    {
     "name": "stderr",
     "output_type": "stream",
     "text": [
      "C:\\Users\\eirik\\Anaconda3\\lib\\site-packages\\scipy\\stats\\stats.py:1535: UserWarning: kurtosistest only valid for n>=20 ... continuing anyway, n=16\n",
      "  \"anyway, n=%i\" % int(n))\n"
     ]
    },
    {
     "data": {
      "text/html": [
       "<table class=\"simpletable\">\n",
       "<caption>OLS Regression Results</caption>\n",
       "<tr>\n",
       "  <th>Dep. Variable:</th>          <td>Taste</td>      <th>  R-squared:         </th> <td>   0.892</td>\n",
       "</tr>\n",
       "<tr>\n",
       "  <th>Model:</th>                   <td>OLS</td>       <th>  Adj. R-squared:    </th> <td>   0.865</td>\n",
       "</tr>\n",
       "<tr>\n",
       "  <th>Method:</th>             <td>Least Squares</td>  <th>  F-statistic:       </th> <td>   32.91</td>\n",
       "</tr>\n",
       "<tr>\n",
       "  <th>Date:</th>             <td>Wed, 19 Aug 2020</td> <th>  Prob (F-statistic):</th> <td>4.52e-06</td>\n",
       "</tr>\n",
       "<tr>\n",
       "  <th>Time:</th>                 <td>15:49:31</td>     <th>  Log-Likelihood:    </th> <td> -20.233</td>\n",
       "</tr>\n",
       "<tr>\n",
       "  <th>No. Observations:</th>      <td>    16</td>      <th>  AIC:               </th> <td>   48.47</td>\n",
       "</tr>\n",
       "<tr>\n",
       "  <th>Df Residuals:</th>          <td>    12</td>      <th>  BIC:               </th> <td>   51.56</td>\n",
       "</tr>\n",
       "<tr>\n",
       "  <th>Df Model:</th>              <td>     3</td>      <th>                     </th>     <td> </td>   \n",
       "</tr>\n",
       "<tr>\n",
       "  <th>Covariance Type:</th>      <td>nonrobust</td>    <th>                     </th>     <td> </td>   \n",
       "</tr>\n",
       "</table>\n",
       "<table class=\"simpletable\">\n",
       "<tr>\n",
       "               <td></td>                 <th>coef</th>     <th>std err</th>      <th>t</th>      <th>P>|t|</th>  <th>[0.025</th>    <th>0.975]</th>  \n",
       "</tr>\n",
       "<tr>\n",
       "  <th>Intercept</th>                  <td>    4.8125</td> <td>    0.247</td> <td>   19.454</td> <td> 0.000</td> <td>    4.274</td> <td>    5.351</td>\n",
       "</tr>\n",
       "<tr>\n",
       "  <th>C(Ingredience1, Sum)[S.No]</th> <td>    1.9375</td> <td>    0.247</td> <td>    7.832</td> <td> 0.000</td> <td>    1.399</td> <td>    2.476</td>\n",
       "</tr>\n",
       "<tr>\n",
       "  <th>C(Ingredience2, Sum)[S.No]</th> <td>    0.9375</td> <td>    0.247</td> <td>    3.790</td> <td> 0.003</td> <td>    0.399</td> <td>    1.476</td>\n",
       "</tr>\n",
       "<tr>\n",
       "  <th>C(Ingredience3, Sum)[S.No]</th> <td>    1.1875</td> <td>    0.247</td> <td>    4.800</td> <td> 0.000</td> <td>    0.649</td> <td>    1.726</td>\n",
       "</tr>\n",
       "</table>\n",
       "<table class=\"simpletable\">\n",
       "<tr>\n",
       "  <th>Omnibus:</th>       <td> 2.098</td> <th>  Durbin-Watson:     </th> <td>   2.750</td>\n",
       "</tr>\n",
       "<tr>\n",
       "  <th>Prob(Omnibus):</th> <td> 0.350</td> <th>  Jarque-Bera (JB):  </th> <td>   1.394</td>\n",
       "</tr>\n",
       "<tr>\n",
       "  <th>Skew:</th>          <td> 0.708</td> <th>  Prob(JB):          </th> <td>   0.498</td>\n",
       "</tr>\n",
       "<tr>\n",
       "  <th>Kurtosis:</th>      <td> 2.703</td> <th>  Cond. No.          </th> <td>    1.00</td>\n",
       "</tr>\n",
       "</table><br/><br/>Warnings:<br/>[1] Standard Errors assume that the covariance matrix of the errors is correctly specified."
      ],
      "text/plain": [
       "<class 'statsmodels.iolib.summary.Summary'>\n",
       "\"\"\"\n",
       "                            OLS Regression Results                            \n",
       "==============================================================================\n",
       "Dep. Variable:                  Taste   R-squared:                       0.892\n",
       "Model:                            OLS   Adj. R-squared:                  0.865\n",
       "Method:                 Least Squares   F-statistic:                     32.91\n",
       "Date:                Wed, 19 Aug 2020   Prob (F-statistic):           4.52e-06\n",
       "Time:                        15:49:31   Log-Likelihood:                -20.233\n",
       "No. Observations:                  16   AIC:                             48.47\n",
       "Df Residuals:                      12   BIC:                             51.56\n",
       "Df Model:                           3                                         \n",
       "Covariance Type:            nonrobust                                         \n",
       "==============================================================================================\n",
       "                                 coef    std err          t      P>|t|      [0.025      0.975]\n",
       "----------------------------------------------------------------------------------------------\n",
       "Intercept                      4.8125      0.247     19.454      0.000       4.274       5.351\n",
       "C(Ingredience1, Sum)[S.No]     1.9375      0.247      7.832      0.000       1.399       2.476\n",
       "C(Ingredience2, Sum)[S.No]     0.9375      0.247      3.790      0.003       0.399       1.476\n",
       "C(Ingredience3, Sum)[S.No]     1.1875      0.247      4.800      0.000       0.649       1.726\n",
       "==============================================================================\n",
       "Omnibus:                        2.098   Durbin-Watson:                   2.750\n",
       "Prob(Omnibus):                  0.350   Jarque-Bera (JB):                1.394\n",
       "Skew:                           0.708   Prob(JB):                        0.498\n",
       "Kurtosis:                       2.703   Cond. No.                         1.00\n",
       "==============================================================================\n",
       "\n",
       "Warnings:\n",
       "[1] Standard Errors assume that the covariance matrix of the errors is correctly specified.\n",
       "\"\"\""
      ]
     },
     "execution_count": 125,
     "metadata": {},
     "output_type": "execute_result"
    }
   ],
   "source": [
    "model_not_so_clever_3_way = ols('Taste ~ C(Ingredience1, Sum) + C(Ingredience2, Sum) + C(Ingredience3, Sum)', data=beer_not_clever).fit()\n",
    "anova_table_3_way_not_clever = sm.stats.anova_lm(model_not_so_clever_3_way)\n",
    "model_not_so_clever_3_way.summary()"
   ]
  },
  {
   "cell_type": "markdown",
   "metadata": {},
   "source": [
    "#### Sidne det ikke går an a lage et estimate for main effect så er dette den mest avanserte modellen man kan lage, og dermed må man bruke alle ingridiensene fordi de bidrar positivt"
   ]
  },
  {
   "cell_type": "code",
   "execution_count": null,
   "metadata": {},
   "outputs": [],
   "source": []
  },
  {
   "cell_type": "markdown",
   "metadata": {},
   "source": [
    "# OPPG 16"
   ]
  },
  {
   "cell_type": "markdown",
   "metadata": {},
   "source": [
    "## 16c)"
   ]
  },
  {
   "cell_type": "code",
   "execution_count": 6,
   "metadata": {},
   "outputs": [
    {
     "name": "stdout",
     "output_type": "stream",
     "text": [
      "\n",
      "\n"
     ]
    },
    {
     "data": {
      "text/html": [
       "<div>\n",
       "<style scoped>\n",
       "    .dataframe tbody tr th:only-of-type {\n",
       "        vertical-align: middle;\n",
       "    }\n",
       "\n",
       "    .dataframe tbody tr th {\n",
       "        vertical-align: top;\n",
       "    }\n",
       "\n",
       "    .dataframe thead th {\n",
       "        text-align: right;\n",
       "    }\n",
       "</style>\n",
       "<table border=\"1\" class=\"dataframe\">\n",
       "  <thead>\n",
       "    <tr style=\"text-align: right;\">\n",
       "      <th></th>\n",
       "      <th>Yield</th>\n",
       "      <th>Variety</th>\n",
       "      <th>Soil</th>\n",
       "      <th>Fertilizer</th>\n",
       "      <th>Site</th>\n",
       "    </tr>\n",
       "  </thead>\n",
       "  <tbody>\n",
       "    <tr>\n",
       "      <th>0</th>\n",
       "      <td>347.306107</td>\n",
       "      <td>C1</td>\n",
       "      <td>Sand</td>\n",
       "      <td>Fert1</td>\n",
       "      <td>Site1</td>\n",
       "    </tr>\n",
       "    <tr>\n",
       "      <th>1</th>\n",
       "      <td>364.311149</td>\n",
       "      <td>C1</td>\n",
       "      <td>Sand</td>\n",
       "      <td>Fert2</td>\n",
       "      <td>Site1</td>\n",
       "    </tr>\n",
       "    <tr>\n",
       "      <th>2</th>\n",
       "      <td>337.251517</td>\n",
       "      <td>C1</td>\n",
       "      <td>Clay</td>\n",
       "      <td>Fert1</td>\n",
       "      <td>Site1</td>\n",
       "    </tr>\n",
       "    <tr>\n",
       "      <th>3</th>\n",
       "      <td>417.930062</td>\n",
       "      <td>C1</td>\n",
       "      <td>Clay</td>\n",
       "      <td>Fert2</td>\n",
       "      <td>Site1</td>\n",
       "    </tr>\n",
       "    <tr>\n",
       "      <th>4</th>\n",
       "      <td>398.014700</td>\n",
       "      <td>C2</td>\n",
       "      <td>Sand</td>\n",
       "      <td>Fert1</td>\n",
       "      <td>Site1</td>\n",
       "    </tr>\n",
       "  </tbody>\n",
       "</table>\n",
       "</div>"
      ],
      "text/plain": [
       "        Yield Variety  Soil Fertilizer   Site\n",
       "0  347.306107      C1  Sand      Fert1  Site1\n",
       "1  364.311149      C1  Sand      Fert2  Site1\n",
       "2  337.251517      C1  Clay      Fert1  Site1\n",
       "3  417.930062      C1  Clay      Fert2  Site1\n",
       "4  398.014700      C2  Sand      Fert1  Site1"
      ]
     },
     "execution_count": 6,
     "metadata": {},
     "output_type": "execute_result"
    }
   ],
   "source": [
    "import pandas as pd\n",
    "import researchpy as rp\n",
    "barley = pd.read_csv('Barley.csv', sep=';', decimal=',')\n",
    "summary_cont = rp.summary_cont(barley.groupby(['Variety', 'Soil', 'Fertilizer', 'Site'])['Yield'])\n",
    "barley.head()"
   ]
  },
  {
   "cell_type": "markdown",
   "metadata": {},
   "source": [
    "## oppg 16d)"
   ]
  },
  {
   "cell_type": "code",
   "execution_count": 28,
   "metadata": {},
   "outputs": [],
   "source": [
    "import statsmodels.api as sm\n",
    "from statsmodels.formula.api import ols\n",
    "import scipy.stats as stats"
   ]
  },
  {
   "cell_type": "code",
   "execution_count": 10,
   "metadata": {},
   "outputs": [
    {
     "name": "stdout",
     "output_type": "stream",
     "text": [
      "                                                      df        sum_sq  \\\n",
      "C(Variety, Sum)                                      1.0   3246.871692   \n",
      "C(Soil, Sum)                                         1.0  42070.945610   \n",
      "C(Fertilizer, Sum)                                   1.0   9846.133275   \n",
      "C(Site, Sum)                                         1.0   1073.452826   \n",
      "C(Variety, Sum):C(Soil, Sum)                         1.0  10840.671651   \n",
      "C(Variety, Sum):C(Fertilizer, Sum)                   1.0   6398.336813   \n",
      "C(Soil, Sum):C(Fertilizer, Sum)                      1.0  46396.403617   \n",
      "C(Variety, Sum):C(Site, Sum)                         1.0   1073.218645   \n",
      "C(Soil, Sum):C(Site, Sum)                            1.0   1404.731447   \n",
      "C(Fertilizer, Sum):C(Site, Sum)                      1.0    190.800078   \n",
      "C(Variety, Sum):C(Soil, Sum):C(Fertilizer, Sum)      1.0   3639.330098   \n",
      "C(Variety, Sum):C(Soil, Sum):C(Site, Sum)            1.0   2670.731441   \n",
      "C(Variety, Sum):C(Fertilizer, Sum):C(Site, Sum)      1.0      4.129135   \n",
      "C(Soil, Sum):C(Fertilizer, Sum):C(Site, Sum)         1.0    153.699994   \n",
      "C(Variety, Sum):C(Soil, Sum):C(Fertilizer, Sum)...   1.0     86.002407   \n",
      "Residual                                            16.0  10521.843662   \n",
      "\n",
      "                                                         mean_sq          F  \\\n",
      "C(Variety, Sum)                                      3246.871692   4.937343   \n",
      "C(Soil, Sum)                                        42070.945610  63.975017   \n",
      "C(Fertilizer, Sum)                                   9846.133275  14.972484   \n",
      "C(Site, Sum)                                         1073.452826   1.632342   \n",
      "C(Variety, Sum):C(Soil, Sum)                        10840.671651  16.484825   \n",
      "C(Variety, Sum):C(Fertilizer, Sum)                   6398.336813   9.729606   \n",
      "C(Soil, Sum):C(Fertilizer, Sum)                     46396.403617  70.552508   \n",
      "C(Variety, Sum):C(Site, Sum)                         1073.218645   1.631986   \n",
      "C(Soil, Sum):C(Site, Sum)                            1404.731447   2.136099   \n",
      "C(Fertilizer, Sum):C(Site, Sum)                       190.800078   0.290139   \n",
      "C(Variety, Sum):C(Soil, Sum):C(Fertilizer, Sum)      3639.330098   5.534133   \n",
      "C(Variety, Sum):C(Soil, Sum):C(Site, Sum)            2670.731441   4.061237   \n",
      "C(Variety, Sum):C(Fertilizer, Sum):C(Site, Sum)         4.129135   0.006279   \n",
      "C(Soil, Sum):C(Fertilizer, Sum):C(Site, Sum)          153.699994   0.233723   \n",
      "C(Variety, Sum):C(Soil, Sum):C(Fertilizer, Sum)...     86.002407   0.130779   \n",
      "Residual                                              657.615229        NaN   \n",
      "\n",
      "                                                          PR(>F)  \n",
      "C(Variety, Sum)                                     4.105305e-02  \n",
      "C(Soil, Sum)                                        5.559510e-07  \n",
      "C(Fertilizer, Sum)                                  1.358527e-03  \n",
      "C(Site, Sum)                                        2.196068e-01  \n",
      "C(Variety, Sum):C(Soil, Sum)                        9.095110e-04  \n",
      "C(Variety, Sum):C(Fertilizer, Sum)                  6.608147e-03  \n",
      "C(Soil, Sum):C(Fertilizer, Sum)                     2.930068e-07  \n",
      "C(Variety, Sum):C(Site, Sum)                        2.196548e-01  \n",
      "C(Soil, Sum):C(Site, Sum)                           1.632290e-01  \n",
      "C(Fertilizer, Sum):C(Site, Sum)                     5.975463e-01  \n",
      "C(Variety, Sum):C(Soil, Sum):C(Fertilizer, Sum)     3.177980e-02  \n",
      "C(Variety, Sum):C(Soil, Sum):C(Site, Sum)           6.099737e-02  \n",
      "C(Variety, Sum):C(Fertilizer, Sum):C(Site, Sum)     9.378245e-01  \n",
      "C(Soil, Sum):C(Fertilizer, Sum):C(Site, Sum)        6.353262e-01  \n",
      "C(Variety, Sum):C(Soil, Sum):C(Fertilizer, Sum)...  7.223569e-01  \n",
      "Residual                                                     NaN  \n"
     ]
    }
   ],
   "source": [
    "model = ols('Yield ~ C(Variety, Sum)*C(Soil, Sum)*C(Fertilizer, Sum)*C(Site, Sum)', data=barley).fit()\n",
    "anova_table = sm.stats.anova_lm(model)\n",
    "print(anova_table)"
   ]
  },
  {
   "cell_type": "markdown",
   "metadata": {},
   "source": [
    "## oppg 16e)"
   ]
  },
  {
   "cell_type": "code",
   "execution_count": 12,
   "metadata": {},
   "outputs": [
    {
     "name": "stdout",
     "output_type": "stream",
     "text": [
      "                                                   df        sum_sq  \\\n",
      "C(Variety, Sum)                                   1.0   3246.871692   \n",
      "C(Soil, Sum)                                      1.0  42070.945610   \n",
      "C(Fertilizer, Sum)                                1.0   9846.133275   \n",
      "C(Variety, Sum):C(Soil, Sum)                      1.0  10840.671651   \n",
      "C(Variety, Sum):C(Fertilizer, Sum)                1.0   6398.336813   \n",
      "C(Soil, Sum):C(Fertilizer, Sum)                   1.0  46396.403617   \n",
      "C(Variety, Sum):C(Soil, Sum):C(Fertilizer, Sum)   1.0   3639.330098   \n",
      "Residual                                         24.0  17178.609635   \n",
      "\n",
      "                                                      mean_sq          F  \\\n",
      "C(Variety, Sum)                                   3246.871692   4.536160   \n",
      "C(Soil, Sum)                                     42070.945610  58.776741   \n",
      "C(Fertilizer, Sum)                                9846.133275  13.755898   \n",
      "C(Variety, Sum):C(Soil, Sum)                     10840.671651  15.145354   \n",
      "C(Variety, Sum):C(Fertilizer, Sum)                6398.336813   8.939029   \n",
      "C(Soil, Sum):C(Fertilizer, Sum)                  46396.403617  64.819779   \n",
      "C(Variety, Sum):C(Soil, Sum):C(Fertilizer, Sum)   3639.330098   5.084458   \n",
      "Residual                                           715.775401        NaN   \n",
      "\n",
      "                                                       PR(>F)  \n",
      "C(Variety, Sum)                                  4.363978e-02  \n",
      "C(Soil, Sum)                                     6.648256e-08  \n",
      "C(Fertilizer, Sum)                               1.095665e-03  \n",
      "C(Variety, Sum):C(Soil, Sum)                     6.924555e-04  \n",
      "C(Variety, Sum):C(Fertilizer, Sum)               6.357573e-03  \n",
      "C(Soil, Sum):C(Fertilizer, Sum)                  2.819272e-08  \n",
      "C(Variety, Sum):C(Soil, Sum):C(Fertilizer, Sum)  3.353835e-02  \n",
      "Residual                                                  NaN  \n"
     ]
    }
   ],
   "source": [
    "model_downsided = ols('Yield ~ C(Variety, Sum)*C(Soil, Sum)*C(Fertilizer, Sum)', data=barley).fit()\n",
    "anova_table_downsided = sm.stats.anova_lm(model_downsided)\n",
    "print(anova_table_downsided)"
   ]
  },
  {
   "cell_type": "code",
   "execution_count": 43,
   "metadata": {},
   "outputs": [
    {
     "data": {
      "text/plain": [
       "0.3265903268053856"
      ]
     },
     "execution_count": 43,
     "metadata": {},
     "output_type": "execute_result"
    }
   ],
   "source": [
    "SS_ER = anova_table_downsided['sum_sq'][7]\n",
    "SS_EF = anova_table['sum_sq'][15]\n",
    "df_ER = anova_table_downsided['df'][7]\n",
    "df_EF = anova_table['df'][15]\n",
    "F0 = ((SS_ER-SS_EF)/(df_ER-df_EF))/(SS_EF/df_EF)\n",
    "F_test = stats.f.sf(F0, df_ER-df_EF, df_EF)\n",
    "F_test"
   ]
  },
  {
   "cell_type": "markdown",
   "metadata": {},
   "source": [
    "#### Kan ikke fokaste H0 og vi bruker dermed den reduserte modellen uten Site"
   ]
  },
  {
   "cell_type": "markdown",
   "metadata": {},
   "source": [
    "## oppg 16f)"
   ]
  },
  {
   "cell_type": "code",
   "execution_count": 55,
   "metadata": {},
   "outputs": [
    {
     "name": "stdout",
     "output_type": "stream",
     "text": [
      "                                      df        sum_sq       mean_sq  \\\n",
      "C(Variety, Sum)                      1.0   3246.871692   3246.871692   \n",
      "C(Soil, Sum)                         1.0  42070.945610  42070.945610   \n",
      "C(Fertilizer, Sum)                   1.0   9846.133275   9846.133275   \n",
      "C(Variety, Sum):C(Soil, Sum)         1.0  10840.671651  10840.671651   \n",
      "C(Variety, Sum):C(Fertilizer, Sum)   1.0   6398.336813   6398.336813   \n",
      "C(Soil, Sum):C(Fertilizer, Sum)      1.0  46396.403617  46396.403617   \n",
      "Residual                            25.0  20817.939733    832.717589   \n",
      "\n",
      "                                            F        PR(>F)  \n",
      "C(Variety, Sum)                      3.899127  5.945458e-02  \n",
      "C(Soil, Sum)                        50.522465  1.890488e-07  \n",
      "C(Fertilizer, Sum)                  11.824097  2.058662e-03  \n",
      "C(Variety, Sum):C(Soil, Sum)        13.018425  1.345007e-03  \n",
      "C(Variety, Sum):C(Fertilizer, Sum)   7.683682  1.036913e-02  \n",
      "C(Soil, Sum):C(Fertilizer, Sum)     55.716853  8.116233e-08  \n",
      "Residual                                  NaN           NaN  \n"
     ]
    }
   ],
   "source": [
    "model_downsided = ols('Yield ~ C(Variety, Sum)*C(Soil, Sum)*C(Fertilizer, Sum)-C(Variety, Sum):C(Soil, Sum):C(Fertilizer, Sum)', data=barley).fit()\n",
    "anova_table_downsided = sm.stats.anova_lm(model_downsided)\n",
    "print(anova_table_downsided)"
   ]
  },
  {
   "cell_type": "markdown",
   "metadata": {},
   "source": [
    "#### Yet again, you can remove the interaction between Vareity and fertilizer "
   ]
  },
  {
   "cell_type": "code",
   "execution_count": 60,
   "metadata": {},
   "outputs": [
    {
     "name": "stdout",
     "output_type": "stream",
     "text": [
      "                                   df        sum_sq       mean_sq          F  \\\n",
      "C(Variety, Sum)                   1.0   3246.871692   3246.871692   3.101771   \n",
      "C(Soil, Sum)                      1.0  42070.945610  42070.945610  40.190824   \n",
      "C(Fertilizer, Sum)                1.0   9846.133275   9846.133275   9.406116   \n",
      "C(Variety, Sum):C(Soil, Sum)      1.0  10840.671651  10840.671651  10.356210   \n",
      "C(Soil, Sum):C(Fertilizer, Sum)   1.0  46396.403617  46396.403617  44.322980   \n",
      "Residual                         26.0  27216.276546   1046.779867        NaN   \n",
      "\n",
      "                                       PR(>F)  \n",
      "C(Variety, Sum)                  8.996528e-02  \n",
      "C(Soil, Sum)                     1.031215e-06  \n",
      "C(Fertilizer, Sum)               4.999631e-03  \n",
      "C(Variety, Sum):C(Soil, Sum)     3.444495e-03  \n",
      "C(Soil, Sum):C(Fertilizer, Sum)  4.615372e-07  \n",
      "Residual                                  NaN  \n"
     ]
    }
   ],
   "source": [
    "model_more_downsided = ols('Yield ~ C(Variety, Sum)*C(Soil, Sum)*C(Fertilizer, Sum)-C(Variety, Sum):C(Soil, Sum):C(Fertilizer, Sum)-C(Variety, Sum):C(Fertilizer, Sum)', data=barley).fit()\n",
    "anova_table_more_downsided = sm.stats.anova_lm(model_more_downsided)\n",
    "print(anova_table_more_downsided)"
   ]
  },
  {
   "cell_type": "markdown",
   "metadata": {},
   "source": [
    "#### you can not remove anything more because it seems like there is a interaction"
   ]
  },
  {
   "cell_type": "markdown",
   "metadata": {},
   "source": [
    "## oppg 16g)"
   ]
  },
  {
   "cell_type": "code",
   "execution_count": 82,
   "metadata": {},
   "outputs": [
    {
     "data": {
      "image/png": "[encoded data removed]",
      "text/plain": [
       "<Figure size 432x288 with 1 Axes>"
      ]
     },
     "metadata": {
      "needs_background": "light"
     },
     "output_type": "display_data"
    }
   ],
   "source": [
    "import statsmodels.graphics.factorplots as smgf\n",
    "barley['Variety_n_F1'] = barley.Variety +'/'+ barley.Fertilizer\n",
    "plot = smgf.interaction_plot(barley['Soil'], barley['Variety_n_F1'], barley['Yield'])"
   ]
  },
  {
   "cell_type": "markdown",
   "metadata": {},
   "source": [
    "### Sammenligner med hensyn på F1 sammlet og F2 samlet, så C1/Fert1 og C2/Fert2 hører sammen"
   ]
  },
  {
   "cell_type": "markdown",
   "metadata": {},
   "source": [
    "### Ser at F1 har en klar interaction, mens F2 møter hverandre ikke i plottet"
   ]
  },
  {
   "cell_type": "markdown",
   "metadata": {},
   "source": [
    "## oppg 16h)"
   ]
  },
  {
   "cell_type": "markdown",
   "metadata": {},
   "source": [
    "#### Man ser at hvilken Fertilizer man bruker har noe å si i forhold til plottene. Hvis plottene hadde vært nært like så hadde man kunne si at det har noe å si hvilken fertilizer man bruker, men siden de ikke er så like, så kan man ikke si det. DET HAR NOE Å SI HVILKEN FERTILIZER MAN BRUKER"
   ]
  },
  {
   "cell_type": "markdown",
   "metadata": {},
   "source": [
    "## oppg 16i)"
   ]
  },
  {
   "cell_type": "markdown",
   "metadata": {},
   "source": [
    "#### Ville anbefalt Fert 2"
   ]
  },
  {
   "cell_type": "code",
   "execution_count": null,
   "metadata": {},
   "outputs": [],
   "source": []
  }
 ],
 "metadata": {
  "kernelspec": {
   "display_name": "Python 3",
   "language": "python",
   "name": "python3"
  },
  "language_info": {
   "codemirror_mode": {
    "name": "ipython",
    "version": 3
   },
   "file_extension": ".py",
   "mimetype": "text/x-python",
   "name": "python",
   "nbconvert_exporter": "python",
   "pygments_lexer": "ipython3",
   "version": "3.8.5"
  }
 },
 "nbformat": 4,
 "nbformat_minor": 4
}
