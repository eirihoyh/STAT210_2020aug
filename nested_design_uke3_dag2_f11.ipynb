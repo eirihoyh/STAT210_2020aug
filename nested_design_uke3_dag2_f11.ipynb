{
 "cells": [
  {
   "cell_type": "markdown",
   "metadata": {},
   "source": [
    "# Oppgave 21 - Salmon Lice"
   ]
  },
  {
   "cell_type": "code",
   "execution_count": 85,
   "metadata": {},
   "outputs": [
    {
     "data": {
      "text/html": [
       "<div>\n",
       "<style scoped>\n",
       "    .dataframe tbody tr th:only-of-type {\n",
       "        vertical-align: middle;\n",
       "    }\n",
       "\n",
       "    .dataframe tbody tr th {\n",
       "        vertical-align: top;\n",
       "    }\n",
       "\n",
       "    .dataframe thead th {\n",
       "        text-align: right;\n",
       "    }\n",
       "</style>\n",
       "<table border=\"1\" class=\"dataframe\">\n",
       "  <thead>\n",
       "    <tr style=\"text-align: right;\">\n",
       "      <th></th>\n",
       "      <th>SalmonLice</th>\n",
       "      <th>Farm</th>\n",
       "      <th>CleanerFish</th>\n",
       "    </tr>\n",
       "  </thead>\n",
       "  <tbody>\n",
       "    <tr>\n",
       "      <th>0</th>\n",
       "      <td>1.753024</td>\n",
       "      <td>Farm 1</td>\n",
       "      <td>Lumpfish</td>\n",
       "    </tr>\n",
       "    <tr>\n",
       "      <th>1</th>\n",
       "      <td>1.086809</td>\n",
       "      <td>Farm 1</td>\n",
       "      <td>Lumpfish</td>\n",
       "    </tr>\n",
       "    <tr>\n",
       "      <th>2</th>\n",
       "      <td>1.185394</td>\n",
       "      <td>Farm 1</td>\n",
       "      <td>Lumpfish</td>\n",
       "    </tr>\n",
       "    <tr>\n",
       "      <th>3</th>\n",
       "      <td>1.583848</td>\n",
       "      <td>Farm 1</td>\n",
       "      <td>Lumpfish</td>\n",
       "    </tr>\n",
       "    <tr>\n",
       "      <th>4</th>\n",
       "      <td>1.587465</td>\n",
       "      <td>Farm 1</td>\n",
       "      <td>Lumpfish</td>\n",
       "    </tr>\n",
       "  </tbody>\n",
       "</table>\n",
       "</div>"
      ],
      "text/plain": [
       "   SalmonLice    Farm CleanerFish\n",
       "0    1.753024  Farm 1    Lumpfish\n",
       "1    1.086809  Farm 1    Lumpfish\n",
       "2    1.185394  Farm 1    Lumpfish\n",
       "3    1.583848  Farm 1    Lumpfish\n",
       "4    1.587465  Farm 1    Lumpfish"
      ]
     },
     "execution_count": 85,
     "metadata": {},
     "output_type": "execute_result"
    }
   ],
   "source": [
    "import pandas as pd\n",
    "salmonLice = pd.read_csv('SalmonLice.csv', sep=';', decimal=',')\n",
    "salmonLice.head()"
   ]
  },
  {
   "cell_type": "markdown",
   "metadata": {},
   "source": [
    "## oppgave 21c)"
   ]
  },
  {
   "cell_type": "code",
   "execution_count": 86,
   "metadata": {},
   "outputs": [],
   "source": [
    "import statsmodels.api as sm\n",
    "from statsmodels.formula.api import ols"
   ]
  },
  {
   "cell_type": "markdown",
   "metadata": {},
   "source": [
    "##### Får ikke ut som en vanlig nested model i anova, så legger sammen interaction og CleanerFish for å få Betta_j(i)"
   ]
  },
  {
   "cell_type": "markdown",
   "metadata": {},
   "source": [
    "#### Tar utgangspunkt i at begge er fixed"
   ]
  },
  {
   "cell_type": "code",
   "execution_count": 87,
   "metadata": {},
   "outputs": [
    {
     "data": {
      "text/html": [
       "<div>\n",
       "<style scoped>\n",
       "    .dataframe tbody tr th:only-of-type {\n",
       "        vertical-align: middle;\n",
       "    }\n",
       "\n",
       "    .dataframe tbody tr th {\n",
       "        vertical-align: top;\n",
       "    }\n",
       "\n",
       "    .dataframe thead th {\n",
       "        text-align: right;\n",
       "    }\n",
       "</style>\n",
       "<table border=\"1\" class=\"dataframe\">\n",
       "  <thead>\n",
       "    <tr style=\"text-align: right;\">\n",
       "      <th></th>\n",
       "      <th>df</th>\n",
       "      <th>sum_sq</th>\n",
       "      <th>mean_sq</th>\n",
       "      <th>F</th>\n",
       "      <th>PR(&gt;F)</th>\n",
       "    </tr>\n",
       "  </thead>\n",
       "  <tbody>\n",
       "    <tr>\n",
       "      <th>C(CleanerFish, Sum)</th>\n",
       "      <td>2.0</td>\n",
       "      <td>14.915356</td>\n",
       "      <td>7.457678</td>\n",
       "      <td>56.025682</td>\n",
       "      <td>1.403649e-12</td>\n",
       "    </tr>\n",
       "    <tr>\n",
       "      <th>C(Farm, Sum)</th>\n",
       "      <td>1.0</td>\n",
       "      <td>0.219742</td>\n",
       "      <td>0.219742</td>\n",
       "      <td>1.650811</td>\n",
       "      <td>2.058895e-01</td>\n",
       "    </tr>\n",
       "    <tr>\n",
       "      <th>C(CleanerFish, Sum):C(Farm, Sum)</th>\n",
       "      <td>2.0</td>\n",
       "      <td>1.252197</td>\n",
       "      <td>0.626098</td>\n",
       "      <td>4.703554</td>\n",
       "      <td>1.434658e-02</td>\n",
       "    </tr>\n",
       "    <tr>\n",
       "      <th>Residual</th>\n",
       "      <td>42.0</td>\n",
       "      <td>5.590695</td>\n",
       "      <td>0.133112</td>\n",
       "      <td>NaN</td>\n",
       "      <td>NaN</td>\n",
       "    </tr>\n",
       "  </tbody>\n",
       "</table>\n",
       "</div>"
      ],
      "text/plain": [
       "                                    df     sum_sq   mean_sq          F  \\\n",
       "C(CleanerFish, Sum)                2.0  14.915356  7.457678  56.025682   \n",
       "C(Farm, Sum)                       1.0   0.219742  0.219742   1.650811   \n",
       "C(CleanerFish, Sum):C(Farm, Sum)   2.0   1.252197  0.626098   4.703554   \n",
       "Residual                          42.0   5.590695  0.133112        NaN   \n",
       "\n",
       "                                        PR(>F)  \n",
       "C(CleanerFish, Sum)               1.403649e-12  \n",
       "C(Farm, Sum)                      2.058895e-01  \n",
       "C(CleanerFish, Sum):C(Farm, Sum)  1.434658e-02  \n",
       "Residual                                   NaN  "
      ]
     },
     "execution_count": 87,
     "metadata": {},
     "output_type": "execute_result"
    }
   ],
   "source": [
    "model = ols('SalmonLice ~ C(CleanerFish, Sum)*C(Farm, Sum)', data = salmonLice).fit()\n",
    "anova = sm.stats.anova_lm(model)\n",
    "anova"
   ]
  },
  {
   "cell_type": "code",
   "execution_count": 88,
   "metadata": {},
   "outputs": [],
   "source": [
    "ss_betta_ji = anova['sum_sq'][1] + anova['sum_sq'][2]\n",
    "df_betta_ji = anova['df'][1] + anova['df'][2]\n",
    "ms_betta_ji = ss_betta_ji/df_betta_ji\n",
    "f0_betta_ji = ms_betta_ji/anova['mean_sq'][3]"
   ]
  },
  {
   "cell_type": "code",
   "execution_count": 89,
   "metadata": {},
   "outputs": [
    {
     "name": "stdout",
     "output_type": "stream",
     "text": [
      "ss: 1.4719393586719451\n",
      "ms: 0.4906464528906484\n",
      "df: 3.0\n",
      "f0_betta: 3.685973253898773\n"
     ]
    }
   ],
   "source": [
    "print(f'ss: {ss_betta_ji}\\nms: {ms_betta_ji}\\ndf: {df_betta_ji}\\nf0_betta: {f0_betta_ji}')"
   ]
  },
  {
   "cell_type": "code",
   "execution_count": 90,
   "metadata": {
    "scrolled": true
   },
   "outputs": [
    {
     "data": {
      "text/html": [
       "<div>\n",
       "<style scoped>\n",
       "    .dataframe tbody tr th:only-of-type {\n",
       "        vertical-align: middle;\n",
       "    }\n",
       "\n",
       "    .dataframe tbody tr th {\n",
       "        vertical-align: top;\n",
       "    }\n",
       "\n",
       "    .dataframe thead th {\n",
       "        text-align: right;\n",
       "    }\n",
       "</style>\n",
       "<table border=\"1\" class=\"dataframe\">\n",
       "  <thead>\n",
       "    <tr style=\"text-align: right;\">\n",
       "      <th></th>\n",
       "      <th>df</th>\n",
       "      <th>sum_sq</th>\n",
       "      <th>mean_sq</th>\n",
       "      <th>F</th>\n",
       "      <th>PR(&gt;F)</th>\n",
       "    </tr>\n",
       "  </thead>\n",
       "  <tbody>\n",
       "    <tr>\n",
       "      <th>C(CleanerFish, Sum)</th>\n",
       "      <td>2.0</td>\n",
       "      <td>14.915356</td>\n",
       "      <td>7.457678</td>\n",
       "      <td>56.025682</td>\n",
       "      <td>1.403649e-12</td>\n",
       "    </tr>\n",
       "    <tr>\n",
       "      <th>C(Farm, Sum):C(CleanerFish, Sum)</th>\n",
       "      <td>3.0</td>\n",
       "      <td>1.471939</td>\n",
       "      <td>0.490646</td>\n",
       "      <td>3.685973</td>\n",
       "      <td>1.917547e-02</td>\n",
       "    </tr>\n",
       "    <tr>\n",
       "      <th>Residual</th>\n",
       "      <td>42.0</td>\n",
       "      <td>5.590695</td>\n",
       "      <td>0.133112</td>\n",
       "      <td>NaN</td>\n",
       "      <td>NaN</td>\n",
       "    </tr>\n",
       "  </tbody>\n",
       "</table>\n",
       "</div>"
      ],
      "text/plain": [
       "                                    df     sum_sq   mean_sq          F  \\\n",
       "C(CleanerFish, Sum)                2.0  14.915356  7.457678  56.025682   \n",
       "C(Farm, Sum):C(CleanerFish, Sum)   3.0   1.471939  0.490646   3.685973   \n",
       "Residual                          42.0   5.590695  0.133112        NaN   \n",
       "\n",
       "                                        PR(>F)  \n",
       "C(CleanerFish, Sum)               1.403649e-12  \n",
       "C(Farm, Sum):C(CleanerFish, Sum)  1.917547e-02  \n",
       "Residual                                   NaN  "
      ]
     },
     "execution_count": 90,
     "metadata": {},
     "output_type": "execute_result"
    }
   ],
   "source": [
    "model_nested = ols('SalmonLice ~ C(CleanerFish, Sum) + C(Farm, Sum):C(CleanerFish, Sum)', data = salmonLice).fit()\n",
    "anova_nested = sm.stats.anova_lm(model_nested)\n",
    "anova_nested"
   ]
  },
  {
   "cell_type": "code",
   "execution_count": 91,
   "metadata": {
    "scrolled": true
   },
   "outputs": [
    {
     "name": "stdout",
     "output_type": "stream",
     "text": [
      "\n",
      "\n"
     ]
    },
    {
     "data": {
      "text/html": [
       "<div>\n",
       "<style scoped>\n",
       "    .dataframe tbody tr th:only-of-type {\n",
       "        vertical-align: middle;\n",
       "    }\n",
       "\n",
       "    .dataframe tbody tr th {\n",
       "        vertical-align: top;\n",
       "    }\n",
       "\n",
       "    .dataframe thead th {\n",
       "        text-align: right;\n",
       "    }\n",
       "</style>\n",
       "<table border=\"1\" class=\"dataframe\">\n",
       "  <thead>\n",
       "    <tr style=\"text-align: right;\">\n",
       "      <th></th>\n",
       "      <th></th>\n",
       "      <th>N</th>\n",
       "      <th>Mean</th>\n",
       "      <th>SD</th>\n",
       "      <th>SE</th>\n",
       "      <th>95% Conf.</th>\n",
       "      <th>Interval</th>\n",
       "    </tr>\n",
       "    <tr>\n",
       "      <th>CleanerFish</th>\n",
       "      <th>Farm</th>\n",
       "      <th></th>\n",
       "      <th></th>\n",
       "      <th></th>\n",
       "      <th></th>\n",
       "      <th></th>\n",
       "      <th></th>\n",
       "    </tr>\n",
       "  </thead>\n",
       "  <tbody>\n",
       "    <tr>\n",
       "      <th rowspan=\"2\" valign=\"top\">Control</th>\n",
       "      <th>Farm 1</th>\n",
       "      <td>8</td>\n",
       "      <td>2.0872</td>\n",
       "      <td>0.4590</td>\n",
       "      <td>0.1623</td>\n",
       "      <td>1.7034</td>\n",
       "      <td>2.4709</td>\n",
       "    </tr>\n",
       "    <tr>\n",
       "      <th>Farm 2</th>\n",
       "      <td>8</td>\n",
       "      <td>2.3805</td>\n",
       "      <td>0.3628</td>\n",
       "      <td>0.1283</td>\n",
       "      <td>2.0772</td>\n",
       "      <td>2.6838</td>\n",
       "    </tr>\n",
       "    <tr>\n",
       "      <th rowspan=\"2\" valign=\"top\">Lumpfish</th>\n",
       "      <th>Farm 1</th>\n",
       "      <td>8</td>\n",
       "      <td>1.4424</td>\n",
       "      <td>0.2400</td>\n",
       "      <td>0.0849</td>\n",
       "      <td>1.2417</td>\n",
       "      <td>1.6431</td>\n",
       "    </tr>\n",
       "    <tr>\n",
       "      <th>Farm 2</th>\n",
       "      <td>8</td>\n",
       "      <td>1.1275</td>\n",
       "      <td>0.3006</td>\n",
       "      <td>0.1063</td>\n",
       "      <td>0.8761</td>\n",
       "      <td>1.3788</td>\n",
       "    </tr>\n",
       "    <tr>\n",
       "      <th rowspan=\"2\" valign=\"top\">Wrappers</th>\n",
       "      <th>Farm 1</th>\n",
       "      <td>8</td>\n",
       "      <td>0.6953</td>\n",
       "      <td>0.3519</td>\n",
       "      <td>0.1244</td>\n",
       "      <td>0.4012</td>\n",
       "      <td>0.9895</td>\n",
       "    </tr>\n",
       "    <tr>\n",
       "      <th>Farm 2</th>\n",
       "      <td>8</td>\n",
       "      <td>1.1228</td>\n",
       "      <td>0.4296</td>\n",
       "      <td>0.1519</td>\n",
       "      <td>0.7637</td>\n",
       "      <td>1.4820</td>\n",
       "    </tr>\n",
       "  </tbody>\n",
       "</table>\n",
       "</div>"
      ],
      "text/plain": [
       "                    N    Mean      SD      SE  95% Conf.  Interval\n",
       "CleanerFish Farm                                                  \n",
       "Control     Farm 1  8  2.0872  0.4590  0.1623     1.7034    2.4709\n",
       "            Farm 2  8  2.3805  0.3628  0.1283     2.0772    2.6838\n",
       "Lumpfish    Farm 1  8  1.4424  0.2400  0.0849     1.2417    1.6431\n",
       "            Farm 2  8  1.1275  0.3006  0.1063     0.8761    1.3788\n",
       "Wrappers    Farm 1  8  0.6953  0.3519  0.1244     0.4012    0.9895\n",
       "            Farm 2  8  1.1228  0.4296  0.1519     0.7637    1.4820"
      ]
     },
     "execution_count": 91,
     "metadata": {},
     "output_type": "execute_result"
    }
   ],
   "source": [
    "import researchpy as rp\n",
    "salmonLice['Farm:CleanerFish'] = salmonLice.Farm + ':' + salmonLice.CleanerFish\n",
    "summary_cont = rp.summary_cont(salmonLice.groupby(['CleanerFish', 'Farm'])['SalmonLice'])\n",
    "summary_cont"
   ]
  },
  {
   "cell_type": "code",
   "execution_count": 92,
   "metadata": {},
   "outputs": [
    {
     "name": "stdout",
     "output_type": "stream",
     "text": [
      "Mu: 1.4759473706041673\n",
      "Tau1: 0.7579026293958331\n",
      "Tau2: -0.19099737060416744\n",
      "Tau3: -0.5668973706041672\n"
     ]
    }
   ],
   "source": [
    "mu = salmonLice['SalmonLice'].mean()\n",
    "tau_1 = (summary_cont['Mean'][0]+summary_cont['Mean'][1])/2 - mu\n",
    "tau_2 = (summary_cont['Mean'][2]+summary_cont['Mean'][3])/2 - mu\n",
    "tau_3 = (summary_cont['Mean'][4]+summary_cont['Mean'][5])/2 - mu\n",
    "print(f'Mu: {mu}\\nTau1: {tau_1}\\nTau2: {tau_2}\\nTau3: {tau_3}')"
   ]
  },
  {
   "cell_type": "code",
   "execution_count": 93,
   "metadata": {
    "scrolled": true
   },
   "outputs": [
    {
     "data": {
      "text/html": [
       "<table class=\"simpletable\">\n",
       "<caption>OLS Regression Results</caption>\n",
       "<tr>\n",
       "  <th>Dep. Variable:</th>       <td>SalmonLice</td>    <th>  R-squared:         </th> <td>   0.746</td>\n",
       "</tr>\n",
       "<tr>\n",
       "  <th>Model:</th>                   <td>OLS</td>       <th>  Adj. R-squared:    </th> <td>   0.715</td>\n",
       "</tr>\n",
       "<tr>\n",
       "  <th>Method:</th>             <td>Least Squares</td>  <th>  F-statistic:       </th> <td>   24.62</td>\n",
       "</tr>\n",
       "<tr>\n",
       "  <th>Date:</th>             <td>Tue, 25 Aug 2020</td> <th>  Prob (F-statistic):</th> <td>1.70e-11</td>\n",
       "</tr>\n",
       "<tr>\n",
       "  <th>Time:</th>                 <td>15:19:36</td>     <th>  Log-Likelihood:    </th> <td> -16.507</td>\n",
       "</tr>\n",
       "<tr>\n",
       "  <th>No. Observations:</th>      <td>    48</td>      <th>  AIC:               </th> <td>   45.01</td>\n",
       "</tr>\n",
       "<tr>\n",
       "  <th>Df Residuals:</th>          <td>    42</td>      <th>  BIC:               </th> <td>   56.24</td>\n",
       "</tr>\n",
       "<tr>\n",
       "  <th>Df Model:</th>              <td>     5</td>      <th>                     </th>     <td> </td>   \n",
       "</tr>\n",
       "<tr>\n",
       "  <th>Covariance Type:</th>      <td>nonrobust</td>    <th>                     </th>     <td> </td>   \n",
       "</tr>\n",
       "</table>\n",
       "<table class=\"simpletable\">\n",
       "<tr>\n",
       "                             <td></td>                               <th>coef</th>     <th>std err</th>      <th>t</th>      <th>P>|t|</th>  <th>[0.025</th>    <th>0.975]</th>  \n",
       "</tr>\n",
       "<tr>\n",
       "  <th>Intercept</th>                                              <td>    1.4759</td> <td>    0.053</td> <td>   28.027</td> <td> 0.000</td> <td>    1.370</td> <td>    1.582</td>\n",
       "</tr>\n",
       "<tr>\n",
       "  <th>C(CleanerFish, Sum)[S.Control]</th>                         <td>    0.7579</td> <td>    0.074</td> <td>   10.177</td> <td> 0.000</td> <td>    0.608</td> <td>    0.908</td>\n",
       "</tr>\n",
       "<tr>\n",
       "  <th>C(CleanerFish, Sum)[S.Lumpfish]</th>                        <td>   -0.1910</td> <td>    0.074</td> <td>   -2.565</td> <td> 0.014</td> <td>   -0.341</td> <td>   -0.041</td>\n",
       "</tr>\n",
       "<tr>\n",
       "  <th>C(Farm, Sum)[S.Farm 1]:C(CleanerFish, Sum)[mean]</th>       <td>   -0.0677</td> <td>    0.053</td> <td>   -1.285</td> <td> 0.206</td> <td>   -0.174</td> <td>    0.039</td>\n",
       "</tr>\n",
       "<tr>\n",
       "  <th>C(Farm, Sum)[S.Farm 1]:C(CleanerFish, Sum)[S.Control]</th>  <td>   -0.0790</td> <td>    0.074</td> <td>   -1.061</td> <td> 0.295</td> <td>   -0.229</td> <td>    0.071</td>\n",
       "</tr>\n",
       "<tr>\n",
       "  <th>C(Farm, Sum)[S.Farm 1]:C(CleanerFish, Sum)[S.Lumpfish]</th> <td>    0.2251</td> <td>    0.074</td> <td>    3.023</td> <td> 0.004</td> <td>    0.075</td> <td>    0.375</td>\n",
       "</tr>\n",
       "</table>\n",
       "<table class=\"simpletable\">\n",
       "<tr>\n",
       "  <th>Omnibus:</th>       <td> 1.769</td> <th>  Durbin-Watson:     </th> <td>   2.207</td>\n",
       "</tr>\n",
       "<tr>\n",
       "  <th>Prob(Omnibus):</th> <td> 0.413</td> <th>  Jarque-Bera (JB):  </th> <td>   1.184</td>\n",
       "</tr>\n",
       "<tr>\n",
       "  <th>Skew:</th>          <td> 0.044</td> <th>  Prob(JB):          </th> <td>   0.553</td>\n",
       "</tr>\n",
       "<tr>\n",
       "  <th>Kurtosis:</th>      <td> 2.236</td> <th>  Cond. No.          </th> <td>    1.73</td>\n",
       "</tr>\n",
       "</table><br/><br/>Warnings:<br/>[1] Standard Errors assume that the covariance matrix of the errors is correctly specified."
      ],
      "text/plain": [
       "<class 'statsmodels.iolib.summary.Summary'>\n",
       "\"\"\"\n",
       "                            OLS Regression Results                            \n",
       "==============================================================================\n",
       "Dep. Variable:             SalmonLice   R-squared:                       0.746\n",
       "Model:                            OLS   Adj. R-squared:                  0.715\n",
       "Method:                 Least Squares   F-statistic:                     24.62\n",
       "Date:                Tue, 25 Aug 2020   Prob (F-statistic):           1.70e-11\n",
       "Time:                        15:19:36   Log-Likelihood:                -16.507\n",
       "No. Observations:                  48   AIC:                             45.01\n",
       "Df Residuals:                      42   BIC:                             56.24\n",
       "Df Model:                           5                                         \n",
       "Covariance Type:            nonrobust                                         \n",
       "==========================================================================================================================\n",
       "                                                             coef    std err          t      P>|t|      [0.025      0.975]\n",
       "--------------------------------------------------------------------------------------------------------------------------\n",
       "Intercept                                                  1.4759      0.053     28.027      0.000       1.370       1.582\n",
       "C(CleanerFish, Sum)[S.Control]                             0.7579      0.074     10.177      0.000       0.608       0.908\n",
       "C(CleanerFish, Sum)[S.Lumpfish]                           -0.1910      0.074     -2.565      0.014      -0.341      -0.041\n",
       "C(Farm, Sum)[S.Farm 1]:C(CleanerFish, Sum)[mean]          -0.0677      0.053     -1.285      0.206      -0.174       0.039\n",
       "C(Farm, Sum)[S.Farm 1]:C(CleanerFish, Sum)[S.Control]     -0.0790      0.074     -1.061      0.295      -0.229       0.071\n",
       "C(Farm, Sum)[S.Farm 1]:C(CleanerFish, Sum)[S.Lumpfish]     0.2251      0.074      3.023      0.004       0.075       0.375\n",
       "==============================================================================\n",
       "Omnibus:                        1.769   Durbin-Watson:                   2.207\n",
       "Prob(Omnibus):                  0.413   Jarque-Bera (JB):                1.184\n",
       "Skew:                           0.044   Prob(JB):                        0.553\n",
       "Kurtosis:                       2.236   Cond. No.                         1.73\n",
       "==============================================================================\n",
       "\n",
       "Warnings:\n",
       "[1] Standard Errors assume that the covariance matrix of the errors is correctly specified.\n",
       "\"\"\""
      ]
     },
     "execution_count": 93,
     "metadata": {},
     "output_type": "execute_result"
    }
   ],
   "source": [
    "model_nested.summary()"
   ]
  },
  {
   "cell_type": "markdown",
   "metadata": {},
   "source": [
    "## oppg 21d)"
   ]
  },
  {
   "cell_type": "code",
   "execution_count": 94,
   "metadata": {},
   "outputs": [
    {
     "data": {
      "text/html": [
       "<div>\n",
       "<style scoped>\n",
       "    .dataframe tbody tr th:only-of-type {\n",
       "        vertical-align: middle;\n",
       "    }\n",
       "\n",
       "    .dataframe tbody tr th {\n",
       "        vertical-align: top;\n",
       "    }\n",
       "\n",
       "    .dataframe thead th {\n",
       "        text-align: right;\n",
       "    }\n",
       "</style>\n",
       "<table border=\"1\" class=\"dataframe\">\n",
       "  <thead>\n",
       "    <tr style=\"text-align: right;\">\n",
       "      <th></th>\n",
       "      <th>df</th>\n",
       "      <th>sum_sq</th>\n",
       "      <th>mean_sq</th>\n",
       "      <th>F</th>\n",
       "      <th>PR(&gt;F)</th>\n",
       "    </tr>\n",
       "  </thead>\n",
       "  <tbody>\n",
       "    <tr>\n",
       "      <th>C(Farm, Sum)</th>\n",
       "      <td>1.0</td>\n",
       "      <td>0.219742</td>\n",
       "      <td>0.219742</td>\n",
       "      <td>1.650811</td>\n",
       "      <td>2.058895e-01</td>\n",
       "    </tr>\n",
       "    <tr>\n",
       "      <th>C(CleanerFish, Sum)</th>\n",
       "      <td>2.0</td>\n",
       "      <td>14.915356</td>\n",
       "      <td>7.457678</td>\n",
       "      <td>56.025682</td>\n",
       "      <td>1.403649e-12</td>\n",
       "    </tr>\n",
       "    <tr>\n",
       "      <th>C(Farm, Sum):C(CleanerFish, Sum)</th>\n",
       "      <td>2.0</td>\n",
       "      <td>1.252197</td>\n",
       "      <td>0.626098</td>\n",
       "      <td>4.703554</td>\n",
       "      <td>1.434658e-02</td>\n",
       "    </tr>\n",
       "    <tr>\n",
       "      <th>Residual</th>\n",
       "      <td>42.0</td>\n",
       "      <td>5.590695</td>\n",
       "      <td>0.133112</td>\n",
       "      <td>NaN</td>\n",
       "      <td>NaN</td>\n",
       "    </tr>\n",
       "  </tbody>\n",
       "</table>\n",
       "</div>"
      ],
      "text/plain": [
       "                                    df     sum_sq   mean_sq          F  \\\n",
       "C(Farm, Sum)                       1.0   0.219742  0.219742   1.650811   \n",
       "C(CleanerFish, Sum)                2.0  14.915356  7.457678  56.025682   \n",
       "C(Farm, Sum):C(CleanerFish, Sum)   2.0   1.252197  0.626098   4.703554   \n",
       "Residual                          42.0   5.590695  0.133112        NaN   \n",
       "\n",
       "                                        PR(>F)  \n",
       "C(Farm, Sum)                      2.058895e-01  \n",
       "C(CleanerFish, Sum)               1.403649e-12  \n",
       "C(Farm, Sum):C(CleanerFish, Sum)  1.434658e-02  \n",
       "Residual                                   NaN  "
      ]
     },
     "execution_count": 94,
     "metadata": {},
     "output_type": "execute_result"
    }
   ],
   "source": [
    "model = ols('SalmonLice ~ C(Farm, Sum)*C(CleanerFish, Sum)', data = salmonLice).fit()\n",
    "anova = sm.stats.anova_lm(model)\n",
    "anova"
   ]
  },
  {
   "cell_type": "markdown",
   "metadata": {},
   "source": [
    "## oppg 21e)"
   ]
  },
  {
   "cell_type": "code",
   "execution_count": 95,
   "metadata": {},
   "outputs": [
    {
     "data": {
      "text/html": [
       "<div>\n",
       "<style scoped>\n",
       "    .dataframe tbody tr th:only-of-type {\n",
       "        vertical-align: middle;\n",
       "    }\n",
       "\n",
       "    .dataframe tbody tr th {\n",
       "        vertical-align: top;\n",
       "    }\n",
       "\n",
       "    .dataframe thead th {\n",
       "        text-align: right;\n",
       "    }\n",
       "</style>\n",
       "<table border=\"1\" class=\"dataframe\">\n",
       "  <thead>\n",
       "    <tr style=\"text-align: right;\">\n",
       "      <th></th>\n",
       "      <th>df</th>\n",
       "      <th>sum_sq</th>\n",
       "      <th>mean_sq</th>\n",
       "      <th>F</th>\n",
       "      <th>PR(&gt;F)</th>\n",
       "    </tr>\n",
       "  </thead>\n",
       "  <tbody>\n",
       "    <tr>\n",
       "      <th>C(CleanerFish, Sum)</th>\n",
       "      <td>2.0</td>\n",
       "      <td>14.915356</td>\n",
       "      <td>7.457678</td>\n",
       "      <td>56.025682</td>\n",
       "      <td>1.403649e-12</td>\n",
       "    </tr>\n",
       "    <tr>\n",
       "      <th>C(Farm, Sum):C(CleanerFish, Sum)</th>\n",
       "      <td>3.0</td>\n",
       "      <td>1.471939</td>\n",
       "      <td>0.490646</td>\n",
       "      <td>3.685973</td>\n",
       "      <td>1.917547e-02</td>\n",
       "    </tr>\n",
       "    <tr>\n",
       "      <th>Residual</th>\n",
       "      <td>42.0</td>\n",
       "      <td>5.590695</td>\n",
       "      <td>0.133112</td>\n",
       "      <td>NaN</td>\n",
       "      <td>NaN</td>\n",
       "    </tr>\n",
       "  </tbody>\n",
       "</table>\n",
       "</div>"
      ],
      "text/plain": [
       "                                    df     sum_sq   mean_sq          F  \\\n",
       "C(CleanerFish, Sum)                2.0  14.915356  7.457678  56.025682   \n",
       "C(Farm, Sum):C(CleanerFish, Sum)   3.0   1.471939  0.490646   3.685973   \n",
       "Residual                          42.0   5.590695  0.133112        NaN   \n",
       "\n",
       "                                        PR(>F)  \n",
       "C(CleanerFish, Sum)               1.403649e-12  \n",
       "C(Farm, Sum):C(CleanerFish, Sum)  1.917547e-02  \n",
       "Residual                                   NaN  "
      ]
     },
     "execution_count": 95,
     "metadata": {},
     "output_type": "execute_result"
    }
   ],
   "source": [
    "model_nested = ols('SalmonLice ~ C(CleanerFish, Sum) + C(Farm, Sum):C(CleanerFish, Sum)', data = salmonLice).fit()\n",
    "anova_nested = sm.stats.anova_lm(model_nested)\n",
    "anova_nested"
   ]
  },
  {
   "cell_type": "markdown",
   "metadata": {},
   "source": [
    "##### beregner en ny F0 til cleanerFish fordi Farm er random....."
   ]
  },
  {
   "cell_type": "code",
   "execution_count": 104,
   "metadata": {},
   "outputs": [
    {
     "name": "stdout",
     "output_type": "stream",
     "text": [
      "F0: 15.19969833073694\n",
      "f_alpha: 9.552094495921155\n",
      "Rejcet: True\n"
     ]
    }
   ],
   "source": [
    "import scipy.stats as stats\n",
    "alpha = 0.05\n",
    "ms_a = anova_nested['mean_sq'][0]\n",
    "ms_ba = anova_nested['mean_sq'][1]\n",
    "df_a = anova_nested['df'][0]\n",
    "df_ba = anova_nested['df'][1]\n",
    "F0 = ms_a/ms_ba\n",
    "f_alpha = stats.f.isf(alpha, df_a, df_ba)\n",
    "print(f'F0: {F0}\\nf_alpha: {f_alpha}\\nRejcet: {F0>f_alpha}')"
   ]
  },
  {
   "cell_type": "markdown",
   "metadata": {},
   "source": [
    "## oppg 21f) - er lump og wrappers bedre enn kontroll??? "
   ]
  },
  {
   "cell_type": "code",
   "execution_count": 108,
   "metadata": {},
   "outputs": [
    {
     "name": "stdout",
     "output_type": "stream",
     "text": [
      "Mu: 1.4759473706041673\n",
      "Tau_control: 0.7579026293958331\n",
      "Tau_lumpfish: -0.19099737060416744\n",
      "Tau_wrappers: -0.5668973706041672\n"
     ]
    }
   ],
   "source": [
    "mu = salmonLice['SalmonLice'].mean()\n",
    "tau_control = (summary_cont['Mean'][0]+summary_cont['Mean'][1])/2 - mu\n",
    "tau_lumpfish = (summary_cont['Mean'][2]+summary_cont['Mean'][3])/2 - mu\n",
    "tau_wrappers = (summary_cont['Mean'][4]+summary_cont['Mean'][5])/2 - mu\n",
    "print(f'Mu: {mu}\\nTau_control: {tau_control}\\nTau_lumpfish: {tau_lumpfish}\\nTau_wrappers: {tau_wrappers}')"
   ]
  },
  {
   "cell_type": "code",
   "execution_count": 119,
   "metadata": {},
   "outputs": [
    {
     "name": "stdout",
     "output_type": "stream",
     "text": [
      "T0: -5.300699642645096\n",
      "t_alpha: 3.1824463052842638\n",
      "Reject: True\n"
     ]
    }
   ],
   "source": [
    "import scipy.stats as stats\n",
    "alpha = 0.05\n",
    "c1 = 0.5\n",
    "c2 = 0.5\n",
    "c3 = -1\n",
    "b = 2\n",
    "n = 8\n",
    "gamma_hatt = (tau_lumpfish*c1)+(tau_wrappers*c2)+(tau_control*c3)\n",
    "ms_ba = anova_nested['mean_sq'][1]\n",
    "se_gamma_hatt = ((ms_ba/(b*n))*(c1**2+c2**2+c3**2))**0.5\n",
    "t_alpha = stats.t.isf(alpha/2, df_ba)\n",
    "t0 = gamma_hatt/se_gamma_hatt\n",
    "print(f'T0: {t0}\\nt_alpha: {t_alpha}\\nReject: {abs(t0)>t_alpha}')"
   ]
  },
  {
   "cell_type": "markdown",
   "metadata": {},
   "source": [
    "## oppg 21h) \n",
    "##### vi ser allerede på anova resultatet at vi kan forkaste H0 med alpha=0.05. Dermed er det egentlig ikke vits å gjøre testen, men kan gjøre det for 'morroksyld' (hvis jeg regner det som random, så må det gjøres endringer i tiligere oppgaver også (oppg c og e))"
   ]
  },
  {
   "cell_type": "code",
   "execution_count": 120,
   "metadata": {},
   "outputs": [
    {
     "data": {
      "text/html": [
       "<div>\n",
       "<style scoped>\n",
       "    .dataframe tbody tr th:only-of-type {\n",
       "        vertical-align: middle;\n",
       "    }\n",
       "\n",
       "    .dataframe tbody tr th {\n",
       "        vertical-align: top;\n",
       "    }\n",
       "\n",
       "    .dataframe thead th {\n",
       "        text-align: right;\n",
       "    }\n",
       "</style>\n",
       "<table border=\"1\" class=\"dataframe\">\n",
       "  <thead>\n",
       "    <tr style=\"text-align: right;\">\n",
       "      <th></th>\n",
       "      <th>df</th>\n",
       "      <th>sum_sq</th>\n",
       "      <th>mean_sq</th>\n",
       "      <th>F</th>\n",
       "      <th>PR(&gt;F)</th>\n",
       "    </tr>\n",
       "  </thead>\n",
       "  <tbody>\n",
       "    <tr>\n",
       "      <th>C(CleanerFish, Sum)</th>\n",
       "      <td>2.0</td>\n",
       "      <td>14.915356</td>\n",
       "      <td>7.457678</td>\n",
       "      <td>56.025682</td>\n",
       "      <td>1.403649e-12</td>\n",
       "    </tr>\n",
       "    <tr>\n",
       "      <th>C(Farm, Sum):C(CleanerFish, Sum)</th>\n",
       "      <td>3.0</td>\n",
       "      <td>1.471939</td>\n",
       "      <td>0.490646</td>\n",
       "      <td>3.685973</td>\n",
       "      <td>1.917547e-02</td>\n",
       "    </tr>\n",
       "    <tr>\n",
       "      <th>Residual</th>\n",
       "      <td>42.0</td>\n",
       "      <td>5.590695</td>\n",
       "      <td>0.133112</td>\n",
       "      <td>NaN</td>\n",
       "      <td>NaN</td>\n",
       "    </tr>\n",
       "  </tbody>\n",
       "</table>\n",
       "</div>"
      ],
      "text/plain": [
       "                                    df     sum_sq   mean_sq          F  \\\n",
       "C(CleanerFish, Sum)                2.0  14.915356  7.457678  56.025682   \n",
       "C(Farm, Sum):C(CleanerFish, Sum)   3.0   1.471939  0.490646   3.685973   \n",
       "Residual                          42.0   5.590695  0.133112        NaN   \n",
       "\n",
       "                                        PR(>F)  \n",
       "C(CleanerFish, Sum)               1.403649e-12  \n",
       "C(Farm, Sum):C(CleanerFish, Sum)  1.917547e-02  \n",
       "Residual                                   NaN  "
      ]
     },
     "execution_count": 120,
     "metadata": {},
     "output_type": "execute_result"
    }
   ],
   "source": [
    "anova_nested"
   ]
  },
  {
   "cell_type": "code",
   "execution_count": 121,
   "metadata": {},
   "outputs": [
    {
     "name": "stdout",
     "output_type": "stream",
     "text": [
      "F0: 3.685973253898773\n",
      "f_alpha: 2.8270487120861265\n",
      "Reject: True\n"
     ]
    }
   ],
   "source": [
    "alpha = 0.05\n",
    "ms_ba = anova_nested['mean_sq'][1]\n",
    "ms_e = anova_nested['mean_sq'][2]\n",
    "df_ba = anova_nested['df'][1]\n",
    "df_e = anova_nested['df'][2]\n",
    "f_alpha = stats.f.isf(alpha, df_ba, df_e)\n",
    "f0 = ms_ba/ms_e\n",
    "print(f'F0: {f0}\\nf_alpha: {f_alpha}\\nReject: {abs(f0)>f_alpha}')"
   ]
  },
  {
   "cell_type": "markdown",
   "metadata": {},
   "source": [
    "# OPPGAVE 22"
   ]
  },
  {
   "cell_type": "markdown",
   "metadata": {},
   "source": [
    "## oppg 22b)"
   ]
  },
  {
   "cell_type": "markdown",
   "metadata": {},
   "source": [
    "#### Tar utgangspunkt i at Tau og betta er random"
   ]
  },
  {
   "cell_type": "code",
   "execution_count": 3,
   "metadata": {},
   "outputs": [],
   "source": [
    "import pandas as pd\n",
    "import statsmodels.api as sm \n",
    "from statsmodels.formula.api import ols\n",
    "ex14 = pd.read_csv('EX14_1Montg_data.csv', sep=';', decimal=',')"
   ]
  },
  {
   "cell_type": "code",
   "execution_count": 4,
   "metadata": {},
   "outputs": [
    {
     "data": {
      "text/html": [
       "<div>\n",
       "<style scoped>\n",
       "    .dataframe tbody tr th:only-of-type {\n",
       "        vertical-align: middle;\n",
       "    }\n",
       "\n",
       "    .dataframe tbody tr th {\n",
       "        vertical-align: top;\n",
       "    }\n",
       "\n",
       "    .dataframe thead th {\n",
       "        text-align: right;\n",
       "    }\n",
       "</style>\n",
       "<table border=\"1\" class=\"dataframe\">\n",
       "  <thead>\n",
       "    <tr style=\"text-align: right;\">\n",
       "      <th></th>\n",
       "      <th>df</th>\n",
       "      <th>sum_sq</th>\n",
       "      <th>mean_sq</th>\n",
       "      <th>F</th>\n",
       "      <th>PR(&gt;F)</th>\n",
       "    </tr>\n",
       "  </thead>\n",
       "  <tbody>\n",
       "    <tr>\n",
       "      <th>C(Supplier, Sum)</th>\n",
       "      <td>2.0</td>\n",
       "      <td>15.055556</td>\n",
       "      <td>7.527778</td>\n",
       "      <td>2.852632</td>\n",
       "      <td>0.077363</td>\n",
       "    </tr>\n",
       "    <tr>\n",
       "      <th>C(Supplier, Sum):C(Batch, Sum)</th>\n",
       "      <td>9.0</td>\n",
       "      <td>69.916667</td>\n",
       "      <td>7.768519</td>\n",
       "      <td>2.943860</td>\n",
       "      <td>0.016674</td>\n",
       "    </tr>\n",
       "    <tr>\n",
       "      <th>Residual</th>\n",
       "      <td>24.0</td>\n",
       "      <td>63.333333</td>\n",
       "      <td>2.638889</td>\n",
       "      <td>NaN</td>\n",
       "      <td>NaN</td>\n",
       "    </tr>\n",
       "  </tbody>\n",
       "</table>\n",
       "</div>"
      ],
      "text/plain": [
       "                                  df     sum_sq   mean_sq         F    PR(>F)\n",
       "C(Supplier, Sum)                 2.0  15.055556  7.527778  2.852632  0.077363\n",
       "C(Supplier, Sum):C(Batch, Sum)   9.0  69.916667  7.768519  2.943860  0.016674\n",
       "Residual                        24.0  63.333333  2.638889       NaN       NaN"
      ]
     },
     "execution_count": 4,
     "metadata": {},
     "output_type": "execute_result"
    }
   ],
   "source": [
    "model_test = ols('Purity ~ C(Supplier, Sum) + C(Supplier, Sum):C(Batch, Sum)', data = ex14).fit()\n",
    "anova_test = sm.stats.anova_lm(model_test)\n",
    "anova_test"
   ]
  },
  {
   "cell_type": "markdown",
   "metadata": {},
   "source": [
    "#### Siden betta og tau er random, så må vi regne ut F til tau på nytt, beregne sigma til betta og sigma til tau.\n",
    "##### I første omgang beregner vi bare sigmaene og mu"
   ]
  },
  {
   "cell_type": "code",
   "execution_count": 6,
   "metadata": {},
   "outputs": [
    {
     "name": "stdout",
     "output_type": "stream",
     "text": [
      "Mu: 0.3611111111111111\n",
      "sigma2: 2.638888888888889\n",
      "sigma2_b(a): 1.7098765432098766\n",
      "simga2_a: -0.020061728395061856\n"
     ]
    }
   ],
   "source": [
    "n = 3\n",
    "a = 3\n",
    "b = 4\n",
    "mu_ex = ex14['Purity'].mean()\n",
    "sigma2 = anova_test['mean_sq'][2]\n",
    "sigma2_ba = (anova_test['mean_sq'][1]-anova_test['mean_sq'][2])/n\n",
    "sigma2_a = (anova_test['mean_sq'][0] - anova_test['mean_sq'][1])/(b*a)\n",
    "print(f'Mu: {mu_ex}\\nsigma2: {sigma2}\\nsigma2_b(a): {sigma2_ba}\\nsimga2_a: {sigma2_a}')"
   ]
  },
  {
   "cell_type": "code",
   "execution_count": null,
   "metadata": {},
   "outputs": [],
   "source": []
  },
  {
   "cell_type": "code",
   "execution_count": 10,
   "metadata": {},
   "outputs": [
    {
     "data": {
      "text/plain": [
       "0.2295034452119975"
      ]
     },
     "execution_count": 10,
     "metadata": {},
     "output_type": "execute_result"
    }
   ],
   "source": [
    "import scipy.stats as stats\n",
    "stats.f.isf(0.975,8,9)"
   ]
  },
  {
   "cell_type": "code",
   "execution_count": null,
   "metadata": {},
   "outputs": [],
   "source": []
  }
 ],
 "metadata": {
  "kernelspec": {
   "display_name": "Python 3",
   "language": "python",
   "name": "python3"
  },
  "language_info": {
   "codemirror_mode": {
    "name": "ipython",
    "version": 3
   },
   "file_extension": ".py",
   "mimetype": "text/x-python",
   "name": "python",
   "nbconvert_exporter": "python",
   "pygments_lexer": "ipython3",
   "version": "3.8.5"
  }
 },
 "nbformat": 4,
 "nbformat_minor": 4
}
