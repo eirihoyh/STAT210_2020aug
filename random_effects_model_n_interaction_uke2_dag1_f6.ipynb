{
 "cells": [
  {
   "cell_type": "markdown",
   "metadata": {},
   "source": [
    "# Oppg 12, data fra R fil"
   ]
  },
  {
   "cell_type": "code",
   "execution_count": 8,
   "metadata": {},
   "outputs": [],
   "source": [
    "import numpy as np\n",
    "import matplotlib.pyplot as plt"
   ]
  },
  {
   "cell_type": "code",
   "execution_count": 9,
   "metadata": {},
   "outputs": [],
   "source": [
    "mu = 0       # Set overall mean\n",
    "sigma2_t = 1 # Set variance component for treatment\n",
    "sigma2 = 1   # Set variance component for error\n",
    "a = 5        # Number of treatments\n",
    "n = 8        # Number of replicates\n",
    "\n",
    "alpha = 0.05 # Significance level\n",
    "\n",
    "t = np.random.normal(mu, sigma2_t**0.5, a)\n",
    "e = np.random.normal(mu, sigma2**0.5, a*n)"
   ]
  },
  {
   "cell_type": "markdown",
   "metadata": {},
   "source": [
    "# GJØRES SENERE, MYE JOBB, UNØDVENIDG JOBB"
   ]
  },
  {
   "cell_type": "code",
   "execution_count": null,
   "metadata": {},
   "outputs": [],
   "source": []
  },
  {
   "cell_type": "markdown",
   "metadata": {},
   "source": [
    "# oppg 13, tilbake til sires, men skal nå regne dem som 5 'random idividuals from a large population of sires'"
   ]
  },
  {
   "cell_type": "code",
   "execution_count": 54,
   "metadata": {},
   "outputs": [],
   "source": [
    "import pandas as pd\n",
    "import statsmodels.api as sm\n",
    "from statsmodels.formula.api import ols\n",
    "import scipy.stats as stats\n",
    "from statsmodels.formula.api import mixedlm\n"
   ]
  },
  {
   "cell_type": "code",
   "execution_count": 55,
   "metadata": {},
   "outputs": [
    {
     "name": "stdout",
     "output_type": "stream",
     "text": [
      "            df      sum_sq        mean_sq         F    PR(>F)\n",
      "C(Sire)    4.0  1251009.35  312752.337500  2.805913  0.040379\n",
      "Residual  35.0  3901165.75  111461.878571       NaN       NaN\n",
      "                 Mixed Linear Model Regression Results\n",
      "=======================================================================\n",
      "Model:                  MixedLM     Dependent Variable:     Milk       \n",
      "No. Observations:       40          Method:                 REML       \n",
      "No. Groups:             5           Scale:                  111461.8786\n",
      "Min. group size:        8           Log-Likelihood:         -258.2366  \n",
      "Max. group size:        8           Converged:              Yes        \n",
      "Mean group size:        8.0                                            \n",
      "-----------------------------------------------------------------------\n",
      "               Coef.        Std.Err.      z    P>|z|   [0.025   0.975] \n",
      "-----------------------------------------------------------------------\n",
      "Intercept      6689.250         354.111 18.890 0.000  5995.205 7383.295\n",
      "C(Sire)[T.2]   -407.250         500.789 -0.813 0.416 -1388.778  574.278\n",
      "C(Sire)[T.3]   -363.500         500.789 -0.726 0.468 -1345.028  618.028\n",
      "C(Sire)[T.4]    -18.125         500.789 -0.036 0.971  -999.653  963.403\n",
      "C(Sire)[T.5]    -66.625         500.789 -0.133 0.894 -1048.153  914.903\n",
      "Sire Var     111461.879 11202451459.438                                \n",
      "=======================================================================\n",
      "\n"
     ]
    }
   ],
   "source": [
    "sires = pd.read_csv('SiresData.csv', sep=';')\n",
    "model_4_anova = ols('Milk~ C(Sire)', data=sires).fit()\n",
    "model = mixedlm('Milk~ C(Sire)',groups='Sire', data=sires).fit()\n",
    "anova_table = sm.stats.anova_lm(model_4_anova)\n",
    "print(anova_table)\n",
    "print(model.summary())"
   ]
  },
  {
   "cell_type": "code",
   "execution_count": 4,
   "metadata": {},
   "outputs": [
    {
     "name": "stdout",
     "output_type": "stream",
     "text": [
      "Med et signifikansnivå på 0.05, får vi en f_alpha på 2.641.\n",
      "F0 er på 2.806\n",
      "Dermed så blir forkastning = True\n"
     ]
    }
   ],
   "source": [
    "ms_tr = anova_table['mean_sq'][0]\n",
    "ms_e = anova_table['mean_sq'][1]\n",
    "F0 = ms_tr/ms_e\n",
    "df_tr = anova_table['df'][0]\n",
    "df_e = anova_table['df'][1]\n",
    "alpha = 0.05\n",
    "f_alpha = stats.f.ppf(1-alpha, df_tr, df_e)\n",
    "print(f'Med et signifikansnivå på {alpha}, får vi en f_alpha på {round(f_alpha, 3)}.\\n'\n",
    "     f'F0 er på {round(F0,3)}\\n'\n",
    "     f'Dermed så blir forkastning = {F0 > f_alpha}')"
   ]
  },
  {
   "cell_type": "markdown",
   "metadata": {},
   "source": [
    "# Estimer alle parameterene i modellen"
   ]
  },
  {
   "cell_type": "code",
   "execution_count": 5,
   "metadata": {},
   "outputs": [
    {
     "name": "stdout",
     "output_type": "stream",
     "text": [
      "Mu: 6518.15\n",
      "Sigma2: 111461.88\n",
      "Sigma2_t: 25161.31\n"
     ]
    }
   ],
   "source": [
    "mu = sires['Milk'].mean()\n",
    "ms_tr = anova_table['mean_sq'][0]\n",
    "ms_e = anova_table['mean_sq'][1]\n",
    "sigma2 = ms_e\n",
    "sigma2_t = (ms_tr-ms_e)/8\n",
    "print(f'Mu: {mu}\\nSigma2: {round(sigma2,2)}\\nSigma2_t: {round(sigma2_t,2)}')"
   ]
  },
  {
   "cell_type": "markdown",
   "metadata": {},
   "source": [
    "# Finn et 95% CI for 'overal mean' og 'error variance'"
   ]
  },
  {
   "cell_type": "code",
   "execution_count": 11,
   "metadata": {},
   "outputs": [
    {
     "name": "stdout",
     "output_type": "stream",
     "text": [
      "Konfidensintervallet for \"error variance\" er:\n",
      "[73325.56797465835, 189658.9196664783]\n"
     ]
    }
   ],
   "source": [
    "alpha = 0.05\n",
    "chi_square_left = stats.chi2.isf(alpha/2, df_e)\n",
    "chi_square_right = stats.chi2.ppf(alpha/2, df_e)\n",
    "CI_error = [(df_e*ms_e)/chi_square_left, (df_e*ms_e)/chi_square_right]\n",
    "print(f'Konfidensintervallet for \"error variance\" er:\\n{CI_error}')"
   ]
  },
  {
   "cell_type": "markdown",
   "metadata": {},
   "source": [
    "# Estimer 'interclass correlation' (eller 'interclass correlation coefficient' (CCI)) og finn et 90% CI"
   ]
  },
  {
   "cell_type": "code",
   "execution_count": 53,
   "metadata": {},
   "outputs": [
    {
     "name": "stdout",
     "output_type": "stream",
     "text": [
      "Konfidensintervallet for \"overal mean\" er:\n",
      "[6272.645544834256, 6763.6544551657435]\n",
      "2.7764451051977987 88.42402635879021\n"
     ]
    }
   ],
   "source": [
    "mean = mu\n",
    "alpha = 0.05\n",
    "df = df_tr\n",
    "t_alpha = stats.t.ppf((1+1-alpha)/2, df)\n",
    "a = 5\n",
    "n = 8\n",
    "se_mean = (ms_tr/(a*n))**0.5\n",
    "CI_mean = [mean-(t_alpha*se_mean), mean+(t_alpha*se_mean)]\n",
    "print(f'Konfidensintervallet for \"overal mean\" er:\\n{CI_mean}')\n",
    "print(t_alpha, se_mean)"
   ]
  },
  {
   "cell_type": "markdown",
   "metadata": {},
   "source": [
    "## CCI reflekterer andelen av variansen av en observasjon som er resultatet av forskjellen mellom behandlingene (MÅ FINNE EN BEDRE FORKLARING ENN DETTE...!!!!)"
   ]
  },
  {
   "cell_type": "markdown",
   "metadata": {},
   "source": [
    "## CCI er mellom 1 og 0 og vi finner approkimasjonen av CCI ved å gjøre dette"
   ]
  },
  {
   "cell_type": "code",
   "execution_count": 12,
   "metadata": {},
   "outputs": [
    {
     "name": "stdout",
     "output_type": "stream",
     "text": [
      "Dette er estimatet for CCI: 0.18416571970135354\n"
     ]
    }
   ],
   "source": [
    "sigma2 = ms_e\n",
    "sigma2_t = (ms_tr-ms_e)/8\n",
    "CCI = sigma2_t/(sigma2_t+sigma2)\n",
    "print(f'Dette er estimatet for CCI: {CCI}')"
   ]
  },
  {
   "cell_type": "code",
   "execution_count": 13,
   "metadata": {},
   "outputs": [
    {
     "name": "stdout",
     "output_type": "stream",
     "text": [
      "Konfidensintervallet for CCI er:\n",
      "[0.00772194482056908, 0.6533233033432835]\n"
     ]
    }
   ],
   "source": [
    "n = 8\n",
    "alpha = 0.1\n",
    "f_alpha_U = stats.f.ppf(alpha/2, df_tr, df_e)\n",
    "f_alpha_L = stats.f.isf(alpha/2, df_tr, df_e)\n",
    "L = (1/n)*((ms_tr/ms_e)*(1/f_alpha_L)-1)\n",
    "U = (1/n)*((ms_tr/ms_e)*(1/f_alpha_U)-1)\n",
    "CI_CCI = [L/(1+L), U/(1+U)]\n",
    "print(f'Konfidensintervallet for CCI er:\\n{CI_CCI}')"
   ]
  },
  {
   "cell_type": "code",
   "execution_count": 14,
   "metadata": {},
   "outputs": [
    {
     "name": "stdout",
     "output_type": "stream",
     "text": [
      "Konfidensintervallet for CCI er:\n",
      "[-0.014870697996370445, 0.7390855539064741]\n"
     ]
    }
   ],
   "source": [
    "# 95% CI\n",
    "f_alpha_U = stats.f.ppf(0.05/2, df_tr, df_e)\n",
    "f_alpha_L = stats.f.isf(0.05/2, df_tr, df_e)\n",
    "L = (1/n)*((ms_tr/ms_e)*(1/f_alpha_L)-1)\n",
    "U = (1/n)*((ms_tr/ms_e)*(1/f_alpha_U)-1)\n",
    "CI_CCI = [L/(1+L), U/(1+U)]\n",
    "print(f'Konfidensintervallet for CCI er:\\n{CI_CCI}')"
   ]
  },
  {
   "cell_type": "markdown",
   "metadata": {},
   "source": [
    "### Når man bruker et 95% CI så kommer man under 0, som ikke er et oppnåelig tall (fordi CCI kan bare ligge mellom 0 og 1) "
   ]
  },
  {
   "cell_type": "code",
   "execution_count": null,
   "metadata": {},
   "outputs": [],
   "source": []
  },
  {
   "cell_type": "code",
   "execution_count": null,
   "metadata": {},
   "outputs": [],
   "source": []
  },
  {
   "cell_type": "markdown",
   "metadata": {},
   "source": [
    "# OPPG 14, Beefcarcasses, INTERACTION"
   ]
  },
  {
   "cell_type": "code",
   "execution_count": 1,
   "metadata": {},
   "outputs": [],
   "source": [
    "import pandas as pd\n",
    "import statsmodels.api as sm\n",
    "from statsmodels.formula.api import ols\n",
    "import researchpy as rp"
   ]
  },
  {
   "cell_type": "code",
   "execution_count": 2,
   "metadata": {},
   "outputs": [],
   "source": [
    "beef = pd.read_csv('Beefcarcasses.csv', sep=';', decimal=',')"
   ]
  },
  {
   "cell_type": "code",
   "execution_count": 3,
   "metadata": {},
   "outputs": [
    {
     "name": "stdout",
     "output_type": "stream",
     "text": [
      "\n",
      "\n"
     ]
    }
   ],
   "source": [
    "summary_cont = rp.summary_cont(beef.groupby(['Gender', 'Breed'])['KFactor'])"
   ]
  },
  {
   "cell_type": "markdown",
   "metadata": {},
   "source": [
    "### Finn ut om det er noe 'interaction'"
   ]
  },
  {
   "cell_type": "code",
   "execution_count": 4,
   "metadata": {},
   "outputs": [
    {
     "name": "stdout",
     "output_type": "stream",
     "text": [
      "                df     sum_sq    mean_sq          F        PR(>F)\n",
      "Gender         1.0   4.248510   4.248510  29.385833  9.012233e-07\n",
      "Breed          2.0  22.914767  11.457383  79.247720  2.851685e-18\n",
      "Gender:Breed   2.0   0.297809   0.148904   1.029933  3.626971e-01\n",
      "Residual      66.0   9.542070   0.144577        NaN           NaN\n"
     ]
    }
   ],
   "source": [
    "model = ols('KFactor ~ Gender * Breed', data=beef).fit()\n",
    "anova_table = sm.stats.anova_lm(model)\n",
    "print(anova_table)"
   ]
  },
  {
   "cell_type": "code",
   "execution_count": 5,
   "metadata": {},
   "outputs": [
    {
     "name": "stdout",
     "output_type": "stream",
     "text": [
      "SST: 37.00315627959843\n",
      "SSA: 4.248510345896551\n",
      "SSB: 22.914766963576337\n",
      "SSAB: 0.29780879828485074\n",
      "SSE: 9.542070171840692\n"
     ]
    }
   ],
   "source": [
    "SST = 0\n",
    "SSA = 0\n",
    "SSB = 0\n",
    "SSAB = 0\n",
    "SSE = 0\n",
    "for i in range(4):\n",
    "    SST += anova_table['sum_sq'][i]\n",
    "    if i == 0:\n",
    "        SSA = anova_table['sum_sq'][i]\n",
    "    if i == 1:\n",
    "        SSB = anova_table['sum_sq'][i]\n",
    "    if i == 2:\n",
    "        SSAB = anova_table['sum_sq'][i]\n",
    "    if i == 3:\n",
    "        SSE = anova_table['sum_sq'][i]\n",
    "\n",
    "print(f'SST: {SST}\\nSSA: {SSA}\\nSSB: {SSB}\\nSSAB: {SSAB}\\nSSE: {SSE}')"
   ]
  },
  {
   "cell_type": "markdown",
   "metadata": {},
   "source": [
    "## Lag et plot med KFactor som response og Breed på x-aksen"
   ]
  },
  {
   "cell_type": "code",
   "execution_count": 6,
   "metadata": {},
   "outputs": [],
   "source": [
    "import matplotlib.pyplot as plt"
   ]
  },
  {
   "cell_type": "code",
   "execution_count": 7,
   "metadata": {},
   "outputs": [
    {
     "data": {
      "text/html": [
       "<div>\n",
       "<style scoped>\n",
       "    .dataframe tbody tr th:only-of-type {\n",
       "        vertical-align: middle;\n",
       "    }\n",
       "\n",
       "    .dataframe tbody tr th {\n",
       "        vertical-align: top;\n",
       "    }\n",
       "\n",
       "    .dataframe thead th {\n",
       "        text-align: right;\n",
       "    }\n",
       "</style>\n",
       "<table border=\"1\" class=\"dataframe\">\n",
       "  <thead>\n",
       "    <tr style=\"text-align: right;\">\n",
       "      <th></th>\n",
       "      <th></th>\n",
       "      <th>N</th>\n",
       "      <th>Mean</th>\n",
       "      <th>SD</th>\n",
       "      <th>SE</th>\n",
       "      <th>95% Conf.</th>\n",
       "      <th>Interval</th>\n",
       "    </tr>\n",
       "    <tr>\n",
       "      <th>Gender</th>\n",
       "      <th>Breed</th>\n",
       "      <th></th>\n",
       "      <th></th>\n",
       "      <th></th>\n",
       "      <th></th>\n",
       "      <th></th>\n",
       "      <th></th>\n",
       "    </tr>\n",
       "  </thead>\n",
       "  <tbody>\n",
       "    <tr>\n",
       "      <th rowspan=\"3\" valign=\"top\">Bull</th>\n",
       "      <th>Holstein</th>\n",
       "      <td>12</td>\n",
       "      <td>3.1583</td>\n",
       "      <td>0.2617</td>\n",
       "      <td>0.0755</td>\n",
       "      <td>2.9921</td>\n",
       "      <td>3.3246</td>\n",
       "    </tr>\n",
       "    <tr>\n",
       "      <th>Limousin</th>\n",
       "      <td>12</td>\n",
       "      <td>4.3199</td>\n",
       "      <td>0.4331</td>\n",
       "      <td>0.1250</td>\n",
       "      <td>4.0447</td>\n",
       "      <td>4.5950</td>\n",
       "    </tr>\n",
       "    <tr>\n",
       "      <th>NRF</th>\n",
       "      <td>12</td>\n",
       "      <td>3.3972</td>\n",
       "      <td>0.4541</td>\n",
       "      <td>0.1311</td>\n",
       "      <td>3.1087</td>\n",
       "      <td>3.6858</td>\n",
       "    </tr>\n",
       "    <tr>\n",
       "      <th rowspan=\"3\" valign=\"top\">Cow</th>\n",
       "      <th>Holstein</th>\n",
       "      <td>12</td>\n",
       "      <td>2.5804</td>\n",
       "      <td>0.3705</td>\n",
       "      <td>0.1069</td>\n",
       "      <td>2.3450</td>\n",
       "      <td>2.8157</td>\n",
       "    </tr>\n",
       "    <tr>\n",
       "      <th>Limousin</th>\n",
       "      <td>12</td>\n",
       "      <td>4.0160</td>\n",
       "      <td>0.4904</td>\n",
       "      <td>0.1416</td>\n",
       "      <td>3.7044</td>\n",
       "      <td>4.3275</td>\n",
       "    </tr>\n",
       "    <tr>\n",
       "      <th>NRF</th>\n",
       "      <td>12</td>\n",
       "      <td>2.8216</td>\n",
       "      <td>0.1659</td>\n",
       "      <td>0.0479</td>\n",
       "      <td>2.7162</td>\n",
       "      <td>2.9270</td>\n",
       "    </tr>\n",
       "  </tbody>\n",
       "</table>\n",
       "</div>"
      ],
      "text/plain": [
       "                  N    Mean      SD      SE  95% Conf.  Interval\n",
       "Gender Breed                                                    \n",
       "Bull   Holstein  12  3.1583  0.2617  0.0755     2.9921    3.3246\n",
       "       Limousin  12  4.3199  0.4331  0.1250     4.0447    4.5950\n",
       "       NRF       12  3.3972  0.4541  0.1311     3.1087    3.6858\n",
       "Cow    Holstein  12  2.5804  0.3705  0.1069     2.3450    2.8157\n",
       "       Limousin  12  4.0160  0.4904  0.1416     3.7044    4.3275\n",
       "       NRF       12  2.8216  0.1659  0.0479     2.7162    2.9270"
      ]
     },
     "execution_count": 7,
     "metadata": {},
     "output_type": "execute_result"
    }
   ],
   "source": [
    "names = ['Holstein', 'Limousin', 'NRF']\n",
    "mean_bull = [summary_cont['Mean'][i] for i in range(3)]\n",
    "mean_cow = [summary_cont['Mean'][i] for i in range(3,6)]\n",
    "summary_cont"
   ]
  },
  {
   "cell_type": "code",
   "execution_count": 8,
   "metadata": {
    "scrolled": true
   },
   "outputs": [
    {
     "data": {
      "text/plain": [
       "[<matplotlib.lines.Line2D at 0x1e75b7bc1c8>,\n",
       " <matplotlib.lines.Line2D at 0x1e75be91888>]"
      ]
     },
     "execution_count": 8,
     "metadata": {},
     "output_type": "execute_result"
    },
    {
     "data": {
      "image/png": "[encoded data removed]",
      "text/plain": [
       "<Figure size 432x288 with 1 Axes>"
      ]
     },
     "metadata": {
      "needs_background": "light"
     },
     "output_type": "display_data"
    }
   ],
   "source": [
    "plt.plot(names, mean_bull, 'b--', names, mean_cow, 'r-')"
   ]
  },
  {
   "cell_type": "markdown",
   "metadata": {},
   "source": [
    "## oppg 14e) find SSt, SSa, SSb og SSe, fjerner sammenligningsdelen"
   ]
  },
  {
   "cell_type": "code",
   "execution_count": 9,
   "metadata": {},
   "outputs": [
    {
     "name": "stdout",
     "output_type": "stream",
     "text": [
      "            df     sum_sq    mean_sq          F        PR(>F)\n",
      "Gender     1.0   4.248510   4.248510  29.359985  8.538879e-07\n",
      "Breed      2.0  22.914767  11.457383  79.178014  1.747321e-18\n",
      "Residual  68.0   9.839879   0.144704        NaN           NaN\n"
     ]
    }
   ],
   "source": [
    "model = ols('KFactor ~ Gender + Breed', data=beef).fit()\n",
    "anova_table = sm.stats.anova_lm(model)\n",
    "print(anova_table)"
   ]
  },
  {
   "cell_type": "code",
   "execution_count": 10,
   "metadata": {},
   "outputs": [],
   "source": [
    "SS_A = anova_table['sum_sq'][0]\n",
    "SS_B = anova_table['sum_sq'][1]\n",
    "SS_E = anova_table['sum_sq'][2]\n",
    "SS_T = SS_A + SS_B + SS_E"
   ]
  },
  {
   "cell_type": "code",
   "execution_count": 13,
   "metadata": {},
   "outputs": [
    {
     "name": "stdout",
     "output_type": "stream",
     "text": [
      "SSa: 4.25\n",
      "SSb: 22.91\n",
      "SSe: 9.84\n",
      "SST: 37.0\n"
     ]
    }
   ],
   "source": [
    "print(f'SSa: {round(SS_A,2)}\\nSSb: {round(SS_B,2)}\\nSSe: {round(SS_E,2)}\\nSST: {round(SS_T,2)}')"
   ]
  },
  {
   "cell_type": "code",
   "execution_count": null,
   "metadata": {},
   "outputs": [],
   "source": []
  }
 ],
 "metadata": {
  "kernelspec": {
   "display_name": "Python 3",
   "language": "python",
   "name": "python3"
  },
  "language_info": {
   "codemirror_mode": {
    "name": "ipython",
    "version": 3
   },
   "file_extension": ".py",
   "mimetype": "text/x-python",
   "name": "python",
   "nbconvert_exporter": "python",
   "pygments_lexer": "ipython3",
   "version": "3.8.5"
  }
 },
 "nbformat": 4,
 "nbformat_minor": 4
}
